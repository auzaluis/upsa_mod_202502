{
  "nbformat": 4,
  "nbformat_minor": 0,
  "metadata": {
    "colab": {
      "provenance": [],
      "authorship_tag": "ABX9TyPwaSd5f/+M3Kv2uvzAuIvq",
      "include_colab_link": true
    },
    "kernelspec": {
      "name": "python3",
      "display_name": "Python 3"
    },
    "language_info": {
      "name": "python"
    }
  },
  "cells": [
    {
      "cell_type": "markdown",
      "metadata": {
        "id": "view-in-github",
        "colab_type": "text"
      },
      "source": [
        "<a href=\"https://colab.research.google.com/github/auzaluis/upsa_mod_202502/blob/master/personalidad/01_script_ETL_personalidad.ipynb\" target=\"_parent\"><img src=\"https://colab.research.google.com/assets/colab-badge.svg\" alt=\"Open In Colab\"/></a>"
      ]
    },
    {
      "cell_type": "markdown",
      "source": [
        "## Tema 01: Carga de datos"
      ],
      "metadata": {
        "id": "cxLPOuZoLMhU"
      }
    },
    {
      "cell_type": "markdown",
      "source": [
        "### Importando base de datos"
      ],
      "metadata": {
        "id": "bEhCs0uuLS9k"
      }
    },
    {
      "cell_type": "code",
      "execution_count": null,
      "metadata": {
        "id": "gVnZH6l9R4X7"
      },
      "outputs": [],
      "source": [
        "# Google Auth\n",
        "from google.colab import auth\n",
        "auth.authenticate_user()\n",
        "print('Authenticated')"
      ]
    },
    {
      "cell_type": "code",
      "source": [
        "# API client\n",
        "from google.auth import default\n",
        "creds, _ = default()"
      ],
      "metadata": {
        "id": "Nmf4QmfcM7lN"
      },
      "execution_count": null,
      "outputs": []
    },
    {
      "cell_type": "code",
      "source": [
        "# gspread authorization\n",
        "import gspread\n",
        "gc = gspread.authorize(creds)"
      ],
      "metadata": {
        "id": "D26Dj5zjN-HU"
      },
      "execution_count": null,
      "outputs": []
    },
    {
      "cell_type": "code",
      "source": [
        "# Accediendo al Google Sheet\n",
        "url = 'https://docs.google.com/spreadsheets/d/1IQ_RxxTSmBKHTExlxboIRNlMov_F6RyqdcOPrflCv_w/edit?usp=sharing'\n",
        "gsheets = gc.open_by_url(url)\n",
        "sheets = gsheets.worksheet('Respuestas de formulario 1').get_all_values()"
      ],
      "metadata": {
        "id": "-wQLLrG2OneF"
      },
      "execution_count": null,
      "outputs": []
    },
    {
      "cell_type": "code",
      "source": [
        "type(sheets)"
      ],
      "metadata": {
        "id": "G5mCDNlMPZN4"
      },
      "execution_count": null,
      "outputs": []
    },
    {
      "cell_type": "code",
      "source": [
        "# Convirtiendo a data frame\n",
        "import pandas as pd\n",
        "df = pd.DataFrame(sheets[1:], columns=sheets[0])"
      ],
      "metadata": {
        "id": "OPJ6dkFsQm-E"
      },
      "execution_count": null,
      "outputs": []
    },
    {
      "cell_type": "markdown",
      "source": [
        "### Inspección del data frame"
      ],
      "metadata": {
        "id": "ugCnuL9xR_wd"
      }
    },
    {
      "cell_type": "code",
      "source": [
        "type(df)"
      ],
      "metadata": {
        "id": "AvU9mccvSDDY"
      },
      "execution_count": null,
      "outputs": []
    },
    {
      "cell_type": "code",
      "source": [
        "df.head()"
      ],
      "metadata": {
        "id": "zUCa3oc2SN5p"
      },
      "execution_count": null,
      "outputs": []
    },
    {
      "cell_type": "code",
      "source": [
        "# Ver la estructura del df\n",
        "df.info()"
      ],
      "metadata": {
        "id": "g8D_thDBScnm"
      },
      "execution_count": null,
      "outputs": []
    },
    {
      "cell_type": "code",
      "source": [
        "# Tupla con la cantidad de filas y columnas\n",
        "df.shape"
      ],
      "metadata": {
        "id": "aDLcDwbVStL6"
      },
      "execution_count": null,
      "outputs": []
    },
    {
      "cell_type": "code",
      "source": [
        "# Cantidad de filas\n",
        "len(df)"
      ],
      "metadata": {
        "id": "zyzvuurASyUa"
      },
      "execution_count": null,
      "outputs": []
    },
    {
      "cell_type": "code",
      "source": [
        "# Cantidad de columnas\n",
        "len(df.columns)"
      ],
      "metadata": {
        "id": "Z0uUS2_FTYZD"
      },
      "execution_count": null,
      "outputs": []
    },
    {
      "cell_type": "code",
      "source": [
        "df.columns"
      ],
      "metadata": {
        "id": "yi9bTzAFS7GQ"
      },
      "execution_count": null,
      "outputs": []
    },
    {
      "cell_type": "markdown",
      "source": [
        "## Tema 02: Transformación de datos"
      ],
      "metadata": {
        "id": "HP5FyIYOUM5Y"
      }
    },
    {
      "cell_type": "markdown",
      "source": [
        "### Valores perdidos"
      ],
      "metadata": {
        "id": "lcw4Xf_KUTMP"
      }
    },
    {
      "cell_type": "markdown",
      "source": [
        "Identificando NAs"
      ],
      "metadata": {
        "id": "u5SEnccUUVuE"
      }
    },
    {
      "cell_type": "code",
      "source": [
        "df[['Escribe tu edad exacta']]"
      ],
      "metadata": {
        "id": "W8m7oXziUUUT"
      },
      "execution_count": null,
      "outputs": []
    },
    {
      "cell_type": "code",
      "source": [
        "# Los NAs están como strings vacíos\n",
        "import numpy as np\n",
        "df.replace('', np.nan, inplace=True)"
      ],
      "metadata": {
        "id": "n-_JfoGTVAJc"
      },
      "execution_count": null,
      "outputs": []
    },
    {
      "cell_type": "code",
      "source": [
        "df.info()"
      ],
      "metadata": {
        "id": "a36eMkp9Vwv7"
      },
      "execution_count": null,
      "outputs": []
    },
    {
      "cell_type": "code",
      "source": [
        "df['Escribe tu edad exacta'].isna().value_counts()"
      ],
      "metadata": {
        "id": "LqZfNK5sV_ip"
      },
      "execution_count": null,
      "outputs": []
    },
    {
      "cell_type": "markdown",
      "source": [
        "Tratando los NAs"
      ],
      "metadata": {
        "id": "aEVNMinvgfZ2"
      }
    },
    {
      "cell_type": "code",
      "source": [
        "df['Escribe tu edad exacta'].dtype"
      ],
      "metadata": {
        "id": "d7nveL0ogoS3"
      },
      "execution_count": null,
      "outputs": []
    },
    {
      "cell_type": "code",
      "source": [
        "df['Escribe tu edad exacta'] = pd.to_numeric(df['Escribe tu edad exacta'], errors='coerce')"
      ],
      "metadata": {
        "id": "OMEfPoFeg_vm"
      },
      "execution_count": null,
      "outputs": []
    },
    {
      "cell_type": "code",
      "source": [
        "df['Escribe tu edad exacta'].dtype"
      ],
      "metadata": {
        "id": "kWa37eKahJI-"
      },
      "execution_count": null,
      "outputs": []
    },
    {
      "cell_type": "markdown",
      "source": [
        "Imputacion por el promedio"
      ],
      "metadata": {
        "id": "mPek3G2ZsLCw"
      }
    },
    {
      "cell_type": "code",
      "source": [
        "# Calcular la media\n",
        "edad_promedio = df['Escribe tu edad exacta'].mean().round(0)\n",
        "edad_promedio"
      ],
      "metadata": {
        "id": "RjVE-YZ6hpVT"
      },
      "execution_count": null,
      "outputs": []
    },
    {
      "cell_type": "code",
      "source": [
        "# Creando un nuevo df\n",
        "df2 = df.copy()"
      ],
      "metadata": {
        "id": "YdwB1MRMiAES"
      },
      "execution_count": null,
      "outputs": []
    },
    {
      "cell_type": "code",
      "source": [
        "# Reemplazo por la media\n",
        "df2['edad2'] = df2['Escribe tu edad exacta'].fillna(edad_promedio)"
      ],
      "metadata": {
        "id": "8CvxacGgiY5w"
      },
      "execution_count": null,
      "outputs": []
    },
    {
      "cell_type": "code",
      "source": [
        "df2[['Escribe tu edad exacta', 'edad2']]"
      ],
      "metadata": {
        "id": "PxoDq_-ui6ZH"
      },
      "execution_count": null,
      "outputs": []
    },
    {
      "cell_type": "code",
      "source": [
        "df2.info()"
      ],
      "metadata": {
        "id": "dm8clmtpkihz"
      },
      "execution_count": null,
      "outputs": []
    },
    {
      "cell_type": "code",
      "source": [
        "# Relocalizar la columna 'edad2' después de 'Escribe tu edad exacta'\n",
        "# lista_columnas = list(df2.columns).index('Escribe tu edad exacta') + 1\n",
        "# lista_columnas"
      ],
      "metadata": {
        "id": "4gGtdeOIlqAe"
      },
      "execution_count": null,
      "outputs": []
    },
    {
      "cell_type": "code",
      "source": [
        "# df2.insert(lista_columnas, 'edad2', df2.pop('edad2'))"
      ],
      "metadata": {
        "id": "3R1DxsSonlei"
      },
      "execution_count": null,
      "outputs": []
    },
    {
      "cell_type": "code",
      "source": [
        "# df2.info()"
      ],
      "metadata": {
        "id": "jG4spu7emfZs"
      },
      "execution_count": null,
      "outputs": []
    },
    {
      "cell_type": "markdown",
      "source": [
        "Creando relocate en py"
      ],
      "metadata": {
        "id": "N0q7-hpSp3P0"
      }
    },
    {
      "cell_type": "code",
      "source": [
        "def relocate(df, columna, after):\n",
        "  lista_columnas = list(df.columns).index(after) + 1\n",
        "  df.insert(lista_columnas, columna, df.pop(columna))\n",
        "  return df"
      ],
      "metadata": {
        "id": "4XAt5pBVp5Fj"
      },
      "execution_count": null,
      "outputs": []
    },
    {
      "cell_type": "code",
      "source": [
        "relocate(\n",
        "    df = df2,\n",
        "    columna = 'edad2',\n",
        "    after = 'Escribe tu edad exacta'\n",
        ")"
      ],
      "metadata": {
        "id": "8A0b-yqRrJPq"
      },
      "execution_count": null,
      "outputs": []
    },
    {
      "cell_type": "code",
      "source": [
        "df2.columns"
      ],
      "metadata": {
        "id": "AA2YUUkzr1Yh"
      },
      "execution_count": null,
      "outputs": []
    },
    {
      "cell_type": "markdown",
      "source": [
        "Eliminando las filas que contienen NAs"
      ],
      "metadata": {
        "id": "0a8Guj5MsOFY"
      }
    },
    {
      "cell_type": "code",
      "source": [
        "df2.shape"
      ],
      "metadata": {
        "id": "t-usSaglsQYv"
      },
      "execution_count": null,
      "outputs": []
    },
    {
      "cell_type": "code",
      "source": [
        "df2.dropna(inplace=True)"
      ],
      "metadata": {
        "id": "mYHBD_LcsTvZ"
      },
      "execution_count": null,
      "outputs": []
    },
    {
      "cell_type": "code",
      "source": [
        "df2.shape"
      ],
      "metadata": {
        "id": "1__qHN92sWvv"
      },
      "execution_count": null,
      "outputs": []
    },
    {
      "cell_type": "code",
      "source": [],
      "metadata": {
        "id": "BL8JYiOBsX-H"
      },
      "execution_count": null,
      "outputs": []
    },
    {
      "cell_type": "markdown",
      "source": [
        "### Estandarización de variables"
      ],
      "metadata": {
        "id": "40BU7q_yNhX_"
      }
    },
    {
      "cell_type": "markdown",
      "source": [
        "#### Normalización"
      ],
      "metadata": {
        "id": "DfRHpplLNnoY"
      }
    },
    {
      "cell_type": "code",
      "source": [
        "from sklearn.preprocessing import StandardScaler"
      ],
      "metadata": {
        "id": "qL9bsf0PNlQe"
      },
      "execution_count": null,
      "outputs": []
    },
    {
      "cell_type": "code",
      "source": [
        "# Instanciando StandardScaler()\n",
        "normalizador = StandardScaler()"
      ],
      "metadata": {
        "id": "J7RmZrWzN64g"
      },
      "execution_count": null,
      "outputs": []
    },
    {
      "cell_type": "code",
      "source": [
        "df2[['edad2']]"
      ],
      "metadata": {
        "id": "VfBxSYPdOt8_"
      },
      "execution_count": null,
      "outputs": []
    },
    {
      "cell_type": "code",
      "source": [
        "# normalizando\n",
        "normalizador.fit_transform(df2[['edad2']])"
      ],
      "metadata": {
        "id": "8dqcaXy6OiDg"
      },
      "execution_count": null,
      "outputs": []
    },
    {
      "cell_type": "code",
      "source": [
        "# creando df3\n",
        "df3 = df2.copy()"
      ],
      "metadata": {
        "id": "HtP1Lzc6PJhg"
      },
      "execution_count": null,
      "outputs": []
    },
    {
      "cell_type": "code",
      "source": [
        "df3['edadZ'] = normalizador.fit_transform(df3[['edad2']])"
      ],
      "metadata": {
        "id": "0Tsc3wCFPLau"
      },
      "execution_count": null,
      "outputs": []
    },
    {
      "cell_type": "code",
      "source": [
        "df3 = relocate(\n",
        "    df = df3,\n",
        "    columna = 'edadZ',\n",
        "    after = 'edad2'\n",
        ")"
      ],
      "metadata": {
        "id": "sEEnZlxLPrWv"
      },
      "execution_count": null,
      "outputs": []
    },
    {
      "cell_type": "code",
      "source": [
        "df3.info()"
      ],
      "metadata": {
        "id": "Rrjw0wmSQacP"
      },
      "execution_count": null,
      "outputs": []
    },
    {
      "cell_type": "markdown",
      "source": [
        "#### Rango"
      ],
      "metadata": {
        "id": "jtdryKUsQsqP"
      }
    },
    {
      "cell_type": "code",
      "source": [
        "from sklearn.preprocessing import MinMaxScaler"
      ],
      "metadata": {
        "id": "1w9Ft_QsQuoe"
      },
      "execution_count": null,
      "outputs": []
    },
    {
      "cell_type": "code",
      "source": [
        "# Instanciando MinMaxScaler()\n",
        "rango = MinMaxScaler()"
      ],
      "metadata": {
        "id": "BLYG_dlASa9u"
      },
      "execution_count": null,
      "outputs": []
    },
    {
      "cell_type": "code",
      "source": [
        "df3['edad_rango'] = rango.fit_transform(df3[['edad2']])"
      ],
      "metadata": {
        "id": "oWNEgIc_Skq6"
      },
      "execution_count": 52,
      "outputs": []
    },
    {
      "cell_type": "code",
      "source": [
        "df3 = relocate(\n",
        "    df = df3,\n",
        "    columna = 'edad_rango',\n",
        "    after = 'edadZ'\n",
        ")"
      ],
      "metadata": {
        "id": "iwjctMMVSuYd"
      },
      "execution_count": 53,
      "outputs": []
    },
    {
      "cell_type": "code",
      "source": [
        "df3.info()"
      ],
      "metadata": {
        "id": "AunwsF8oS1Hd"
      },
      "execution_count": null,
      "outputs": []
    },
    {
      "cell_type": "code",
      "source": [
        "df3[['edad2', 'edadZ', 'edad_rango']].head()"
      ],
      "metadata": {
        "id": "ZWo95i8sS69-"
      },
      "execution_count": null,
      "outputs": []
    },
    {
      "cell_type": "markdown",
      "source": [
        "### Agrupaciones"
      ],
      "metadata": {
        "id": "HwsiIt5rThb-"
      }
    },
    {
      "cell_type": "markdown",
      "source": [
        "#### Numéricas"
      ],
      "metadata": {
        "id": "TktokZDrTm5I"
      }
    },
    {
      "cell_type": "code",
      "source": [
        "cortes = [-float('inf'), 18, 21, float('inf')]\n",
        "etiquetas = ['18 o menos', '19 a 21', 'Más de 21']"
      ],
      "metadata": {
        "id": "ilPK_BXGTii9"
      },
      "execution_count": null,
      "outputs": []
    },
    {
      "cell_type": "code",
      "source": [
        "df3['edadGR'] = pd.cut(df3['edad2'], bins=cortes, labels=etiquetas)"
      ],
      "metadata": {
        "id": "o7XyWvSVZJx0"
      },
      "execution_count": null,
      "outputs": []
    },
    {
      "cell_type": "code",
      "source": [
        "df3.value_counts('edadGR', normalize=True)"
      ],
      "metadata": {
        "id": "_DUVj6GjZSkE"
      },
      "execution_count": null,
      "outputs": []
    },
    {
      "cell_type": "code",
      "source": [
        "df3[['edad2', 'edadZ', 'edad_rango', 'edadGR']].head()"
      ],
      "metadata": {
        "id": "1OpoX8VXTPMN"
      },
      "execution_count": null,
      "outputs": []
    },
    {
      "cell_type": "code",
      "source": [
        "df3 = relocate(\n",
        "    df = df3,\n",
        "    columna = 'edadGR',\n",
        "    after = 'edad_rango'\n",
        ")"
      ],
      "metadata": {
        "id": "iWuDLJQceJBl"
      },
      "execution_count": 91,
      "outputs": []
    },
    {
      "cell_type": "code",
      "source": [
        "df3.info()"
      ],
      "metadata": {
        "id": "Thdf9jQGeVU5"
      },
      "execution_count": null,
      "outputs": []
    },
    {
      "cell_type": "markdown",
      "source": [
        "#### Categóricas"
      ],
      "metadata": {
        "id": "XvpAdp1dTnsf"
      }
    },
    {
      "cell_type": "code",
      "source": [
        "df3.info()"
      ],
      "metadata": {
        "id": "1W4o6er2Tqh-"
      },
      "execution_count": null,
      "outputs": []
    },
    {
      "cell_type": "code",
      "source": [
        "pd.unique(df3['Según tu forma de ser ¿Cuál de las siguientes frases te describe mejor: [Busco el éxito sin importar lo que deba sacrificar]'])"
      ],
      "metadata": {
        "id": "YOajPLirT90M"
      },
      "execution_count": null,
      "outputs": []
    },
    {
      "cell_type": "code",
      "source": [
        "pd.unique(df3.iloc[:,12])"
      ],
      "metadata": {
        "id": "Hm6YAIlwUJL4"
      },
      "execution_count": null,
      "outputs": []
    },
    {
      "cell_type": "code",
      "source": [
        "df3['Según tu forma de ser ¿Cuál de las siguientes frases te describe mejor: [Busco hacer cosas emocionantes para no aburrirme]'].value_counts()"
      ],
      "metadata": {
        "id": "9OaC1esEUmha"
      },
      "execution_count": null,
      "outputs": []
    },
    {
      "cell_type": "code",
      "source": [
        "df3.iloc[:,15].value_counts()"
      ],
      "metadata": {
        "id": "nxzZphq-U8g0"
      },
      "execution_count": null,
      "outputs": []
    },
    {
      "cell_type": "markdown",
      "source": [
        "Top 2 Box"
      ],
      "metadata": {
        "id": "gcBQSPBxV7Gh"
      }
    },
    {
      "cell_type": "code",
      "source": [
        "df3.iloc[:,8].value_counts()"
      ],
      "metadata": {
        "id": "z1-JGV2lV3MS"
      },
      "execution_count": null,
      "outputs": []
    },
    {
      "cell_type": "code",
      "source": [
        "df3.iloc[:,8].isin(['Totalmente verdadero', 'Un poco verdadero']).sum()"
      ],
      "metadata": {
        "id": "G9GDZPBQWCD5"
      },
      "execution_count": null,
      "outputs": []
    },
    {
      "cell_type": "code",
      "source": [
        "# Funcion condicional para top2box\n",
        "def top2box(x):\n",
        "  if x in ['Totalmente verdadero', 'Un poco verdadero']:\n",
        "    return 1\n",
        "  else:\n",
        "    return 0"
      ],
      "metadata": {
        "id": "BzoOhT3jW4cS"
      },
      "execution_count": 77,
      "outputs": []
    },
    {
      "cell_type": "code",
      "source": [
        "# Aplicando la funcion\n",
        "(\n",
        "    df3.iloc[:,8]\n",
        "    .apply(top2box)\n",
        "    .value_counts()\n",
        ")"
      ],
      "metadata": {
        "id": "4L5Z5MDpZDCq"
      },
      "execution_count": null,
      "outputs": []
    },
    {
      "cell_type": "code",
      "source": [
        "# Función lambda\n",
        "df3.iloc[:,8].apply(\n",
        "    lambda x: 1 if x in ['Totalmente verdadero', 'Un poco verdadero'] else 0\n",
        ").value_counts()"
      ],
      "metadata": {
        "id": "FnHYWAExZ68p"
      },
      "execution_count": null,
      "outputs": []
    },
    {
      "cell_type": "markdown",
      "source": [
        "### De ordinal a numérica"
      ],
      "metadata": {
        "id": "XjDJKuBdbhOy"
      }
    },
    {
      "cell_type": "code",
      "source": [
        "import numpy as np"
      ],
      "metadata": {
        "id": "UXhMDZ4_busb"
      },
      "execution_count": 83,
      "outputs": []
    },
    {
      "cell_type": "code",
      "source": [
        "df3.iloc[:,8].unique()"
      ],
      "metadata": {
        "colab": {
          "base_uri": "https://localhost:8080/"
        },
        "id": "W5qu9ACZb2vu",
        "outputId": "f52e57fc-d947-4f40-9b08-4fd0609bf84a"
      },
      "execution_count": 84,
      "outputs": [
        {
          "output_type": "execute_result",
          "data": {
            "text/plain": [
              "array(['No lo sé', 'Totalmente verdadero', 'Un poco falso',\n",
              "       'Un poco verdadero', 'Totalmente falso'], dtype=object)"
            ]
          },
          "metadata": {},
          "execution_count": 84
        }
      ]
    },
    {
      "cell_type": "code",
      "source": [
        "# Condiciones\n",
        "condiciones = [\n",
        "    df3.iloc[:,8] == 'Totalmente verdadero',\n",
        "    df3.iloc[:,8] == 'Un poco verdadero',\n",
        "    df3.iloc[:,8] == 'No lo sé',\n",
        "    df3.iloc[:,8] == 'Un poco falso',\n",
        "    df3.iloc[:,8] == 'Totalmente falso'\n",
        "]"
      ],
      "metadata": {
        "id": "pKn0pcUvb-f2"
      },
      "execution_count": 85,
      "outputs": []
    },
    {
      "cell_type": "code",
      "source": [
        "# resultados\n",
        "resultados = [5,4,3,2,1]"
      ],
      "metadata": {
        "id": "z7LmEvn0cPPy"
      },
      "execution_count": 87,
      "outputs": []
    },
    {
      "cell_type": "code",
      "source": [
        "# Usando select\n",
        "numeric = np.select(condiciones, resultados, default=np.nan)\n",
        "numeric"
      ],
      "metadata": {
        "id": "7KzsK7Mqch9a"
      },
      "execution_count": null,
      "outputs": []
    },
    {
      "cell_type": "code",
      "source": [
        "numeric.mean()"
      ],
      "metadata": {
        "id": "2e1yfkM4ctO7"
      },
      "execution_count": null,
      "outputs": []
    },
    {
      "cell_type": "code",
      "source": [
        "np.unique(numeric, return_counts=True)"
      ],
      "metadata": {
        "id": "NgI75g5QehNZ"
      },
      "execution_count": null,
      "outputs": []
    },
    {
      "cell_type": "markdown",
      "source": [
        "## Bucles"
      ],
      "metadata": {
        "id": "UWEI4HC0fEkP"
      }
    },
    {
      "cell_type": "markdown",
      "source": [
        "### Forma standard"
      ],
      "metadata": {
        "id": "SU_-_m6flLcK"
      }
    },
    {
      "cell_type": "code",
      "source": [
        "# Creando el df4\n",
        "df4 = df3.copy()"
      ],
      "metadata": {
        "id": "ZlemyR9zfF3k"
      },
      "execution_count": 116,
      "outputs": []
    },
    {
      "cell_type": "code",
      "source": [
        "df4.info()"
      ],
      "metadata": {
        "id": "j3vElzF6lbId"
      },
      "execution_count": null,
      "outputs": []
    },
    {
      "cell_type": "code",
      "source": [
        "# Creando una lista vacía\n",
        "frases = []\n",
        "\n",
        "# bucle para llenar la lista\n",
        "for col in df4.columns:\n",
        "  if col.startswith('Según'):\n",
        "    frases.append(col)"
      ],
      "metadata": {
        "id": "CKvxpTK4llpb"
      },
      "execution_count": 118,
      "outputs": []
    },
    {
      "cell_type": "code",
      "source": [
        "frases"
      ],
      "metadata": {
        "id": "ACEVXBLqmCp_"
      },
      "execution_count": null,
      "outputs": []
    },
    {
      "cell_type": "code",
      "source": [
        "# aplicando la función top2box a las columnas que pertenecen a 'frase'\n",
        "for frase in frases:\n",
        "  df4[frase] = df4[frase].apply(top2box)"
      ],
      "metadata": {
        "id": "6ARs7CfVniBr"
      },
      "execution_count": 120,
      "outputs": []
    },
    {
      "cell_type": "code",
      "source": [
        "df4[frases].head()"
      ],
      "metadata": {
        "id": "CJcpCI4ooCC6"
      },
      "execution_count": null,
      "outputs": []
    },
    {
      "cell_type": "markdown",
      "source": [
        "### Pythonic way | Forma pythonica"
      ],
      "metadata": {
        "id": "CAXLV6NYo7FM"
      }
    },
    {
      "cell_type": "code",
      "source": [
        "# Creando df5\n",
        "df5 = df3.copy()"
      ],
      "metadata": {
        "id": "ZotlIK_FotY9"
      },
      "execution_count": 122,
      "outputs": []
    },
    {
      "cell_type": "code",
      "source": [
        "# Lista vacía\n",
        "frases = []\n",
        "\n",
        "# Comprehension list\n",
        "frases = [col for col in df5.columns if col.startswith('Según')]"
      ],
      "metadata": {
        "id": "I8pfkkUIpLSS"
      },
      "execution_count": 125,
      "outputs": []
    },
    {
      "cell_type": "code",
      "source": [
        "frases"
      ],
      "metadata": {
        "id": "i_-wGMRUqGp3"
      },
      "execution_count": null,
      "outputs": []
    },
    {
      "cell_type": "code",
      "source": [
        "# Aplicando el bucle, esta vez con lambda\n",
        "for frase in frases:\n",
        "  df5[frase] = df5[frase].apply(lambda x: 1 if x in ['Totalmente verdadero', 'Un poco verdadero'] else 0)"
      ],
      "metadata": {
        "id": "ZuLaUtMLqSfb"
      },
      "execution_count": 127,
      "outputs": []
    },
    {
      "cell_type": "code",
      "source": [
        "df5[frases] == df4[frases]"
      ],
      "metadata": {
        "colab": {
          "base_uri": "https://localhost:8080/",
          "height": 704
        },
        "id": "z_bhEE3dtIMZ",
        "outputId": "65176935-e1d5-424d-d0ae-5c13c786a73e"
      },
      "execution_count": 129,
      "outputs": [
        {
          "output_type": "execute_result",
          "data": {
            "text/plain": [
              "     Según tu forma de ser ¿Cuál de las siguientes frases te describe mejor: [No discrimino y trato a todos por igual]  \\\n",
              "0                                                 True                                                                   \n",
              "1                                                 True                                                                   \n",
              "2                                                 True                                                                   \n",
              "3                                                 True                                                                   \n",
              "4                                                 True                                                                   \n",
              "..                                                 ...                                                                   \n",
              "252                                               True                                                                   \n",
              "253                                               True                                                                   \n",
              "254                                               True                                                                   \n",
              "255                                               True                                                                   \n",
              "256                                               True                                                                   \n",
              "\n",
              "     Según tu forma de ser ¿Cuál de las siguientes frases te describe mejor: [Me gusta comprar marcas que representen mi status]  \\\n",
              "0                                                 True                                                                             \n",
              "1                                                 True                                                                             \n",
              "2                                                 True                                                                             \n",
              "3                                                 True                                                                             \n",
              "4                                                 True                                                                             \n",
              "..                                                 ...                                                                             \n",
              "252                                               True                                                                             \n",
              "253                                               True                                                                             \n",
              "254                                               True                                                                             \n",
              "255                                               True                                                                             \n",
              "256                                               True                                                                             \n",
              "\n",
              "     Según tu forma de ser ¿Cuál de las siguientes frases te describe mejor: [Me preocupa mucho el medio ambiente]  \\\n",
              "0                                                 True                                                               \n",
              "1                                                 True                                                               \n",
              "2                                                 True                                                               \n",
              "3                                                 True                                                               \n",
              "4                                                 True                                                               \n",
              "..                                                 ...                                                               \n",
              "252                                               True                                                               \n",
              "253                                               True                                                               \n",
              "254                                               True                                                               \n",
              "255                                               True                                                               \n",
              "256                                               True                                                               \n",
              "\n",
              "     Según tu forma de ser ¿Cuál de las siguientes frases te describe mejor: [Estudio mucho, doy mi mayor esfuerzo]  \\\n",
              "0                                                 True                                                                \n",
              "1                                                 True                                                                \n",
              "2                                                 True                                                                \n",
              "3                                                 True                                                                \n",
              "4                                                 True                                                                \n",
              "..                                                 ...                                                                \n",
              "252                                               True                                                                \n",
              "253                                               True                                                                \n",
              "254                                               True                                                                \n",
              "255                                               True                                                                \n",
              "256                                               True                                                                \n",
              "\n",
              "     Según tu forma de ser ¿Cuál de las siguientes frases te describe mejor: [Busco el éxito sin importar lo que deba sacrificar]  \\\n",
              "0                                                 True                                                                              \n",
              "1                                                 True                                                                              \n",
              "2                                                 True                                                                              \n",
              "3                                                 True                                                                              \n",
              "4                                                 True                                                                              \n",
              "..                                                 ...                                                                              \n",
              "252                                               True                                                                              \n",
              "253                                               True                                                                              \n",
              "254                                               True                                                                              \n",
              "255                                               True                                                                              \n",
              "256                                               True                                                                              \n",
              "\n",
              "     Según tu forma de ser ¿Cuál de las siguientes frases te describe mejor: [Trato de vestir sencillo para no presumir]  \\\n",
              "0                                                 True                                                                     \n",
              "1                                                 True                                                                     \n",
              "2                                                 True                                                                     \n",
              "3                                                 True                                                                     \n",
              "4                                                 True                                                                     \n",
              "..                                                 ...                                                                     \n",
              "252                                               True                                                                     \n",
              "253                                               True                                                                     \n",
              "254                                               True                                                                     \n",
              "255                                               True                                                                     \n",
              "256                                               True                                                                     \n",
              "\n",
              "     Según tu forma de ser ¿Cuál de las siguientes frases te describe mejor: [Creo que la vida se trata de tomar riesgos]  \\\n",
              "0                                                 True                                                                      \n",
              "1                                                 True                                                                      \n",
              "2                                                 True                                                                      \n",
              "3                                                 True                                                                      \n",
              "4                                                 True                                                                      \n",
              "..                                                 ...                                                                      \n",
              "252                                               True                                                                      \n",
              "253                                               True                                                                      \n",
              "254                                               True                                                                      \n",
              "255                                               True                                                                      \n",
              "256                                               True                                                                      \n",
              "\n",
              "     Según tu forma de ser ¿Cuál de las siguientes frases te describe mejor: [Busco hacer cosas emocionantes para no aburrirme]  \\\n",
              "0                                                 True                                                                            \n",
              "1                                                 True                                                                            \n",
              "2                                                 True                                                                            \n",
              "3                                                 True                                                                            \n",
              "4                                                 True                                                                            \n",
              "..                                                 ...                                                                            \n",
              "252                                               True                                                                            \n",
              "253                                               True                                                                            \n",
              "254                                               True                                                                            \n",
              "255                                               True                                                                            \n",
              "256                                               True                                                                            \n",
              "\n",
              "     Según tu forma de ser ¿Cuál de las siguientes frases te describe mejor: [En mi casa, la familia es muy importante, por eso paso mucho tiempo con ellos]  \\\n",
              "0                                                 True                                                                                                         \n",
              "1                                                 True                                                                                                         \n",
              "2                                                 True                                                                                                         \n",
              "3                                                 True                                                                                                         \n",
              "4                                                 True                                                                                                         \n",
              "..                                                 ...                                                                                                         \n",
              "252                                               True                                                                                                         \n",
              "253                                               True                                                                                                         \n",
              "254                                               True                                                                                                         \n",
              "255                                               True                                                                                                         \n",
              "256                                               True                                                                                                         \n",
              "\n",
              "     Según tu forma de ser ¿Cuál de las siguientes frases te describe mejor: [Tener dinero es clave para ser respetado]  \\\n",
              "0                                                 True                                                                    \n",
              "1                                                 True                                                                    \n",
              "2                                                 True                                                                    \n",
              "3                                                 True                                                                    \n",
              "4                                                 True                                                                    \n",
              "..                                                 ...                                                                    \n",
              "252                                               True                                                                    \n",
              "253                                               True                                                                    \n",
              "254                                               True                                                                    \n",
              "255                                               True                                                                    \n",
              "256                                               True                                                                    \n",
              "\n",
              "     ...  \\\n",
              "0    ...   \n",
              "1    ...   \n",
              "2    ...   \n",
              "3    ...   \n",
              "4    ...   \n",
              "..   ...   \n",
              "252  ...   \n",
              "253  ...   \n",
              "254  ...   \n",
              "255  ...   \n",
              "256  ...   \n",
              "\n",
              "     Según tu forma de ser ¿Cuál de las siguientes frases te describe mejor: [Me gusta comer sano y estar en forma]  \\\n",
              "0                                                 True                                                                \n",
              "1                                                 True                                                                \n",
              "2                                                 True                                                                \n",
              "3                                                 True                                                                \n",
              "4                                                 True                                                                \n",
              "..                                                 ...                                                                \n",
              "252                                               True                                                                \n",
              "253                                               True                                                                \n",
              "254                                               True                                                                \n",
              "255                                               True                                                                \n",
              "256                                               True                                                                \n",
              "\n",
              "     Según tu forma de ser ¿Cuál de las siguientes frases te describe mejor: [Vestirse bien es clave para el éxito ]  \\\n",
              "0                                                 True                                                                 \n",
              "1                                                 True                                                                 \n",
              "2                                                 True                                                                 \n",
              "3                                                 True                                                                 \n",
              "4                                                 True                                                                 \n",
              "..                                                 ...                                                                 \n",
              "252                                               True                                                                 \n",
              "253                                               True                                                                 \n",
              "254                                               True                                                                 \n",
              "255                                               True                                                                 \n",
              "256                                               True                                                                 \n",
              "\n",
              "     Según tu forma de ser ¿Cuál de las siguientes frases te describe mejor: [Soy sincero con las personas, aunque la verdad les duela]  \\\n",
              "0                                                 True                                                                                    \n",
              "1                                                 True                                                                                    \n",
              "2                                                 True                                                                                    \n",
              "3                                                 True                                                                                    \n",
              "4                                                 True                                                                                    \n",
              "..                                                 ...                                                                                    \n",
              "252                                               True                                                                                    \n",
              "253                                               True                                                                                    \n",
              "254                                               True                                                                                    \n",
              "255                                               True                                                                                    \n",
              "256                                               True                                                                                    \n",
              "\n",
              "     Según tu forma de ser ¿Cuál de las siguientes frases te describe mejor: [Me preocupo y ayudo a los necesitados]  \\\n",
              "0                                                 True                                                                 \n",
              "1                                                 True                                                                 \n",
              "2                                                 True                                                                 \n",
              "3                                                 True                                                                 \n",
              "4                                                 True                                                                 \n",
              "..                                                 ...                                                                 \n",
              "252                                               True                                                                 \n",
              "253                                               True                                                                 \n",
              "254                                               True                                                                 \n",
              "255                                               True                                                                 \n",
              "256                                               True                                                                 \n",
              "\n",
              "     Según tu forma de ser ¿Cuál de las siguientes frases te describe mejor: [Invierto mucho tiempo y dinero para aprender cosas nuevas]  \\\n",
              "0                                                 True                                                                                     \n",
              "1                                                 True                                                                                     \n",
              "2                                                 True                                                                                     \n",
              "3                                                 True                                                                                     \n",
              "4                                                 True                                                                                     \n",
              "..                                                 ...                                                                                     \n",
              "252                                               True                                                                                     \n",
              "253                                               True                                                                                     \n",
              "254                                               True                                                                                     \n",
              "255                                               True                                                                                     \n",
              "256                                               True                                                                                     \n",
              "\n",
              "     Según tu forma de ser ¿Cuál de las siguientes frases te describe mejor: [Me gusta conocer gente y hacer nuevos amigos]  \\\n",
              "0                                                 True                                                                        \n",
              "1                                                 True                                                                        \n",
              "2                                                 True                                                                        \n",
              "3                                                 True                                                                        \n",
              "4                                                 True                                                                        \n",
              "..                                                 ...                                                                        \n",
              "252                                               True                                                                        \n",
              "253                                               True                                                                        \n",
              "254                                               True                                                                        \n",
              "255                                               True                                                                        \n",
              "256                                               True                                                                        \n",
              "\n",
              "     Según tu forma de ser ¿Cuál de las siguientes frases te describe mejor: [Soy una persona casera, prefiero estar en casa haciendo lo mío]  \\\n",
              "0                                                 True                                                                                          \n",
              "1                                                 True                                                                                          \n",
              "2                                                 True                                                                                          \n",
              "3                                                 True                                                                                          \n",
              "4                                                 True                                                                                          \n",
              "..                                                 ...                                                                                          \n",
              "252                                               True                                                                                          \n",
              "253                                               True                                                                                          \n",
              "254                                               True                                                                                          \n",
              "255                                               True                                                                                          \n",
              "256                                               True                                                                                          \n",
              "\n",
              "     Según tu forma de ser ¿Cuál de las siguientes frases te describe mejor: [Prefiero hacer las cosas solo, me estresa trabajar en grupo]  \\\n",
              "0                                                 True                                                                                       \n",
              "1                                                 True                                                                                       \n",
              "2                                                 True                                                                                       \n",
              "3                                                 True                                                                                       \n",
              "4                                                 True                                                                                       \n",
              "..                                                 ...                                                                                       \n",
              "252                                               True                                                                                       \n",
              "253                                               True                                                                                       \n",
              "254                                               True                                                                                       \n",
              "255                                               True                                                                                       \n",
              "256                                               True                                                                                       \n",
              "\n",
              "     Según tu forma de ser ¿Cuál de las siguientes frases te describe mejor: [Me gusta tener muchos amigos y pasar tiempo con ellos]  \\\n",
              "0                                                 True                                                                                 \n",
              "1                                                 True                                                                                 \n",
              "2                                                 True                                                                                 \n",
              "3                                                 True                                                                                 \n",
              "4                                                 True                                                                                 \n",
              "..                                                 ...                                                                                 \n",
              "252                                               True                                                                                 \n",
              "253                                               True                                                                                 \n",
              "254                                               True                                                                                 \n",
              "255                                               True                                                                                 \n",
              "256                                               True                                                                                 \n",
              "\n",
              "     Según tu forma de ser ¿Cuál de las siguientes frases te describe mejor: [Me cuesta concentrarme porque me aburro rápido de las cosas]  \n",
              "0                                                 True                                                                                      \n",
              "1                                                 True                                                                                      \n",
              "2                                                 True                                                                                      \n",
              "3                                                 True                                                                                      \n",
              "4                                                 True                                                                                      \n",
              "..                                                 ...                                                                                      \n",
              "252                                               True                                                                                      \n",
              "253                                               True                                                                                      \n",
              "254                                               True                                                                                      \n",
              "255                                               True                                                                                      \n",
              "256                                               True                                                                                      \n",
              "\n",
              "[251 rows x 24 columns]"
            ],
            "text/html": [
              "\n",
              "  <div id=\"df-33e30d3d-92b8-415b-9d23-7e015ae478f6\" class=\"colab-df-container\">\n",
              "    <div>\n",
              "<style scoped>\n",
              "    .dataframe tbody tr th:only-of-type {\n",
              "        vertical-align: middle;\n",
              "    }\n",
              "\n",
              "    .dataframe tbody tr th {\n",
              "        vertical-align: top;\n",
              "    }\n",
              "\n",
              "    .dataframe thead th {\n",
              "        text-align: right;\n",
              "    }\n",
              "</style>\n",
              "<table border=\"1\" class=\"dataframe\">\n",
              "  <thead>\n",
              "    <tr style=\"text-align: right;\">\n",
              "      <th></th>\n",
              "      <th>Según tu forma de ser ¿Cuál de las siguientes frases te describe mejor: [No discrimino y trato a todos por igual]</th>\n",
              "      <th>Según tu forma de ser ¿Cuál de las siguientes frases te describe mejor: [Me gusta comprar marcas que representen mi status]</th>\n",
              "      <th>Según tu forma de ser ¿Cuál de las siguientes frases te describe mejor: [Me preocupa mucho el medio ambiente]</th>\n",
              "      <th>Según tu forma de ser ¿Cuál de las siguientes frases te describe mejor: [Estudio mucho, doy mi mayor esfuerzo]</th>\n",
              "      <th>Según tu forma de ser ¿Cuál de las siguientes frases te describe mejor: [Busco el éxito sin importar lo que deba sacrificar]</th>\n",
              "      <th>Según tu forma de ser ¿Cuál de las siguientes frases te describe mejor: [Trato de vestir sencillo para no presumir]</th>\n",
              "      <th>Según tu forma de ser ¿Cuál de las siguientes frases te describe mejor: [Creo que la vida se trata de tomar riesgos]</th>\n",
              "      <th>Según tu forma de ser ¿Cuál de las siguientes frases te describe mejor: [Busco hacer cosas emocionantes para no aburrirme]</th>\n",
              "      <th>Según tu forma de ser ¿Cuál de las siguientes frases te describe mejor: [En mi casa, la familia es muy importante, por eso paso mucho tiempo con ellos]</th>\n",
              "      <th>Según tu forma de ser ¿Cuál de las siguientes frases te describe mejor: [Tener dinero es clave para ser respetado]</th>\n",
              "      <th>...</th>\n",
              "      <th>Según tu forma de ser ¿Cuál de las siguientes frases te describe mejor: [Me gusta comer sano y estar en forma]</th>\n",
              "      <th>Según tu forma de ser ¿Cuál de las siguientes frases te describe mejor: [Vestirse bien es clave para el éxito ]</th>\n",
              "      <th>Según tu forma de ser ¿Cuál de las siguientes frases te describe mejor: [Soy sincero con las personas, aunque la verdad les duela]</th>\n",
              "      <th>Según tu forma de ser ¿Cuál de las siguientes frases te describe mejor: [Me preocupo y ayudo a los necesitados]</th>\n",
              "      <th>Según tu forma de ser ¿Cuál de las siguientes frases te describe mejor: [Invierto mucho tiempo y dinero para aprender cosas nuevas]</th>\n",
              "      <th>Según tu forma de ser ¿Cuál de las siguientes frases te describe mejor: [Me gusta conocer gente y hacer nuevos amigos]</th>\n",
              "      <th>Según tu forma de ser ¿Cuál de las siguientes frases te describe mejor: [Soy una persona casera, prefiero estar en casa haciendo lo mío]</th>\n",
              "      <th>Según tu forma de ser ¿Cuál de las siguientes frases te describe mejor: [Prefiero hacer las cosas solo, me estresa trabajar en grupo]</th>\n",
              "      <th>Según tu forma de ser ¿Cuál de las siguientes frases te describe mejor: [Me gusta tener muchos amigos y pasar tiempo con ellos]</th>\n",
              "      <th>Según tu forma de ser ¿Cuál de las siguientes frases te describe mejor: [Me cuesta concentrarme porque me aburro rápido de las cosas]</th>\n",
              "    </tr>\n",
              "  </thead>\n",
              "  <tbody>\n",
              "    <tr>\n",
              "      <th>0</th>\n",
              "      <td>True</td>\n",
              "      <td>True</td>\n",
              "      <td>True</td>\n",
              "      <td>True</td>\n",
              "      <td>True</td>\n",
              "      <td>True</td>\n",
              "      <td>True</td>\n",
              "      <td>True</td>\n",
              "      <td>True</td>\n",
              "      <td>True</td>\n",
              "      <td>...</td>\n",
              "      <td>True</td>\n",
              "      <td>True</td>\n",
              "      <td>True</td>\n",
              "      <td>True</td>\n",
              "      <td>True</td>\n",
              "      <td>True</td>\n",
              "      <td>True</td>\n",
              "      <td>True</td>\n",
              "      <td>True</td>\n",
              "      <td>True</td>\n",
              "    </tr>\n",
              "    <tr>\n",
              "      <th>1</th>\n",
              "      <td>True</td>\n",
              "      <td>True</td>\n",
              "      <td>True</td>\n",
              "      <td>True</td>\n",
              "      <td>True</td>\n",
              "      <td>True</td>\n",
              "      <td>True</td>\n",
              "      <td>True</td>\n",
              "      <td>True</td>\n",
              "      <td>True</td>\n",
              "      <td>...</td>\n",
              "      <td>True</td>\n",
              "      <td>True</td>\n",
              "      <td>True</td>\n",
              "      <td>True</td>\n",
              "      <td>True</td>\n",
              "      <td>True</td>\n",
              "      <td>True</td>\n",
              "      <td>True</td>\n",
              "      <td>True</td>\n",
              "      <td>True</td>\n",
              "    </tr>\n",
              "    <tr>\n",
              "      <th>2</th>\n",
              "      <td>True</td>\n",
              "      <td>True</td>\n",
              "      <td>True</td>\n",
              "      <td>True</td>\n",
              "      <td>True</td>\n",
              "      <td>True</td>\n",
              "      <td>True</td>\n",
              "      <td>True</td>\n",
              "      <td>True</td>\n",
              "      <td>True</td>\n",
              "      <td>...</td>\n",
              "      <td>True</td>\n",
              "      <td>True</td>\n",
              "      <td>True</td>\n",
              "      <td>True</td>\n",
              "      <td>True</td>\n",
              "      <td>True</td>\n",
              "      <td>True</td>\n",
              "      <td>True</td>\n",
              "      <td>True</td>\n",
              "      <td>True</td>\n",
              "    </tr>\n",
              "    <tr>\n",
              "      <th>3</th>\n",
              "      <td>True</td>\n",
              "      <td>True</td>\n",
              "      <td>True</td>\n",
              "      <td>True</td>\n",
              "      <td>True</td>\n",
              "      <td>True</td>\n",
              "      <td>True</td>\n",
              "      <td>True</td>\n",
              "      <td>True</td>\n",
              "      <td>True</td>\n",
              "      <td>...</td>\n",
              "      <td>True</td>\n",
              "      <td>True</td>\n",
              "      <td>True</td>\n",
              "      <td>True</td>\n",
              "      <td>True</td>\n",
              "      <td>True</td>\n",
              "      <td>True</td>\n",
              "      <td>True</td>\n",
              "      <td>True</td>\n",
              "      <td>True</td>\n",
              "    </tr>\n",
              "    <tr>\n",
              "      <th>4</th>\n",
              "      <td>True</td>\n",
              "      <td>True</td>\n",
              "      <td>True</td>\n",
              "      <td>True</td>\n",
              "      <td>True</td>\n",
              "      <td>True</td>\n",
              "      <td>True</td>\n",
              "      <td>True</td>\n",
              "      <td>True</td>\n",
              "      <td>True</td>\n",
              "      <td>...</td>\n",
              "      <td>True</td>\n",
              "      <td>True</td>\n",
              "      <td>True</td>\n",
              "      <td>True</td>\n",
              "      <td>True</td>\n",
              "      <td>True</td>\n",
              "      <td>True</td>\n",
              "      <td>True</td>\n",
              "      <td>True</td>\n",
              "      <td>True</td>\n",
              "    </tr>\n",
              "    <tr>\n",
              "      <th>...</th>\n",
              "      <td>...</td>\n",
              "      <td>...</td>\n",
              "      <td>...</td>\n",
              "      <td>...</td>\n",
              "      <td>...</td>\n",
              "      <td>...</td>\n",
              "      <td>...</td>\n",
              "      <td>...</td>\n",
              "      <td>...</td>\n",
              "      <td>...</td>\n",
              "      <td>...</td>\n",
              "      <td>...</td>\n",
              "      <td>...</td>\n",
              "      <td>...</td>\n",
              "      <td>...</td>\n",
              "      <td>...</td>\n",
              "      <td>...</td>\n",
              "      <td>...</td>\n",
              "      <td>...</td>\n",
              "      <td>...</td>\n",
              "      <td>...</td>\n",
              "    </tr>\n",
              "    <tr>\n",
              "      <th>252</th>\n",
              "      <td>True</td>\n",
              "      <td>True</td>\n",
              "      <td>True</td>\n",
              "      <td>True</td>\n",
              "      <td>True</td>\n",
              "      <td>True</td>\n",
              "      <td>True</td>\n",
              "      <td>True</td>\n",
              "      <td>True</td>\n",
              "      <td>True</td>\n",
              "      <td>...</td>\n",
              "      <td>True</td>\n",
              "      <td>True</td>\n",
              "      <td>True</td>\n",
              "      <td>True</td>\n",
              "      <td>True</td>\n",
              "      <td>True</td>\n",
              "      <td>True</td>\n",
              "      <td>True</td>\n",
              "      <td>True</td>\n",
              "      <td>True</td>\n",
              "    </tr>\n",
              "    <tr>\n",
              "      <th>253</th>\n",
              "      <td>True</td>\n",
              "      <td>True</td>\n",
              "      <td>True</td>\n",
              "      <td>True</td>\n",
              "      <td>True</td>\n",
              "      <td>True</td>\n",
              "      <td>True</td>\n",
              "      <td>True</td>\n",
              "      <td>True</td>\n",
              "      <td>True</td>\n",
              "      <td>...</td>\n",
              "      <td>True</td>\n",
              "      <td>True</td>\n",
              "      <td>True</td>\n",
              "      <td>True</td>\n",
              "      <td>True</td>\n",
              "      <td>True</td>\n",
              "      <td>True</td>\n",
              "      <td>True</td>\n",
              "      <td>True</td>\n",
              "      <td>True</td>\n",
              "    </tr>\n",
              "    <tr>\n",
              "      <th>254</th>\n",
              "      <td>True</td>\n",
              "      <td>True</td>\n",
              "      <td>True</td>\n",
              "      <td>True</td>\n",
              "      <td>True</td>\n",
              "      <td>True</td>\n",
              "      <td>True</td>\n",
              "      <td>True</td>\n",
              "      <td>True</td>\n",
              "      <td>True</td>\n",
              "      <td>...</td>\n",
              "      <td>True</td>\n",
              "      <td>True</td>\n",
              "      <td>True</td>\n",
              "      <td>True</td>\n",
              "      <td>True</td>\n",
              "      <td>True</td>\n",
              "      <td>True</td>\n",
              "      <td>True</td>\n",
              "      <td>True</td>\n",
              "      <td>True</td>\n",
              "    </tr>\n",
              "    <tr>\n",
              "      <th>255</th>\n",
              "      <td>True</td>\n",
              "      <td>True</td>\n",
              "      <td>True</td>\n",
              "      <td>True</td>\n",
              "      <td>True</td>\n",
              "      <td>True</td>\n",
              "      <td>True</td>\n",
              "      <td>True</td>\n",
              "      <td>True</td>\n",
              "      <td>True</td>\n",
              "      <td>...</td>\n",
              "      <td>True</td>\n",
              "      <td>True</td>\n",
              "      <td>True</td>\n",
              "      <td>True</td>\n",
              "      <td>True</td>\n",
              "      <td>True</td>\n",
              "      <td>True</td>\n",
              "      <td>True</td>\n",
              "      <td>True</td>\n",
              "      <td>True</td>\n",
              "    </tr>\n",
              "    <tr>\n",
              "      <th>256</th>\n",
              "      <td>True</td>\n",
              "      <td>True</td>\n",
              "      <td>True</td>\n",
              "      <td>True</td>\n",
              "      <td>True</td>\n",
              "      <td>True</td>\n",
              "      <td>True</td>\n",
              "      <td>True</td>\n",
              "      <td>True</td>\n",
              "      <td>True</td>\n",
              "      <td>...</td>\n",
              "      <td>True</td>\n",
              "      <td>True</td>\n",
              "      <td>True</td>\n",
              "      <td>True</td>\n",
              "      <td>True</td>\n",
              "      <td>True</td>\n",
              "      <td>True</td>\n",
              "      <td>True</td>\n",
              "      <td>True</td>\n",
              "      <td>True</td>\n",
              "    </tr>\n",
              "  </tbody>\n",
              "</table>\n",
              "<p>251 rows × 24 columns</p>\n",
              "</div>\n",
              "    <div class=\"colab-df-buttons\">\n",
              "\n",
              "  <div class=\"colab-df-container\">\n",
              "    <button class=\"colab-df-convert\" onclick=\"convertToInteractive('df-33e30d3d-92b8-415b-9d23-7e015ae478f6')\"\n",
              "            title=\"Convert this dataframe to an interactive table.\"\n",
              "            style=\"display:none;\">\n",
              "\n",
              "  <svg xmlns=\"http://www.w3.org/2000/svg\" height=\"24px\" viewBox=\"0 -960 960 960\">\n",
              "    <path d=\"M120-120v-720h720v720H120Zm60-500h600v-160H180v160Zm220 220h160v-160H400v160Zm0 220h160v-160H400v160ZM180-400h160v-160H180v160Zm440 0h160v-160H620v160ZM180-180h160v-160H180v160Zm440 0h160v-160H620v160Z\"/>\n",
              "  </svg>\n",
              "    </button>\n",
              "\n",
              "  <style>\n",
              "    .colab-df-container {\n",
              "      display:flex;\n",
              "      gap: 12px;\n",
              "    }\n",
              "\n",
              "    .colab-df-convert {\n",
              "      background-color: #E8F0FE;\n",
              "      border: none;\n",
              "      border-radius: 50%;\n",
              "      cursor: pointer;\n",
              "      display: none;\n",
              "      fill: #1967D2;\n",
              "      height: 32px;\n",
              "      padding: 0 0 0 0;\n",
              "      width: 32px;\n",
              "    }\n",
              "\n",
              "    .colab-df-convert:hover {\n",
              "      background-color: #E2EBFA;\n",
              "      box-shadow: 0px 1px 2px rgba(60, 64, 67, 0.3), 0px 1px 3px 1px rgba(60, 64, 67, 0.15);\n",
              "      fill: #174EA6;\n",
              "    }\n",
              "\n",
              "    .colab-df-buttons div {\n",
              "      margin-bottom: 4px;\n",
              "    }\n",
              "\n",
              "    [theme=dark] .colab-df-convert {\n",
              "      background-color: #3B4455;\n",
              "      fill: #D2E3FC;\n",
              "    }\n",
              "\n",
              "    [theme=dark] .colab-df-convert:hover {\n",
              "      background-color: #434B5C;\n",
              "      box-shadow: 0px 1px 3px 1px rgba(0, 0, 0, 0.15);\n",
              "      filter: drop-shadow(0px 1px 2px rgba(0, 0, 0, 0.3));\n",
              "      fill: #FFFFFF;\n",
              "    }\n",
              "  </style>\n",
              "\n",
              "    <script>\n",
              "      const buttonEl =\n",
              "        document.querySelector('#df-33e30d3d-92b8-415b-9d23-7e015ae478f6 button.colab-df-convert');\n",
              "      buttonEl.style.display =\n",
              "        google.colab.kernel.accessAllowed ? 'block' : 'none';\n",
              "\n",
              "      async function convertToInteractive(key) {\n",
              "        const element = document.querySelector('#df-33e30d3d-92b8-415b-9d23-7e015ae478f6');\n",
              "        const dataTable =\n",
              "          await google.colab.kernel.invokeFunction('convertToInteractive',\n",
              "                                                    [key], {});\n",
              "        if (!dataTable) return;\n",
              "\n",
              "        const docLinkHtml = 'Like what you see? Visit the ' +\n",
              "          '<a target=\"_blank\" href=https://colab.research.google.com/notebooks/data_table.ipynb>data table notebook</a>'\n",
              "          + ' to learn more about interactive tables.';\n",
              "        element.innerHTML = '';\n",
              "        dataTable['output_type'] = 'display_data';\n",
              "        await google.colab.output.renderOutput(dataTable, element);\n",
              "        const docLink = document.createElement('div');\n",
              "        docLink.innerHTML = docLinkHtml;\n",
              "        element.appendChild(docLink);\n",
              "      }\n",
              "    </script>\n",
              "  </div>\n",
              "\n",
              "\n",
              "    <div id=\"df-318ce1bf-009d-4c0b-8cc2-4ad278b44d28\">\n",
              "      <button class=\"colab-df-quickchart\" onclick=\"quickchart('df-318ce1bf-009d-4c0b-8cc2-4ad278b44d28')\"\n",
              "                title=\"Suggest charts\"\n",
              "                style=\"display:none;\">\n",
              "\n",
              "<svg xmlns=\"http://www.w3.org/2000/svg\" height=\"24px\"viewBox=\"0 0 24 24\"\n",
              "     width=\"24px\">\n",
              "    <g>\n",
              "        <path d=\"M19 3H5c-1.1 0-2 .9-2 2v14c0 1.1.9 2 2 2h14c1.1 0 2-.9 2-2V5c0-1.1-.9-2-2-2zM9 17H7v-7h2v7zm4 0h-2V7h2v10zm4 0h-2v-4h2v4z\"/>\n",
              "    </g>\n",
              "</svg>\n",
              "      </button>\n",
              "\n",
              "<style>\n",
              "  .colab-df-quickchart {\n",
              "      --bg-color: #E8F0FE;\n",
              "      --fill-color: #1967D2;\n",
              "      --hover-bg-color: #E2EBFA;\n",
              "      --hover-fill-color: #174EA6;\n",
              "      --disabled-fill-color: #AAA;\n",
              "      --disabled-bg-color: #DDD;\n",
              "  }\n",
              "\n",
              "  [theme=dark] .colab-df-quickchart {\n",
              "      --bg-color: #3B4455;\n",
              "      --fill-color: #D2E3FC;\n",
              "      --hover-bg-color: #434B5C;\n",
              "      --hover-fill-color: #FFFFFF;\n",
              "      --disabled-bg-color: #3B4455;\n",
              "      --disabled-fill-color: #666;\n",
              "  }\n",
              "\n",
              "  .colab-df-quickchart {\n",
              "    background-color: var(--bg-color);\n",
              "    border: none;\n",
              "    border-radius: 50%;\n",
              "    cursor: pointer;\n",
              "    display: none;\n",
              "    fill: var(--fill-color);\n",
              "    height: 32px;\n",
              "    padding: 0;\n",
              "    width: 32px;\n",
              "  }\n",
              "\n",
              "  .colab-df-quickchart:hover {\n",
              "    background-color: var(--hover-bg-color);\n",
              "    box-shadow: 0 1px 2px rgba(60, 64, 67, 0.3), 0 1px 3px 1px rgba(60, 64, 67, 0.15);\n",
              "    fill: var(--button-hover-fill-color);\n",
              "  }\n",
              "\n",
              "  .colab-df-quickchart-complete:disabled,\n",
              "  .colab-df-quickchart-complete:disabled:hover {\n",
              "    background-color: var(--disabled-bg-color);\n",
              "    fill: var(--disabled-fill-color);\n",
              "    box-shadow: none;\n",
              "  }\n",
              "\n",
              "  .colab-df-spinner {\n",
              "    border: 2px solid var(--fill-color);\n",
              "    border-color: transparent;\n",
              "    border-bottom-color: var(--fill-color);\n",
              "    animation:\n",
              "      spin 1s steps(1) infinite;\n",
              "  }\n",
              "\n",
              "  @keyframes spin {\n",
              "    0% {\n",
              "      border-color: transparent;\n",
              "      border-bottom-color: var(--fill-color);\n",
              "      border-left-color: var(--fill-color);\n",
              "    }\n",
              "    20% {\n",
              "      border-color: transparent;\n",
              "      border-left-color: var(--fill-color);\n",
              "      border-top-color: var(--fill-color);\n",
              "    }\n",
              "    30% {\n",
              "      border-color: transparent;\n",
              "      border-left-color: var(--fill-color);\n",
              "      border-top-color: var(--fill-color);\n",
              "      border-right-color: var(--fill-color);\n",
              "    }\n",
              "    40% {\n",
              "      border-color: transparent;\n",
              "      border-right-color: var(--fill-color);\n",
              "      border-top-color: var(--fill-color);\n",
              "    }\n",
              "    60% {\n",
              "      border-color: transparent;\n",
              "      border-right-color: var(--fill-color);\n",
              "    }\n",
              "    80% {\n",
              "      border-color: transparent;\n",
              "      border-right-color: var(--fill-color);\n",
              "      border-bottom-color: var(--fill-color);\n",
              "    }\n",
              "    90% {\n",
              "      border-color: transparent;\n",
              "      border-bottom-color: var(--fill-color);\n",
              "    }\n",
              "  }\n",
              "</style>\n",
              "\n",
              "      <script>\n",
              "        async function quickchart(key) {\n",
              "          const quickchartButtonEl =\n",
              "            document.querySelector('#' + key + ' button');\n",
              "          quickchartButtonEl.disabled = true;  // To prevent multiple clicks.\n",
              "          quickchartButtonEl.classList.add('colab-df-spinner');\n",
              "          try {\n",
              "            const charts = await google.colab.kernel.invokeFunction(\n",
              "                'suggestCharts', [key], {});\n",
              "          } catch (error) {\n",
              "            console.error('Error during call to suggestCharts:', error);\n",
              "          }\n",
              "          quickchartButtonEl.classList.remove('colab-df-spinner');\n",
              "          quickchartButtonEl.classList.add('colab-df-quickchart-complete');\n",
              "        }\n",
              "        (() => {\n",
              "          let quickchartButtonEl =\n",
              "            document.querySelector('#df-318ce1bf-009d-4c0b-8cc2-4ad278b44d28 button');\n",
              "          quickchartButtonEl.style.display =\n",
              "            google.colab.kernel.accessAllowed ? 'block' : 'none';\n",
              "        })();\n",
              "      </script>\n",
              "    </div>\n",
              "\n",
              "    </div>\n",
              "  </div>\n"
            ],
            "application/vnd.google.colaboratory.intrinsic+json": {
              "type": "dataframe"
            }
          },
          "metadata": {},
          "execution_count": 129
        }
      ]
    },
    {
      "cell_type": "markdown",
      "source": [
        "## Tema 03: Manipulación de datos"
      ],
      "metadata": {
        "id": "Xv1dmDb3t9XZ"
      }
    },
    {
      "cell_type": "markdown",
      "source": [
        "### Selección de columnas"
      ],
      "metadata": {
        "id": "3xYMVhNtuC20"
      }
    },
    {
      "cell_type": "code",
      "source": [
        "df5['Sexo']"
      ],
      "metadata": {
        "id": "fE_i4zJtuB5k"
      },
      "execution_count": null,
      "outputs": []
    },
    {
      "cell_type": "code",
      "source": [
        "df5[['Sexo']]"
      ],
      "metadata": {
        "id": "XORloQs8uRej"
      },
      "execution_count": null,
      "outputs": []
    },
    {
      "cell_type": "code",
      "source": [
        "df5[['Sexo', 'edad2']]"
      ],
      "metadata": {
        "id": "ionvK3gBuczy"
      },
      "execution_count": null,
      "outputs": []
    },
    {
      "cell_type": "code",
      "source": [
        "# eliminar columna\n",
        "df5.drop(columns=['Marca temporal'])"
      ],
      "metadata": {
        "id": "91PaUnc2vE_4"
      },
      "execution_count": null,
      "outputs": []
    },
    {
      "cell_type": "code",
      "source": [
        "# Seleccionar cols que comienzan con... ¿Cuánto\n",
        "df5[[col for col in df5.columns if col.startswith('¿Cuánto')]]"
      ],
      "metadata": {
        "id": "J8t_ieuXvXSu"
      },
      "execution_count": null,
      "outputs": []
    },
    {
      "cell_type": "code",
      "source": [
        "# Seleccionar cols que terminan con un corchete\n",
        "df5[[col for col in df5.columns if col.endswith(']')]]"
      ],
      "metadata": {
        "id": "UwFJOfsbwjRQ"
      },
      "execution_count": null,
      "outputs": []
    },
    {
      "cell_type": "code",
      "source": [
        "# contains\n",
        "df5.filter(like='edad')"
      ],
      "metadata": {
        "id": "y6ciVCSixAfK"
      },
      "execution_count": null,
      "outputs": []
    },
    {
      "cell_type": "markdown",
      "source": [
        "### Selección de filas"
      ],
      "metadata": {
        "id": "OXlB_X5vxPcy"
      }
    },
    {
      "cell_type": "code",
      "source": [],
      "metadata": {
        "id": "YYf9QCcuxRaV"
      },
      "execution_count": null,
      "outputs": []
    }
  ]
}