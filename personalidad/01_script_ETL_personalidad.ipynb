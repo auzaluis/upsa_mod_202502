{
  "nbformat": 4,
  "nbformat_minor": 0,
  "metadata": {
    "colab": {
      "provenance": [],
      "toc_visible": true,
      "authorship_tag": "ABX9TyMY74stY6cR+TDJ1ZKEBxY0",
      "include_colab_link": true
    },
    "kernelspec": {
      "name": "python3",
      "display_name": "Python 3"
    },
    "language_info": {
      "name": "python"
    }
  },
  "cells": [
    {
      "cell_type": "markdown",
      "metadata": {
        "id": "view-in-github",
        "colab_type": "text"
      },
      "source": [
        "<a href=\"https://colab.research.google.com/github/auzaluis/upsa_mod_202502/blob/master/personalidad/01_script_ETL_personalidad.ipynb\" target=\"_parent\"><img src=\"https://colab.research.google.com/assets/colab-badge.svg\" alt=\"Open In Colab\"/></a>"
      ]
    },
    {
      "cell_type": "markdown",
      "source": [
        "## Tema 01: Carga de datos"
      ],
      "metadata": {
        "id": "cxLPOuZoLMhU"
      }
    },
    {
      "cell_type": "markdown",
      "source": [
        "### Importando base de datos"
      ],
      "metadata": {
        "id": "bEhCs0uuLS9k"
      }
    },
    {
      "cell_type": "code",
      "execution_count": null,
      "metadata": {
        "id": "gVnZH6l9R4X7"
      },
      "outputs": [],
      "source": [
        "# Google Auth\n",
        "from google.colab import auth\n",
        "auth.authenticate_user()\n",
        "print('Authenticated')"
      ]
    },
    {
      "cell_type": "code",
      "source": [
        "# API client\n",
        "from google.auth import default\n",
        "creds, _ = default()"
      ],
      "metadata": {
        "id": "Nmf4QmfcM7lN"
      },
      "execution_count": null,
      "outputs": []
    },
    {
      "cell_type": "code",
      "source": [
        "# gspread authorization\n",
        "import gspread\n",
        "gc = gspread.authorize(creds)"
      ],
      "metadata": {
        "id": "D26Dj5zjN-HU"
      },
      "execution_count": null,
      "outputs": []
    },
    {
      "cell_type": "code",
      "source": [
        "# Accediendo al Google Sheet\n",
        "url = 'https://docs.google.com/spreadsheets/d/1IQ_RxxTSmBKHTExlxboIRNlMov_F6RyqdcOPrflCv_w/edit?usp=sharing'\n",
        "gsheets = gc.open_by_url(url)\n",
        "sheets = gsheets.worksheet('Respuestas de formulario 1').get_all_values()"
      ],
      "metadata": {
        "id": "-wQLLrG2OneF"
      },
      "execution_count": null,
      "outputs": []
    },
    {
      "cell_type": "code",
      "source": [
        "type(sheets)"
      ],
      "metadata": {
        "id": "G5mCDNlMPZN4"
      },
      "execution_count": null,
      "outputs": []
    },
    {
      "cell_type": "code",
      "source": [
        "# Convirtiendo a data frame\n",
        "import pandas as pd\n",
        "df = pd.DataFrame(sheets[1:], columns=sheets[0])"
      ],
      "metadata": {
        "id": "OPJ6dkFsQm-E"
      },
      "execution_count": null,
      "outputs": []
    },
    {
      "cell_type": "markdown",
      "source": [
        "### Inspección del data frame"
      ],
      "metadata": {
        "id": "ugCnuL9xR_wd"
      }
    },
    {
      "cell_type": "code",
      "source": [
        "type(df)"
      ],
      "metadata": {
        "id": "AvU9mccvSDDY"
      },
      "execution_count": null,
      "outputs": []
    },
    {
      "cell_type": "code",
      "source": [
        "df.head()"
      ],
      "metadata": {
        "id": "zUCa3oc2SN5p"
      },
      "execution_count": null,
      "outputs": []
    },
    {
      "cell_type": "code",
      "source": [
        "# Ver la estructura del df\n",
        "df.info()"
      ],
      "metadata": {
        "id": "g8D_thDBScnm"
      },
      "execution_count": null,
      "outputs": []
    },
    {
      "cell_type": "code",
      "source": [
        "# Tupla con la cantidad de filas y columnas\n",
        "df.shape"
      ],
      "metadata": {
        "id": "aDLcDwbVStL6"
      },
      "execution_count": null,
      "outputs": []
    },
    {
      "cell_type": "code",
      "source": [
        "# Cantidad de filas\n",
        "len(df)"
      ],
      "metadata": {
        "id": "zyzvuurASyUa"
      },
      "execution_count": null,
      "outputs": []
    },
    {
      "cell_type": "code",
      "source": [
        "# Cantidad de columnas\n",
        "len(df.columns)"
      ],
      "metadata": {
        "id": "Z0uUS2_FTYZD"
      },
      "execution_count": null,
      "outputs": []
    },
    {
      "cell_type": "code",
      "source": [
        "df.columns"
      ],
      "metadata": {
        "id": "yi9bTzAFS7GQ"
      },
      "execution_count": null,
      "outputs": []
    },
    {
      "cell_type": "markdown",
      "source": [
        "## Tema 02: Transformación de datos"
      ],
      "metadata": {
        "id": "HP5FyIYOUM5Y"
      }
    },
    {
      "cell_type": "markdown",
      "source": [
        "### Valores perdidos"
      ],
      "metadata": {
        "id": "lcw4Xf_KUTMP"
      }
    },
    {
      "cell_type": "markdown",
      "source": [
        "Identificando NAs"
      ],
      "metadata": {
        "id": "u5SEnccUUVuE"
      }
    },
    {
      "cell_type": "code",
      "source": [
        "df[['Escribe tu edad exacta']]"
      ],
      "metadata": {
        "id": "W8m7oXziUUUT"
      },
      "execution_count": null,
      "outputs": []
    },
    {
      "cell_type": "code",
      "source": [
        "# Los NAs están como strings vacíos\n",
        "import numpy as np\n",
        "df.replace('', np.nan, inplace=True)"
      ],
      "metadata": {
        "id": "n-_JfoGTVAJc"
      },
      "execution_count": null,
      "outputs": []
    },
    {
      "cell_type": "code",
      "source": [
        "df.info()"
      ],
      "metadata": {
        "id": "a36eMkp9Vwv7"
      },
      "execution_count": null,
      "outputs": []
    },
    {
      "cell_type": "code",
      "source": [
        "df['Escribe tu edad exacta'].isna().value_counts()"
      ],
      "metadata": {
        "id": "LqZfNK5sV_ip"
      },
      "execution_count": null,
      "outputs": []
    },
    {
      "cell_type": "markdown",
      "source": [
        "Tratando los NAs"
      ],
      "metadata": {
        "id": "aEVNMinvgfZ2"
      }
    },
    {
      "cell_type": "code",
      "source": [
        "df['Escribe tu edad exacta'].dtype"
      ],
      "metadata": {
        "id": "d7nveL0ogoS3"
      },
      "execution_count": null,
      "outputs": []
    },
    {
      "cell_type": "code",
      "source": [
        "df['Escribe tu edad exacta'] = pd.to_numeric(df['Escribe tu edad exacta'], errors='coerce')"
      ],
      "metadata": {
        "id": "OMEfPoFeg_vm"
      },
      "execution_count": null,
      "outputs": []
    },
    {
      "cell_type": "code",
      "source": [
        "df['Escribe tu edad exacta'].dtype"
      ],
      "metadata": {
        "id": "kWa37eKahJI-"
      },
      "execution_count": null,
      "outputs": []
    },
    {
      "cell_type": "markdown",
      "source": [
        "Imputacion por el promedio"
      ],
      "metadata": {
        "id": "mPek3G2ZsLCw"
      }
    },
    {
      "cell_type": "code",
      "source": [
        "# Calcular la media\n",
        "edad_promedio = df['Escribe tu edad exacta'].mean().round(0)\n",
        "edad_promedio"
      ],
      "metadata": {
        "id": "RjVE-YZ6hpVT"
      },
      "execution_count": null,
      "outputs": []
    },
    {
      "cell_type": "code",
      "source": [
        "# Creando un nuevo df\n",
        "df2 = df.copy()"
      ],
      "metadata": {
        "id": "YdwB1MRMiAES"
      },
      "execution_count": null,
      "outputs": []
    },
    {
      "cell_type": "code",
      "source": [
        "# Reemplazo por la media\n",
        "df2['edad2'] = df2['Escribe tu edad exacta'].fillna(edad_promedio)"
      ],
      "metadata": {
        "id": "8CvxacGgiY5w"
      },
      "execution_count": null,
      "outputs": []
    },
    {
      "cell_type": "code",
      "source": [
        "df2[['Escribe tu edad exacta', 'edad2']]"
      ],
      "metadata": {
        "id": "PxoDq_-ui6ZH"
      },
      "execution_count": null,
      "outputs": []
    },
    {
      "cell_type": "code",
      "source": [
        "df2.info()"
      ],
      "metadata": {
        "id": "dm8clmtpkihz"
      },
      "execution_count": null,
      "outputs": []
    },
    {
      "cell_type": "code",
      "source": [
        "# Relocalizar la columna 'edad2' después de 'Escribe tu edad exacta'\n",
        "# lista_columnas = list(df2.columns).index('Escribe tu edad exacta') + 1\n",
        "# lista_columnas"
      ],
      "metadata": {
        "id": "4gGtdeOIlqAe"
      },
      "execution_count": null,
      "outputs": []
    },
    {
      "cell_type": "code",
      "source": [
        "# df2.insert(lista_columnas, 'edad2', df2.pop('edad2'))"
      ],
      "metadata": {
        "id": "3R1DxsSonlei"
      },
      "execution_count": null,
      "outputs": []
    },
    {
      "cell_type": "code",
      "source": [
        "# df2.info()"
      ],
      "metadata": {
        "id": "jG4spu7emfZs"
      },
      "execution_count": null,
      "outputs": []
    },
    {
      "cell_type": "markdown",
      "source": [
        "Creando relocate en py"
      ],
      "metadata": {
        "id": "N0q7-hpSp3P0"
      }
    },
    {
      "cell_type": "code",
      "source": [
        "def relocate(df, columna, after):\n",
        "  lista_columnas = list(df.columns).index(after) + 1\n",
        "  df.insert(lista_columnas, columna, df.pop(columna))\n",
        "  return df"
      ],
      "metadata": {
        "id": "4XAt5pBVp5Fj"
      },
      "execution_count": null,
      "outputs": []
    },
    {
      "cell_type": "code",
      "source": [
        "relocate(\n",
        "    df = df2,\n",
        "    columna = 'edad2',\n",
        "    after = 'Escribe tu edad exacta'\n",
        ")"
      ],
      "metadata": {
        "id": "8A0b-yqRrJPq"
      },
      "execution_count": null,
      "outputs": []
    },
    {
      "cell_type": "code",
      "source": [
        "df2.columns"
      ],
      "metadata": {
        "id": "AA2YUUkzr1Yh"
      },
      "execution_count": null,
      "outputs": []
    },
    {
      "cell_type": "markdown",
      "source": [
        "Eliminando las filas que contienen NAs"
      ],
      "metadata": {
        "id": "0a8Guj5MsOFY"
      }
    },
    {
      "cell_type": "code",
      "source": [
        "df2.shape"
      ],
      "metadata": {
        "id": "t-usSaglsQYv"
      },
      "execution_count": null,
      "outputs": []
    },
    {
      "cell_type": "code",
      "source": [
        "df2.dropna(inplace=True)"
      ],
      "metadata": {
        "id": "mYHBD_LcsTvZ"
      },
      "execution_count": null,
      "outputs": []
    },
    {
      "cell_type": "code",
      "source": [
        "df2.shape"
      ],
      "metadata": {
        "id": "1__qHN92sWvv"
      },
      "execution_count": null,
      "outputs": []
    },
    {
      "cell_type": "code",
      "source": [],
      "metadata": {
        "id": "BL8JYiOBsX-H"
      },
      "execution_count": null,
      "outputs": []
    },
    {
      "cell_type": "markdown",
      "source": [
        "### Estandarización de variables"
      ],
      "metadata": {
        "id": "40BU7q_yNhX_"
      }
    },
    {
      "cell_type": "markdown",
      "source": [
        "#### Normalización"
      ],
      "metadata": {
        "id": "DfRHpplLNnoY"
      }
    },
    {
      "cell_type": "code",
      "source": [
        "from sklearn.preprocessing import StandardScaler"
      ],
      "metadata": {
        "id": "qL9bsf0PNlQe"
      },
      "execution_count": null,
      "outputs": []
    },
    {
      "cell_type": "code",
      "source": [
        "# Instanciando StandardScaler()\n",
        "normalizador = StandardScaler()"
      ],
      "metadata": {
        "id": "J7RmZrWzN64g"
      },
      "execution_count": null,
      "outputs": []
    },
    {
      "cell_type": "code",
      "source": [
        "df2[['edad2']]"
      ],
      "metadata": {
        "id": "VfBxSYPdOt8_"
      },
      "execution_count": null,
      "outputs": []
    },
    {
      "cell_type": "code",
      "source": [
        "# normalizando\n",
        "normalizador.fit_transform(df2[['edad2']])"
      ],
      "metadata": {
        "id": "8dqcaXy6OiDg"
      },
      "execution_count": null,
      "outputs": []
    },
    {
      "cell_type": "code",
      "source": [
        "# creando df3\n",
        "df3 = df2.copy()"
      ],
      "metadata": {
        "id": "HtP1Lzc6PJhg"
      },
      "execution_count": null,
      "outputs": []
    },
    {
      "cell_type": "code",
      "source": [
        "df3['edadZ'] = normalizador.fit_transform(df3[['edad2']])"
      ],
      "metadata": {
        "id": "0Tsc3wCFPLau"
      },
      "execution_count": null,
      "outputs": []
    },
    {
      "cell_type": "code",
      "source": [
        "df3 = relocate(\n",
        "    df = df3,\n",
        "    columna = 'edadZ',\n",
        "    after = 'edad2'\n",
        ")"
      ],
      "metadata": {
        "id": "sEEnZlxLPrWv"
      },
      "execution_count": null,
      "outputs": []
    },
    {
      "cell_type": "code",
      "source": [
        "df3.info()"
      ],
      "metadata": {
        "id": "Rrjw0wmSQacP"
      },
      "execution_count": null,
      "outputs": []
    },
    {
      "cell_type": "markdown",
      "source": [
        "#### Rango"
      ],
      "metadata": {
        "id": "jtdryKUsQsqP"
      }
    },
    {
      "cell_type": "code",
      "source": [
        "from sklearn.preprocessing import MinMaxScaler"
      ],
      "metadata": {
        "id": "1w9Ft_QsQuoe"
      },
      "execution_count": null,
      "outputs": []
    },
    {
      "cell_type": "code",
      "source": [
        "# Instanciando MinMaxScaler()\n",
        "rango = MinMaxScaler()"
      ],
      "metadata": {
        "id": "BLYG_dlASa9u"
      },
      "execution_count": null,
      "outputs": []
    },
    {
      "cell_type": "code",
      "source": [
        "df3['edad_rango'] = rango.fit_transform(df3[['edad2']])"
      ],
      "metadata": {
        "id": "oWNEgIc_Skq6"
      },
      "execution_count": null,
      "outputs": []
    },
    {
      "cell_type": "code",
      "source": [
        "df3 = relocate(\n",
        "    df = df3,\n",
        "    columna = 'edad_rango',\n",
        "    after = 'edadZ'\n",
        ")"
      ],
      "metadata": {
        "id": "iwjctMMVSuYd"
      },
      "execution_count": null,
      "outputs": []
    },
    {
      "cell_type": "code",
      "source": [
        "df3.info()"
      ],
      "metadata": {
        "id": "AunwsF8oS1Hd"
      },
      "execution_count": null,
      "outputs": []
    },
    {
      "cell_type": "code",
      "source": [
        "df3[['edad2', 'edadZ', 'edad_rango']].head()"
      ],
      "metadata": {
        "id": "ZWo95i8sS69-"
      },
      "execution_count": null,
      "outputs": []
    },
    {
      "cell_type": "markdown",
      "source": [
        "### Agrupaciones"
      ],
      "metadata": {
        "id": "HwsiIt5rThb-"
      }
    },
    {
      "cell_type": "markdown",
      "source": [
        "#### Numéricas"
      ],
      "metadata": {
        "id": "TktokZDrTm5I"
      }
    },
    {
      "cell_type": "code",
      "source": [
        "cortes = [-float('inf'), 18, 21, float('inf')]\n",
        "etiquetas = ['18 o menos', '19 a 21', 'Más de 21']"
      ],
      "metadata": {
        "id": "ilPK_BXGTii9"
      },
      "execution_count": null,
      "outputs": []
    },
    {
      "cell_type": "code",
      "source": [
        "df3['edadGR'] = pd.cut(df3['edad2'], bins=cortes, labels=etiquetas)"
      ],
      "metadata": {
        "id": "o7XyWvSVZJx0"
      },
      "execution_count": null,
      "outputs": []
    },
    {
      "cell_type": "code",
      "source": [
        "df3.value_counts('edadGR', normalize=True)"
      ],
      "metadata": {
        "id": "_DUVj6GjZSkE"
      },
      "execution_count": null,
      "outputs": []
    },
    {
      "cell_type": "code",
      "source": [
        "df3[['edad2', 'edadZ', 'edad_rango', 'edadGR']].head()"
      ],
      "metadata": {
        "id": "1OpoX8VXTPMN"
      },
      "execution_count": null,
      "outputs": []
    },
    {
      "cell_type": "code",
      "source": [
        "df3 = relocate(\n",
        "    df = df3,\n",
        "    columna = 'edadGR',\n",
        "    after = 'edad_rango'\n",
        ")"
      ],
      "metadata": {
        "id": "iWuDLJQceJBl"
      },
      "execution_count": null,
      "outputs": []
    },
    {
      "cell_type": "code",
      "source": [
        "df3.info()"
      ],
      "metadata": {
        "id": "Thdf9jQGeVU5"
      },
      "execution_count": null,
      "outputs": []
    },
    {
      "cell_type": "markdown",
      "source": [
        "#### Categóricas"
      ],
      "metadata": {
        "id": "XvpAdp1dTnsf"
      }
    },
    {
      "cell_type": "code",
      "source": [
        "df3.info()"
      ],
      "metadata": {
        "id": "1W4o6er2Tqh-"
      },
      "execution_count": null,
      "outputs": []
    },
    {
      "cell_type": "code",
      "source": [
        "pd.unique(df3['Según tu forma de ser ¿Cuál de las siguientes frases te describe mejor: [Busco el éxito sin importar lo que deba sacrificar]'])"
      ],
      "metadata": {
        "id": "YOajPLirT90M"
      },
      "execution_count": null,
      "outputs": []
    },
    {
      "cell_type": "code",
      "source": [
        "pd.unique(df3.iloc[:,12])"
      ],
      "metadata": {
        "id": "Hm6YAIlwUJL4"
      },
      "execution_count": null,
      "outputs": []
    },
    {
      "cell_type": "code",
      "source": [
        "df3['Según tu forma de ser ¿Cuál de las siguientes frases te describe mejor: [Busco hacer cosas emocionantes para no aburrirme]'].value_counts()"
      ],
      "metadata": {
        "id": "9OaC1esEUmha"
      },
      "execution_count": null,
      "outputs": []
    },
    {
      "cell_type": "code",
      "source": [
        "df3.iloc[:,15].value_counts()"
      ],
      "metadata": {
        "id": "nxzZphq-U8g0"
      },
      "execution_count": null,
      "outputs": []
    },
    {
      "cell_type": "markdown",
      "source": [
        "Top 2 Box"
      ],
      "metadata": {
        "id": "gcBQSPBxV7Gh"
      }
    },
    {
      "cell_type": "code",
      "source": [
        "df3.iloc[:,8].value_counts()"
      ],
      "metadata": {
        "id": "z1-JGV2lV3MS"
      },
      "execution_count": null,
      "outputs": []
    },
    {
      "cell_type": "code",
      "source": [
        "df3.iloc[:,8].isin(['Totalmente verdadero', 'Un poco verdadero']).sum()"
      ],
      "metadata": {
        "id": "G9GDZPBQWCD5"
      },
      "execution_count": null,
      "outputs": []
    },
    {
      "cell_type": "code",
      "source": [
        "# Funcion condicional para top2box\n",
        "def top2box(x):\n",
        "  if x in ['Totalmente verdadero', 'Un poco verdadero']:\n",
        "    return 1\n",
        "  else:\n",
        "    return 0"
      ],
      "metadata": {
        "id": "BzoOhT3jW4cS"
      },
      "execution_count": null,
      "outputs": []
    },
    {
      "cell_type": "code",
      "source": [
        "# Aplicando la funcion\n",
        "(\n",
        "    df3.iloc[:,8]\n",
        "    .apply(top2box)\n",
        "    .value_counts()\n",
        ")"
      ],
      "metadata": {
        "id": "4L5Z5MDpZDCq"
      },
      "execution_count": null,
      "outputs": []
    },
    {
      "cell_type": "code",
      "source": [
        "# Función lambda\n",
        "df3.iloc[:,8].apply(\n",
        "    lambda x: 1 if x in ['Totalmente verdadero', 'Un poco verdadero'] else 0\n",
        ").value_counts()"
      ],
      "metadata": {
        "id": "FnHYWAExZ68p"
      },
      "execution_count": null,
      "outputs": []
    },
    {
      "cell_type": "markdown",
      "source": [
        "### De ordinal a numérica"
      ],
      "metadata": {
        "id": "XjDJKuBdbhOy"
      }
    },
    {
      "cell_type": "code",
      "source": [
        "import numpy as np"
      ],
      "metadata": {
        "id": "UXhMDZ4_busb"
      },
      "execution_count": null,
      "outputs": []
    },
    {
      "cell_type": "code",
      "source": [
        "df3.iloc[:,8].unique()"
      ],
      "metadata": {
        "id": "W5qu9ACZb2vu"
      },
      "execution_count": null,
      "outputs": []
    },
    {
      "cell_type": "code",
      "source": [
        "# Condiciones\n",
        "condiciones = [\n",
        "    df3.iloc[:,8] == 'Totalmente verdadero',\n",
        "    df3.iloc[:,8] == 'Un poco verdadero',\n",
        "    df3.iloc[:,8] == 'No lo sé',\n",
        "    df3.iloc[:,8] == 'Un poco falso',\n",
        "    df3.iloc[:,8] == 'Totalmente falso'\n",
        "]"
      ],
      "metadata": {
        "id": "pKn0pcUvb-f2"
      },
      "execution_count": null,
      "outputs": []
    },
    {
      "cell_type": "code",
      "source": [
        "# resultados\n",
        "resultados = [5,4,3,2,1]"
      ],
      "metadata": {
        "id": "z7LmEvn0cPPy"
      },
      "execution_count": null,
      "outputs": []
    },
    {
      "cell_type": "code",
      "source": [
        "# Usando select\n",
        "numeric = np.select(condiciones, resultados, default=np.nan)\n",
        "numeric"
      ],
      "metadata": {
        "id": "7KzsK7Mqch9a"
      },
      "execution_count": null,
      "outputs": []
    },
    {
      "cell_type": "code",
      "source": [
        "numeric.mean()"
      ],
      "metadata": {
        "id": "2e1yfkM4ctO7"
      },
      "execution_count": null,
      "outputs": []
    },
    {
      "cell_type": "code",
      "source": [
        "np.unique(numeric, return_counts=True)"
      ],
      "metadata": {
        "id": "NgI75g5QehNZ"
      },
      "execution_count": null,
      "outputs": []
    },
    {
      "cell_type": "markdown",
      "source": [
        "## Bucles"
      ],
      "metadata": {
        "id": "UWEI4HC0fEkP"
      }
    },
    {
      "cell_type": "markdown",
      "source": [
        "### Forma standard"
      ],
      "metadata": {
        "id": "SU_-_m6flLcK"
      }
    },
    {
      "cell_type": "code",
      "source": [
        "# Creando el df4\n",
        "df4 = df3.copy()"
      ],
      "metadata": {
        "id": "ZlemyR9zfF3k"
      },
      "execution_count": null,
      "outputs": []
    },
    {
      "cell_type": "code",
      "source": [
        "df4.info()"
      ],
      "metadata": {
        "id": "j3vElzF6lbId"
      },
      "execution_count": null,
      "outputs": []
    },
    {
      "cell_type": "code",
      "source": [
        "# Creando una lista vacía\n",
        "frases = []\n",
        "\n",
        "# bucle para llenar la lista\n",
        "for col in df4.columns:\n",
        "  if col.startswith('Según'):\n",
        "    frases.append(col)"
      ],
      "metadata": {
        "id": "CKvxpTK4llpb"
      },
      "execution_count": null,
      "outputs": []
    },
    {
      "cell_type": "code",
      "source": [
        "frases"
      ],
      "metadata": {
        "id": "ACEVXBLqmCp_"
      },
      "execution_count": null,
      "outputs": []
    },
    {
      "cell_type": "code",
      "source": [
        "# aplicando la función top2box a las columnas que pertenecen a 'frase'\n",
        "for frase in frases:\n",
        "  df4[frase] = df4[frase].apply(top2box)"
      ],
      "metadata": {
        "id": "6ARs7CfVniBr"
      },
      "execution_count": null,
      "outputs": []
    },
    {
      "cell_type": "code",
      "source": [
        "df4[frases].head()"
      ],
      "metadata": {
        "id": "CJcpCI4ooCC6"
      },
      "execution_count": null,
      "outputs": []
    },
    {
      "cell_type": "markdown",
      "source": [
        "### Pythonic way | Forma pythonica"
      ],
      "metadata": {
        "id": "CAXLV6NYo7FM"
      }
    },
    {
      "cell_type": "code",
      "source": [
        "# Creando df5\n",
        "df5 = df3.copy()"
      ],
      "metadata": {
        "id": "ZotlIK_FotY9"
      },
      "execution_count": null,
      "outputs": []
    },
    {
      "cell_type": "code",
      "source": [
        "# Lista vacía\n",
        "frases = []\n",
        "\n",
        "# Comprehension list\n",
        "frases = [col for col in df5.columns if col.startswith('Según')]"
      ],
      "metadata": {
        "id": "I8pfkkUIpLSS"
      },
      "execution_count": null,
      "outputs": []
    },
    {
      "cell_type": "code",
      "source": [
        "frases"
      ],
      "metadata": {
        "id": "i_-wGMRUqGp3"
      },
      "execution_count": null,
      "outputs": []
    },
    {
      "cell_type": "code",
      "source": [
        "# Aplicando el bucle, esta vez con lambda\n",
        "for frase in frases:\n",
        "  df5[frase] = df5[frase].apply(lambda x: 1 if x in ['Totalmente verdadero', 'Un poco verdadero'] else 0)"
      ],
      "metadata": {
        "id": "ZuLaUtMLqSfb"
      },
      "execution_count": null,
      "outputs": []
    },
    {
      "cell_type": "code",
      "source": [
        "df5[frases] == df4[frases]"
      ],
      "metadata": {
        "id": "z_bhEE3dtIMZ"
      },
      "execution_count": null,
      "outputs": []
    },
    {
      "cell_type": "markdown",
      "source": [
        "## Tema 03: Manipulación de datos"
      ],
      "metadata": {
        "id": "Xv1dmDb3t9XZ"
      }
    },
    {
      "cell_type": "markdown",
      "source": [
        "### Selección de columnas"
      ],
      "metadata": {
        "id": "3xYMVhNtuC20"
      }
    },
    {
      "cell_type": "code",
      "source": [
        "df5['Sexo']"
      ],
      "metadata": {
        "id": "fE_i4zJtuB5k"
      },
      "execution_count": null,
      "outputs": []
    },
    {
      "cell_type": "code",
      "source": [
        "df5[['Sexo']]"
      ],
      "metadata": {
        "id": "XORloQs8uRej"
      },
      "execution_count": null,
      "outputs": []
    },
    {
      "cell_type": "code",
      "source": [
        "df5[['Sexo', 'edad2']]"
      ],
      "metadata": {
        "id": "ionvK3gBuczy"
      },
      "execution_count": null,
      "outputs": []
    },
    {
      "cell_type": "code",
      "source": [
        "# eliminar columna\n",
        "df5.drop(columns=['Marca temporal'])"
      ],
      "metadata": {
        "id": "91PaUnc2vE_4"
      },
      "execution_count": null,
      "outputs": []
    },
    {
      "cell_type": "code",
      "source": [
        "# Seleccionar cols que comienzan con... ¿Cuánto\n",
        "df5[[col for col in df5.columns if col.startswith('¿Cuánto')]]"
      ],
      "metadata": {
        "id": "J8t_ieuXvXSu"
      },
      "execution_count": null,
      "outputs": []
    },
    {
      "cell_type": "code",
      "source": [
        "# Seleccionar cols que terminan con un corchete\n",
        "df5[[col for col in df5.columns if col.endswith(']')]]"
      ],
      "metadata": {
        "id": "UwFJOfsbwjRQ"
      },
      "execution_count": null,
      "outputs": []
    },
    {
      "cell_type": "code",
      "source": [
        "# contains\n",
        "df5.filter(like='edad')"
      ],
      "metadata": {
        "id": "y6ciVCSixAfK"
      },
      "execution_count": null,
      "outputs": []
    },
    {
      "cell_type": "markdown",
      "source": [
        "### Selección de filas"
      ],
      "metadata": {
        "id": "OXlB_X5vxPcy"
      }
    },
    {
      "cell_type": "code",
      "source": [
        "# Seleccionar filas cuando Sexo = 'Mujer'\n",
        "df5[df5['Sexo'] == 'Mujer']"
      ],
      "metadata": {
        "id": "YYf9QCcuxRaV"
      },
      "execution_count": null,
      "outputs": []
    },
    {
      "cell_type": "code",
      "source": [
        "# Seleccionar filas cuando Sexo no es = 'Mujer'\n",
        "df5[df5['Sexo'] != 'Mujer']['Sexo']"
      ],
      "metadata": {
        "id": "77DboLOiSFYS"
      },
      "execution_count": null,
      "outputs": []
    },
    {
      "cell_type": "code",
      "source": [
        "# Seleccionar las filas en las que edad2 sea mayor a 20\n",
        "df5[df5['edad2'] > 20]['edad2']"
      ],
      "metadata": {
        "id": "muLwbN1KSrpC"
      },
      "execution_count": null,
      "outputs": []
    },
    {
      "cell_type": "code",
      "source": [
        "# Seleccionar edad2 cuando el valor está entre 18 y 21\n",
        "df5[(df5['edad2'] >= 18) & (df5['edad2'] <= 21)]['edad2']"
      ],
      "metadata": {
        "id": "EEuOuTuLS-_J"
      },
      "execution_count": null,
      "outputs": []
    },
    {
      "cell_type": "code",
      "source": [
        "# Seleccionar edad2 cuando el valor está entre 18 y 21 y Sexo = Mujer\n",
        "df5[(df5['edad2'] >= 18) & (df5['edad2'] <= 21) & (df5['Sexo'] == 'Mujer')]['edad2']"
      ],
      "metadata": {
        "id": "MB1-_qYkTuEi"
      },
      "execution_count": null,
      "outputs": []
    },
    {
      "cell_type": "markdown",
      "source": [
        "### Renombrado de columnas"
      ],
      "metadata": {
        "id": "Fw1m-gz3UDrI"
      }
    },
    {
      "cell_type": "code",
      "source": [
        "df6 = df5.copy()"
      ],
      "metadata": {
        "id": "Twu60cwUUFg_"
      },
      "execution_count": null,
      "outputs": []
    },
    {
      "cell_type": "code",
      "source": [
        "df6.columns"
      ],
      "metadata": {
        "id": "_jWbsy3KUIpH"
      },
      "execution_count": null,
      "outputs": []
    },
    {
      "cell_type": "markdown",
      "source": [
        "APPS"
      ],
      "metadata": {
        "id": "xSoJ4oiVV3sg"
      }
    },
    {
      "cell_type": "markdown",
      "source": [
        "**Paso 1:** Crear una lista con los nuevos nombres"
      ],
      "metadata": {
        "id": "Eynv6ROHV5uW"
      }
    },
    {
      "cell_type": "code",
      "source": [
        "apps = ['TikTok', 'Instagram', 'Facebook', 'YouTube']"
      ],
      "metadata": {
        "id": "LftAj7DhV4Um"
      },
      "execution_count": null,
      "outputs": []
    },
    {
      "cell_type": "markdown",
      "source": [
        "**Paso 2:** Crear un dict que contenga los nombres antiguos como claves (keys) y los nombres nuevos como valores (values)"
      ],
      "metadata": {
        "id": "Nv4jnQJ0WLem"
      }
    },
    {
      "cell_type": "code",
      "source": [
        "apps_dict = dict(zip(\n",
        "    [col for col in df6.columns if col.startswith('¿Cuánto tiempo')],\n",
        "    apps\n",
        "))"
      ],
      "metadata": {
        "id": "64H4wdDuWHiu"
      },
      "execution_count": null,
      "outputs": []
    },
    {
      "cell_type": "code",
      "source": [
        "apps_dict"
      ],
      "metadata": {
        "id": "cw1u-HiXX6UV"
      },
      "execution_count": null,
      "outputs": []
    },
    {
      "cell_type": "markdown",
      "source": [
        "**Paso 3:** Renombrando"
      ],
      "metadata": {
        "id": "_z2AUG7vZE2e"
      }
    },
    {
      "cell_type": "code",
      "source": [
        "df6.rename(apps_dict, axis=1, inplace=True)"
      ],
      "metadata": {
        "id": "2PD2RTJkZHIM"
      },
      "execution_count": null,
      "outputs": []
    },
    {
      "cell_type": "code",
      "source": [
        "df6.info()"
      ],
      "metadata": {
        "id": "FGMY3qWzZQsl"
      },
      "execution_count": null,
      "outputs": []
    },
    {
      "cell_type": "markdown",
      "source": [
        "Frases"
      ],
      "metadata": {
        "id": "-0sTc-5mb5iU"
      }
    },
    {
      "cell_type": "code",
      "source": [
        "df6.columns = (\n",
        "    df6.columns\n",
        "    .str.replace('Según tu forma de ser ¿Cuál de las siguientes frases te describe mejor: [', '')\n",
        "    .str.replace(']', '')\n",
        ")"
      ],
      "metadata": {
        "id": "rpiYTwuib6Py"
      },
      "execution_count": null,
      "outputs": []
    },
    {
      "cell_type": "code",
      "source": [
        "df6.info()"
      ],
      "metadata": {
        "id": "gQlSkiAOcjgj"
      },
      "execution_count": null,
      "outputs": []
    },
    {
      "cell_type": "markdown",
      "source": [
        "### Pivotado"
      ],
      "metadata": {
        "id": "8IUNuyKLc55D"
      }
    },
    {
      "cell_type": "markdown",
      "source": [
        "#### Pivot Longer"
      ],
      "metadata": {
        "id": "QEHDhzyvc_bb"
      }
    },
    {
      "cell_type": "code",
      "source": [
        "apps"
      ],
      "metadata": {
        "id": "9pomAB7Ac9Jy"
      },
      "execution_count": null,
      "outputs": []
    },
    {
      "cell_type": "code",
      "source": [
        "df7 = df6.melt(\n",
        "    id_vars = ['Marca temporal', 'Sexo', 'edad2'],\n",
        "    value_vars = apps,\n",
        "    var_name = 'app',\n",
        "    value_name = 'time'\n",
        ")"
      ],
      "metadata": {
        "id": "PKeppQxtd_zi"
      },
      "execution_count": null,
      "outputs": []
    },
    {
      "cell_type": "code",
      "source": [
        "df7.head()"
      ],
      "metadata": {
        "id": "cfEdTrQ5ecFK"
      },
      "execution_count": null,
      "outputs": []
    },
    {
      "cell_type": "markdown",
      "source": [
        "#### Pivot Wider"
      ],
      "metadata": {
        "id": "HAW61_THZgjQ"
      }
    },
    {
      "cell_type": "code",
      "source": [
        "df8 = df7.pivot(\n",
        "    index = ['Marca temporal', 'Sexo', 'edad2'],\n",
        "    columns = 'app',\n",
        "    values = 'time'\n",
        ").reset_index()"
      ],
      "metadata": {
        "id": "XqGmfOPYZhYw"
      },
      "execution_count": 113,
      "outputs": []
    },
    {
      "cell_type": "code",
      "source": [
        "df8"
      ],
      "metadata": {
        "id": "R0x8xmd0aOs6"
      },
      "execution_count": null,
      "outputs": []
    }
  ]
}