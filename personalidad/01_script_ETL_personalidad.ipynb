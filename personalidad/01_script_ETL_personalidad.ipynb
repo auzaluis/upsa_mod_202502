{
  "nbformat": 4,
  "nbformat_minor": 0,
  "metadata": {
    "colab": {
      "provenance": [],
      "authorship_tag": "ABX9TyNq1mvRsfjQruEB3aQ6BCF5",
      "include_colab_link": true
    },
    "kernelspec": {
      "name": "python3",
      "display_name": "Python 3"
    },
    "language_info": {
      "name": "python"
    }
  },
  "cells": [
    {
      "cell_type": "markdown",
      "metadata": {
        "id": "view-in-github",
        "colab_type": "text"
      },
      "source": [
        "<a href=\"https://colab.research.google.com/github/auzaluis/upsa_mod_202502/blob/master/personalidad/01_script_ETL_personalidad.ipynb\" target=\"_parent\"><img src=\"https://colab.research.google.com/assets/colab-badge.svg\" alt=\"Open In Colab\"/></a>"
      ]
    },
    {
      "cell_type": "markdown",
      "source": [
        "## Tema 01: Carga de datos"
      ],
      "metadata": {
        "id": "cxLPOuZoLMhU"
      }
    },
    {
      "cell_type": "markdown",
      "source": [
        "### Importando base de datos"
      ],
      "metadata": {
        "id": "bEhCs0uuLS9k"
      }
    },
    {
      "cell_type": "code",
      "execution_count": null,
      "metadata": {
        "id": "gVnZH6l9R4X7"
      },
      "outputs": [],
      "source": [
        "# Google Auth\n",
        "from google.colab import auth\n",
        "auth.authenticate_user()\n",
        "print('Authenticated')"
      ]
    },
    {
      "cell_type": "code",
      "source": [
        "# API client\n",
        "from google.auth import default\n",
        "creds, _ = default()"
      ],
      "metadata": {
        "id": "Nmf4QmfcM7lN"
      },
      "execution_count": null,
      "outputs": []
    },
    {
      "cell_type": "code",
      "source": [
        "# gspread authorization\n",
        "import gspread\n",
        "gc = gspread.authorize(creds)"
      ],
      "metadata": {
        "id": "D26Dj5zjN-HU"
      },
      "execution_count": null,
      "outputs": []
    },
    {
      "cell_type": "code",
      "source": [
        "# Accediendo al Google Sheet\n",
        "url = 'https://docs.google.com/spreadsheets/d/1IQ_RxxTSmBKHTExlxboIRNlMov_F6RyqdcOPrflCv_w/edit?usp=sharing'\n",
        "gsheets = gc.open_by_url(url)\n",
        "sheets = gsheets.worksheet('Respuestas de formulario 1').get_all_values()"
      ],
      "metadata": {
        "id": "-wQLLrG2OneF"
      },
      "execution_count": null,
      "outputs": []
    },
    {
      "cell_type": "code",
      "source": [
        "type(sheets)"
      ],
      "metadata": {
        "id": "G5mCDNlMPZN4"
      },
      "execution_count": null,
      "outputs": []
    },
    {
      "cell_type": "code",
      "source": [
        "# Convirtiendo a data frame\n",
        "import pandas as pd\n",
        "df = pd.DataFrame(sheets[1:], columns=sheets[0])"
      ],
      "metadata": {
        "id": "OPJ6dkFsQm-E"
      },
      "execution_count": null,
      "outputs": []
    },
    {
      "cell_type": "markdown",
      "source": [
        "### Inspección del data frame"
      ],
      "metadata": {
        "id": "ugCnuL9xR_wd"
      }
    },
    {
      "cell_type": "code",
      "source": [
        "type(df)"
      ],
      "metadata": {
        "id": "AvU9mccvSDDY"
      },
      "execution_count": null,
      "outputs": []
    },
    {
      "cell_type": "code",
      "source": [
        "df.head()"
      ],
      "metadata": {
        "id": "zUCa3oc2SN5p"
      },
      "execution_count": null,
      "outputs": []
    },
    {
      "cell_type": "code",
      "source": [
        "# Ver la estructura del df\n",
        "df.info()"
      ],
      "metadata": {
        "id": "g8D_thDBScnm"
      },
      "execution_count": null,
      "outputs": []
    },
    {
      "cell_type": "code",
      "source": [
        "# Tupla con la cantidad de filas y columnas\n",
        "df.shape"
      ],
      "metadata": {
        "id": "aDLcDwbVStL6"
      },
      "execution_count": null,
      "outputs": []
    },
    {
      "cell_type": "code",
      "source": [
        "# Cantidad de filas\n",
        "len(df)"
      ],
      "metadata": {
        "id": "zyzvuurASyUa"
      },
      "execution_count": null,
      "outputs": []
    },
    {
      "cell_type": "code",
      "source": [
        "# Cantidad de columnas\n",
        "len(df.columns)"
      ],
      "metadata": {
        "id": "Z0uUS2_FTYZD"
      },
      "execution_count": null,
      "outputs": []
    },
    {
      "cell_type": "code",
      "source": [
        "df.columns"
      ],
      "metadata": {
        "id": "yi9bTzAFS7GQ"
      },
      "execution_count": null,
      "outputs": []
    },
    {
      "cell_type": "markdown",
      "source": [
        "## Tema 02: Transformación de datos"
      ],
      "metadata": {
        "id": "HP5FyIYOUM5Y"
      }
    },
    {
      "cell_type": "markdown",
      "source": [
        "### Valores perdidos"
      ],
      "metadata": {
        "id": "lcw4Xf_KUTMP"
      }
    },
    {
      "cell_type": "markdown",
      "source": [
        "Identificando NAs"
      ],
      "metadata": {
        "id": "u5SEnccUUVuE"
      }
    },
    {
      "cell_type": "code",
      "source": [
        "df[['Escribe tu edad exacta']]"
      ],
      "metadata": {
        "id": "W8m7oXziUUUT"
      },
      "execution_count": null,
      "outputs": []
    },
    {
      "cell_type": "code",
      "source": [
        "# Los NAs están como strings vacíos\n",
        "import numpy as np\n",
        "df.replace('', np.nan, inplace=True)"
      ],
      "metadata": {
        "id": "n-_JfoGTVAJc"
      },
      "execution_count": null,
      "outputs": []
    },
    {
      "cell_type": "code",
      "source": [
        "df.info()"
      ],
      "metadata": {
        "id": "a36eMkp9Vwv7"
      },
      "execution_count": null,
      "outputs": []
    },
    {
      "cell_type": "code",
      "source": [
        "df['Escribe tu edad exacta'].isna().value_counts()"
      ],
      "metadata": {
        "id": "LqZfNK5sV_ip"
      },
      "execution_count": null,
      "outputs": []
    },
    {
      "cell_type": "markdown",
      "source": [
        "Tratando los NAs"
      ],
      "metadata": {
        "id": "aEVNMinvgfZ2"
      }
    },
    {
      "cell_type": "code",
      "source": [
        "df['Escribe tu edad exacta'].dtype"
      ],
      "metadata": {
        "id": "d7nveL0ogoS3"
      },
      "execution_count": null,
      "outputs": []
    },
    {
      "cell_type": "code",
      "source": [
        "df['Escribe tu edad exacta'] = pd.to_numeric(df['Escribe tu edad exacta'], errors='coerce')"
      ],
      "metadata": {
        "id": "OMEfPoFeg_vm"
      },
      "execution_count": null,
      "outputs": []
    },
    {
      "cell_type": "code",
      "source": [
        "df['Escribe tu edad exacta'].dtype"
      ],
      "metadata": {
        "id": "kWa37eKahJI-"
      },
      "execution_count": null,
      "outputs": []
    },
    {
      "cell_type": "markdown",
      "source": [
        "Imputacion por el promedio"
      ],
      "metadata": {
        "id": "mPek3G2ZsLCw"
      }
    },
    {
      "cell_type": "code",
      "source": [
        "# Calcular la media\n",
        "edad_promedio = df['Escribe tu edad exacta'].mean().round(0)\n",
        "edad_promedio"
      ],
      "metadata": {
        "id": "RjVE-YZ6hpVT"
      },
      "execution_count": null,
      "outputs": []
    },
    {
      "cell_type": "code",
      "source": [
        "# Creando un nuevo df\n",
        "df2 = df.copy()"
      ],
      "metadata": {
        "id": "YdwB1MRMiAES"
      },
      "execution_count": null,
      "outputs": []
    },
    {
      "cell_type": "code",
      "source": [
        "# Reemplazo por la media\n",
        "df2['edad2'] = df2['Escribe tu edad exacta'].fillna(edad_promedio)"
      ],
      "metadata": {
        "id": "8CvxacGgiY5w"
      },
      "execution_count": null,
      "outputs": []
    },
    {
      "cell_type": "code",
      "source": [
        "df2[['Escribe tu edad exacta', 'edad2']]"
      ],
      "metadata": {
        "id": "PxoDq_-ui6ZH"
      },
      "execution_count": null,
      "outputs": []
    },
    {
      "cell_type": "code",
      "source": [
        "df2.info()"
      ],
      "metadata": {
        "id": "dm8clmtpkihz"
      },
      "execution_count": null,
      "outputs": []
    },
    {
      "cell_type": "code",
      "source": [
        "# Relocalizar la columna 'edad2' después de 'Escribe tu edad exacta'\n",
        "# lista_columnas = list(df2.columns).index('Escribe tu edad exacta') + 1\n",
        "# lista_columnas"
      ],
      "metadata": {
        "id": "4gGtdeOIlqAe"
      },
      "execution_count": null,
      "outputs": []
    },
    {
      "cell_type": "code",
      "source": [
        "# df2.insert(lista_columnas, 'edad2', df2.pop('edad2'))"
      ],
      "metadata": {
        "id": "3R1DxsSonlei"
      },
      "execution_count": null,
      "outputs": []
    },
    {
      "cell_type": "code",
      "source": [
        "# df2.info()"
      ],
      "metadata": {
        "id": "jG4spu7emfZs"
      },
      "execution_count": null,
      "outputs": []
    },
    {
      "cell_type": "markdown",
      "source": [
        "Creando relocate en py"
      ],
      "metadata": {
        "id": "N0q7-hpSp3P0"
      }
    },
    {
      "cell_type": "code",
      "source": [
        "def relocate(df, columna, after):\n",
        "  lista_columnas = list(df.columns).index(after) + 1\n",
        "  df.insert(lista_columnas, columna, df.pop(columna))\n",
        "  return df"
      ],
      "metadata": {
        "id": "4XAt5pBVp5Fj"
      },
      "execution_count": null,
      "outputs": []
    },
    {
      "cell_type": "code",
      "source": [
        "relocate(\n",
        "    df = df2,\n",
        "    columna = 'edad2',\n",
        "    after = 'Escribe tu edad exacta'\n",
        ")"
      ],
      "metadata": {
        "id": "8A0b-yqRrJPq"
      },
      "execution_count": null,
      "outputs": []
    },
    {
      "cell_type": "code",
      "source": [
        "df2.columns"
      ],
      "metadata": {
        "id": "AA2YUUkzr1Yh"
      },
      "execution_count": null,
      "outputs": []
    },
    {
      "cell_type": "markdown",
      "source": [
        "Eliminando las filas que contienen NAs"
      ],
      "metadata": {
        "id": "0a8Guj5MsOFY"
      }
    },
    {
      "cell_type": "code",
      "source": [
        "df2.shape"
      ],
      "metadata": {
        "id": "t-usSaglsQYv"
      },
      "execution_count": null,
      "outputs": []
    },
    {
      "cell_type": "code",
      "source": [
        "df2.dropna(inplace=True)"
      ],
      "metadata": {
        "id": "mYHBD_LcsTvZ"
      },
      "execution_count": null,
      "outputs": []
    },
    {
      "cell_type": "code",
      "source": [
        "df2.shape"
      ],
      "metadata": {
        "id": "1__qHN92sWvv"
      },
      "execution_count": null,
      "outputs": []
    },
    {
      "cell_type": "code",
      "source": [],
      "metadata": {
        "id": "BL8JYiOBsX-H"
      },
      "execution_count": null,
      "outputs": []
    },
    {
      "cell_type": "markdown",
      "source": [
        "### Estandarización de variables"
      ],
      "metadata": {
        "id": "40BU7q_yNhX_"
      }
    },
    {
      "cell_type": "markdown",
      "source": [
        "#### Normalización"
      ],
      "metadata": {
        "id": "DfRHpplLNnoY"
      }
    },
    {
      "cell_type": "code",
      "source": [
        "from sklearn.preprocessing import StandardScaler"
      ],
      "metadata": {
        "id": "qL9bsf0PNlQe"
      },
      "execution_count": null,
      "outputs": []
    },
    {
      "cell_type": "code",
      "source": [
        "# Instanciando StandardScaler()\n",
        "normalizador = StandardScaler()"
      ],
      "metadata": {
        "id": "J7RmZrWzN64g"
      },
      "execution_count": null,
      "outputs": []
    },
    {
      "cell_type": "code",
      "source": [
        "df2[['edad2']]"
      ],
      "metadata": {
        "id": "VfBxSYPdOt8_"
      },
      "execution_count": null,
      "outputs": []
    },
    {
      "cell_type": "code",
      "source": [
        "# normalizando\n",
        "normalizador.fit_transform(df2[['edad2']])"
      ],
      "metadata": {
        "id": "8dqcaXy6OiDg"
      },
      "execution_count": null,
      "outputs": []
    },
    {
      "cell_type": "code",
      "source": [
        "# creando df3\n",
        "df3 = df2.copy()"
      ],
      "metadata": {
        "id": "HtP1Lzc6PJhg"
      },
      "execution_count": null,
      "outputs": []
    },
    {
      "cell_type": "code",
      "source": [
        "df3['edadZ'] = normalizador.fit_transform(df3[['edad2']])"
      ],
      "metadata": {
        "id": "0Tsc3wCFPLau"
      },
      "execution_count": null,
      "outputs": []
    },
    {
      "cell_type": "code",
      "source": [
        "df3 = relocate(\n",
        "    df = df3,\n",
        "    columna = 'edadZ',\n",
        "    after = 'edad2'\n",
        ")"
      ],
      "metadata": {
        "id": "sEEnZlxLPrWv"
      },
      "execution_count": null,
      "outputs": []
    },
    {
      "cell_type": "code",
      "source": [
        "df3.info()"
      ],
      "metadata": {
        "id": "Rrjw0wmSQacP"
      },
      "execution_count": null,
      "outputs": []
    },
    {
      "cell_type": "markdown",
      "source": [
        "#### Rango"
      ],
      "metadata": {
        "id": "jtdryKUsQsqP"
      }
    },
    {
      "cell_type": "code",
      "source": [
        "from sklearn.preprocessing import MinMaxScaler"
      ],
      "metadata": {
        "id": "1w9Ft_QsQuoe"
      },
      "execution_count": null,
      "outputs": []
    },
    {
      "cell_type": "code",
      "source": [
        "# Instanciando MinMaxScaler()\n",
        "rango = MinMaxScaler()"
      ],
      "metadata": {
        "id": "BLYG_dlASa9u"
      },
      "execution_count": null,
      "outputs": []
    },
    {
      "cell_type": "code",
      "source": [
        "df3['edad_rango'] = rango.fit_transform(df3[['edad2']])"
      ],
      "metadata": {
        "id": "oWNEgIc_Skq6"
      },
      "execution_count": null,
      "outputs": []
    },
    {
      "cell_type": "code",
      "source": [
        "df3 = relocate(\n",
        "    df = df3,\n",
        "    columna = 'edad_rango',\n",
        "    after = 'edadZ'\n",
        ")"
      ],
      "metadata": {
        "id": "iwjctMMVSuYd"
      },
      "execution_count": null,
      "outputs": []
    },
    {
      "cell_type": "code",
      "source": [
        "df3.info()"
      ],
      "metadata": {
        "id": "AunwsF8oS1Hd"
      },
      "execution_count": null,
      "outputs": []
    },
    {
      "cell_type": "code",
      "source": [
        "df3[['edad2', 'edadZ', 'edad_rango']].head()"
      ],
      "metadata": {
        "id": "ZWo95i8sS69-"
      },
      "execution_count": null,
      "outputs": []
    },
    {
      "cell_type": "markdown",
      "source": [
        "### Agrupaciones"
      ],
      "metadata": {
        "id": "HwsiIt5rThb-"
      }
    },
    {
      "cell_type": "markdown",
      "source": [
        "#### Numéricas"
      ],
      "metadata": {
        "id": "TktokZDrTm5I"
      }
    },
    {
      "cell_type": "code",
      "source": [
        "cortes = [-float('inf'), 18, 21, float('inf')]\n",
        "etiquetas = ['18 o menos', '19 a 21', 'Más de 21']"
      ],
      "metadata": {
        "id": "ilPK_BXGTii9"
      },
      "execution_count": null,
      "outputs": []
    },
    {
      "cell_type": "code",
      "source": [
        "df3['edadGR'] = pd.cut(df3['edad2'], bins=cortes, labels=etiquetas)"
      ],
      "metadata": {
        "id": "o7XyWvSVZJx0"
      },
      "execution_count": null,
      "outputs": []
    },
    {
      "cell_type": "code",
      "source": [
        "df3.value_counts('edadGR', normalize=True)"
      ],
      "metadata": {
        "id": "_DUVj6GjZSkE"
      },
      "execution_count": null,
      "outputs": []
    },
    {
      "cell_type": "code",
      "source": [
        "df3[['edad2', 'edadZ', 'edad_rango', 'edadGR']].head()"
      ],
      "metadata": {
        "id": "1OpoX8VXTPMN"
      },
      "execution_count": null,
      "outputs": []
    },
    {
      "cell_type": "code",
      "source": [
        "df3 = relocate(\n",
        "    df = df3,\n",
        "    columna = 'edadGR',\n",
        "    after = 'edad_rango'\n",
        ")"
      ],
      "metadata": {
        "id": "iWuDLJQceJBl"
      },
      "execution_count": null,
      "outputs": []
    },
    {
      "cell_type": "code",
      "source": [
        "df3.info()"
      ],
      "metadata": {
        "id": "Thdf9jQGeVU5"
      },
      "execution_count": null,
      "outputs": []
    },
    {
      "cell_type": "markdown",
      "source": [
        "#### Categóricas"
      ],
      "metadata": {
        "id": "XvpAdp1dTnsf"
      }
    },
    {
      "cell_type": "code",
      "source": [
        "df3.info()"
      ],
      "metadata": {
        "id": "1W4o6er2Tqh-"
      },
      "execution_count": null,
      "outputs": []
    },
    {
      "cell_type": "code",
      "source": [
        "pd.unique(df3['Según tu forma de ser ¿Cuál de las siguientes frases te describe mejor: [Busco el éxito sin importar lo que deba sacrificar]'])"
      ],
      "metadata": {
        "id": "YOajPLirT90M"
      },
      "execution_count": null,
      "outputs": []
    },
    {
      "cell_type": "code",
      "source": [
        "pd.unique(df3.iloc[:,12])"
      ],
      "metadata": {
        "id": "Hm6YAIlwUJL4"
      },
      "execution_count": null,
      "outputs": []
    },
    {
      "cell_type": "code",
      "source": [
        "df3['Según tu forma de ser ¿Cuál de las siguientes frases te describe mejor: [Busco hacer cosas emocionantes para no aburrirme]'].value_counts()"
      ],
      "metadata": {
        "id": "9OaC1esEUmha"
      },
      "execution_count": null,
      "outputs": []
    },
    {
      "cell_type": "code",
      "source": [
        "df3.iloc[:,15].value_counts()"
      ],
      "metadata": {
        "id": "nxzZphq-U8g0"
      },
      "execution_count": null,
      "outputs": []
    },
    {
      "cell_type": "markdown",
      "source": [
        "Top 2 Box"
      ],
      "metadata": {
        "id": "gcBQSPBxV7Gh"
      }
    },
    {
      "cell_type": "code",
      "source": [
        "df3.iloc[:,8].value_counts()"
      ],
      "metadata": {
        "id": "z1-JGV2lV3MS"
      },
      "execution_count": null,
      "outputs": []
    },
    {
      "cell_type": "code",
      "source": [
        "df3.iloc[:,8].isin(['Totalmente verdadero', 'Un poco verdadero']).sum()"
      ],
      "metadata": {
        "id": "G9GDZPBQWCD5"
      },
      "execution_count": null,
      "outputs": []
    },
    {
      "cell_type": "code",
      "source": [
        "# Funcion condicional para top2box\n",
        "def top2box(x):\n",
        "  if x in ['Totalmente verdadero', 'Un poco verdadero']:\n",
        "    return 1\n",
        "  else:\n",
        "    return 0"
      ],
      "metadata": {
        "id": "BzoOhT3jW4cS"
      },
      "execution_count": null,
      "outputs": []
    },
    {
      "cell_type": "code",
      "source": [
        "# Aplicando la funcion\n",
        "(\n",
        "    df3.iloc[:,8]\n",
        "    .apply(top2box)\n",
        "    .value_counts()\n",
        ")"
      ],
      "metadata": {
        "id": "4L5Z5MDpZDCq"
      },
      "execution_count": null,
      "outputs": []
    },
    {
      "cell_type": "code",
      "source": [
        "# Función lambda\n",
        "df3.iloc[:,8].apply(\n",
        "    lambda x: 1 if x in ['Totalmente verdadero', 'Un poco verdadero'] else 0\n",
        ").value_counts()"
      ],
      "metadata": {
        "id": "FnHYWAExZ68p"
      },
      "execution_count": null,
      "outputs": []
    },
    {
      "cell_type": "markdown",
      "source": [
        "### De ordinal a numérica"
      ],
      "metadata": {
        "id": "XjDJKuBdbhOy"
      }
    },
    {
      "cell_type": "code",
      "source": [
        "import numpy as np"
      ],
      "metadata": {
        "id": "UXhMDZ4_busb"
      },
      "execution_count": null,
      "outputs": []
    },
    {
      "cell_type": "code",
      "source": [
        "df3.iloc[:,8].unique()"
      ],
      "metadata": {
        "id": "W5qu9ACZb2vu"
      },
      "execution_count": null,
      "outputs": []
    },
    {
      "cell_type": "code",
      "source": [
        "# Condiciones\n",
        "condiciones = [\n",
        "    df3.iloc[:,8] == 'Totalmente verdadero',\n",
        "    df3.iloc[:,8] == 'Un poco verdadero',\n",
        "    df3.iloc[:,8] == 'No lo sé',\n",
        "    df3.iloc[:,8] == 'Un poco falso',\n",
        "    df3.iloc[:,8] == 'Totalmente falso'\n",
        "]"
      ],
      "metadata": {
        "id": "pKn0pcUvb-f2"
      },
      "execution_count": null,
      "outputs": []
    },
    {
      "cell_type": "code",
      "source": [
        "# resultados\n",
        "resultados = [5,4,3,2,1]"
      ],
      "metadata": {
        "id": "z7LmEvn0cPPy"
      },
      "execution_count": null,
      "outputs": []
    },
    {
      "cell_type": "code",
      "source": [
        "# Usando select\n",
        "numeric = np.select(condiciones, resultados, default=np.nan)\n",
        "numeric"
      ],
      "metadata": {
        "id": "7KzsK7Mqch9a"
      },
      "execution_count": null,
      "outputs": []
    },
    {
      "cell_type": "code",
      "source": [
        "numeric.mean()"
      ],
      "metadata": {
        "id": "2e1yfkM4ctO7"
      },
      "execution_count": null,
      "outputs": []
    },
    {
      "cell_type": "code",
      "source": [
        "np.unique(numeric, return_counts=True)"
      ],
      "metadata": {
        "id": "NgI75g5QehNZ"
      },
      "execution_count": null,
      "outputs": []
    },
    {
      "cell_type": "markdown",
      "source": [
        "## Bucles"
      ],
      "metadata": {
        "id": "UWEI4HC0fEkP"
      }
    },
    {
      "cell_type": "markdown",
      "source": [
        "### Forma standard"
      ],
      "metadata": {
        "id": "SU_-_m6flLcK"
      }
    },
    {
      "cell_type": "code",
      "source": [
        "# Creando el df4\n",
        "df4 = df3.copy()"
      ],
      "metadata": {
        "id": "ZlemyR9zfF3k"
      },
      "execution_count": null,
      "outputs": []
    },
    {
      "cell_type": "code",
      "source": [
        "df4.info()"
      ],
      "metadata": {
        "id": "j3vElzF6lbId"
      },
      "execution_count": null,
      "outputs": []
    },
    {
      "cell_type": "code",
      "source": [
        "# Creando una lista vacía\n",
        "frases = []\n",
        "\n",
        "# bucle para llenar la lista\n",
        "for col in df4.columns:\n",
        "  if col.startswith('Según'):\n",
        "    frases.append(col)"
      ],
      "metadata": {
        "id": "CKvxpTK4llpb"
      },
      "execution_count": null,
      "outputs": []
    },
    {
      "cell_type": "code",
      "source": [
        "frases"
      ],
      "metadata": {
        "id": "ACEVXBLqmCp_"
      },
      "execution_count": null,
      "outputs": []
    },
    {
      "cell_type": "code",
      "source": [
        "# aplicando la función top2box a las columnas que pertenecen a 'frase'\n",
        "for frase in frases:\n",
        "  df4[frase] = df4[frase].apply(top2box)"
      ],
      "metadata": {
        "id": "6ARs7CfVniBr"
      },
      "execution_count": null,
      "outputs": []
    },
    {
      "cell_type": "code",
      "source": [
        "df4[frases].head()"
      ],
      "metadata": {
        "id": "CJcpCI4ooCC6"
      },
      "execution_count": null,
      "outputs": []
    },
    {
      "cell_type": "markdown",
      "source": [
        "### Pythonic way | Forma pythonica"
      ],
      "metadata": {
        "id": "CAXLV6NYo7FM"
      }
    },
    {
      "cell_type": "code",
      "source": [
        "# Creando df5\n",
        "df5 = df3.copy()"
      ],
      "metadata": {
        "id": "ZotlIK_FotY9"
      },
      "execution_count": null,
      "outputs": []
    },
    {
      "cell_type": "code",
      "source": [
        "# Lista vacía\n",
        "frases = []\n",
        "\n",
        "# Comprehension list\n",
        "frases = [col for col in df5.columns if col.startswith('Según')]"
      ],
      "metadata": {
        "id": "I8pfkkUIpLSS"
      },
      "execution_count": null,
      "outputs": []
    },
    {
      "cell_type": "code",
      "source": [
        "frases"
      ],
      "metadata": {
        "id": "i_-wGMRUqGp3"
      },
      "execution_count": null,
      "outputs": []
    },
    {
      "cell_type": "code",
      "source": [
        "# Aplicando el bucle, esta vez con lambda\n",
        "for frase in frases:\n",
        "  df5[frase] = df5[frase].apply(lambda x: 1 if x in ['Totalmente verdadero', 'Un poco verdadero'] else 0)"
      ],
      "metadata": {
        "id": "ZuLaUtMLqSfb"
      },
      "execution_count": null,
      "outputs": []
    },
    {
      "cell_type": "code",
      "source": [
        "df5[frases] == df4[frases]"
      ],
      "metadata": {
        "id": "z_bhEE3dtIMZ"
      },
      "execution_count": null,
      "outputs": []
    },
    {
      "cell_type": "markdown",
      "source": [
        "## Tema 03: Manipulación de datos"
      ],
      "metadata": {
        "id": "Xv1dmDb3t9XZ"
      }
    },
    {
      "cell_type": "markdown",
      "source": [
        "### Selección de columnas"
      ],
      "metadata": {
        "id": "3xYMVhNtuC20"
      }
    },
    {
      "cell_type": "code",
      "source": [
        "df5['Sexo']"
      ],
      "metadata": {
        "id": "fE_i4zJtuB5k"
      },
      "execution_count": null,
      "outputs": []
    },
    {
      "cell_type": "code",
      "source": [
        "df5[['Sexo']]"
      ],
      "metadata": {
        "id": "XORloQs8uRej"
      },
      "execution_count": null,
      "outputs": []
    },
    {
      "cell_type": "code",
      "source": [
        "df5[['Sexo', 'edad2']]"
      ],
      "metadata": {
        "id": "ionvK3gBuczy"
      },
      "execution_count": null,
      "outputs": []
    },
    {
      "cell_type": "code",
      "source": [
        "# eliminar columna\n",
        "df5.drop(columns=['Marca temporal'])"
      ],
      "metadata": {
        "id": "91PaUnc2vE_4"
      },
      "execution_count": null,
      "outputs": []
    },
    {
      "cell_type": "code",
      "source": [
        "# Seleccionar cols que comienzan con... ¿Cuánto\n",
        "df5[[col for col in df5.columns if col.startswith('¿Cuánto')]]"
      ],
      "metadata": {
        "id": "J8t_ieuXvXSu"
      },
      "execution_count": null,
      "outputs": []
    },
    {
      "cell_type": "code",
      "source": [
        "# Seleccionar cols que terminan con un corchete\n",
        "df5[[col for col in df5.columns if col.endswith(']')]]"
      ],
      "metadata": {
        "id": "UwFJOfsbwjRQ"
      },
      "execution_count": null,
      "outputs": []
    },
    {
      "cell_type": "code",
      "source": [
        "# contains\n",
        "df5.filter(like='edad')"
      ],
      "metadata": {
        "id": "y6ciVCSixAfK"
      },
      "execution_count": null,
      "outputs": []
    },
    {
      "cell_type": "markdown",
      "source": [
        "### Selección de filas"
      ],
      "metadata": {
        "id": "OXlB_X5vxPcy"
      }
    },
    {
      "cell_type": "code",
      "source": [
        "# Seleccionar filas cuando Sexo = 'Mujer'\n",
        "df5[df5['Sexo'] == 'Mujer']"
      ],
      "metadata": {
        "id": "YYf9QCcuxRaV"
      },
      "execution_count": null,
      "outputs": []
    },
    {
      "cell_type": "code",
      "source": [
        "# Seleccionar filas cuando Sexo no es = 'Mujer'\n",
        "df5[df5['Sexo'] != 'Mujer']['Sexo']"
      ],
      "metadata": {
        "id": "77DboLOiSFYS"
      },
      "execution_count": null,
      "outputs": []
    },
    {
      "cell_type": "code",
      "source": [
        "# Seleccionar las filas en las que edad2 sea mayor a 20\n",
        "df5[df5['edad2'] > 20]['edad2']"
      ],
      "metadata": {
        "id": "muLwbN1KSrpC"
      },
      "execution_count": null,
      "outputs": []
    },
    {
      "cell_type": "code",
      "source": [
        "# Seleccionar edad2 cuando el valor está entre 18 y 21\n",
        "df5[(df5['edad2'] >= 18) & (df5['edad2'] <= 21)]['edad2']"
      ],
      "metadata": {
        "id": "EEuOuTuLS-_J"
      },
      "execution_count": null,
      "outputs": []
    },
    {
      "cell_type": "code",
      "source": [
        "# Seleccionar edad2 cuando el valor está entre 18 y 21 y Sexo = Mujer\n",
        "df5[(df5['edad2'] >= 18) & (df5['edad2'] <= 21) & (df5['Sexo'] == 'Mujer')]['edad2']"
      ],
      "metadata": {
        "id": "MB1-_qYkTuEi"
      },
      "execution_count": null,
      "outputs": []
    },
    {
      "cell_type": "markdown",
      "source": [
        "### Renombrado de columnas"
      ],
      "metadata": {
        "id": "Fw1m-gz3UDrI"
      }
    },
    {
      "cell_type": "code",
      "source": [
        "df6 = df5.copy()"
      ],
      "metadata": {
        "id": "Twu60cwUUFg_"
      },
      "execution_count": null,
      "outputs": []
    },
    {
      "cell_type": "code",
      "source": [
        "df6.columns"
      ],
      "metadata": {
        "id": "_jWbsy3KUIpH"
      },
      "execution_count": null,
      "outputs": []
    },
    {
      "cell_type": "markdown",
      "source": [
        "APPS"
      ],
      "metadata": {
        "id": "xSoJ4oiVV3sg"
      }
    },
    {
      "cell_type": "markdown",
      "source": [
        "**Paso 1:** Crear una lista con los nuevos nombres"
      ],
      "metadata": {
        "id": "Eynv6ROHV5uW"
      }
    },
    {
      "cell_type": "code",
      "source": [
        "apps = ['TikTok', 'Instagram', 'Facebook', 'YouTube']"
      ],
      "metadata": {
        "id": "LftAj7DhV4Um"
      },
      "execution_count": null,
      "outputs": []
    },
    {
      "cell_type": "markdown",
      "source": [
        "**Paso 2:** Crear un dict que contenga los nombres antiguos como claves (keys) y los nombres nuevos como valores (values)"
      ],
      "metadata": {
        "id": "Nv4jnQJ0WLem"
      }
    },
    {
      "cell_type": "code",
      "source": [
        "apps_dict = dict(zip(\n",
        "    [col for col in df6.columns if col.startswith('¿Cuánto tiempo')],\n",
        "    apps\n",
        "))"
      ],
      "metadata": {
        "id": "64H4wdDuWHiu"
      },
      "execution_count": null,
      "outputs": []
    },
    {
      "cell_type": "code",
      "source": [
        "apps_dict"
      ],
      "metadata": {
        "id": "cw1u-HiXX6UV"
      },
      "execution_count": null,
      "outputs": []
    },
    {
      "cell_type": "markdown",
      "source": [
        "**Paso 3:** Renombrando"
      ],
      "metadata": {
        "id": "_z2AUG7vZE2e"
      }
    },
    {
      "cell_type": "code",
      "source": [
        "df6.rename(apps_dict, axis=1, inplace=True)"
      ],
      "metadata": {
        "id": "2PD2RTJkZHIM"
      },
      "execution_count": null,
      "outputs": []
    },
    {
      "cell_type": "code",
      "source": [
        "df6.info()"
      ],
      "metadata": {
        "id": "FGMY3qWzZQsl"
      },
      "execution_count": null,
      "outputs": []
    },
    {
      "cell_type": "markdown",
      "source": [
        "Frases"
      ],
      "metadata": {
        "id": "-0sTc-5mb5iU"
      }
    },
    {
      "cell_type": "code",
      "source": [
        "df6.columns = (\n",
        "    df6.columns\n",
        "    .str.replace('Según tu forma de ser ¿Cuál de las siguientes frases te describe mejor: [', '')\n",
        "    .str.replace(']', '')\n",
        ")"
      ],
      "metadata": {
        "id": "rpiYTwuib6Py"
      },
      "execution_count": null,
      "outputs": []
    },
    {
      "cell_type": "code",
      "source": [
        "df6.info()"
      ],
      "metadata": {
        "id": "gQlSkiAOcjgj"
      },
      "execution_count": null,
      "outputs": []
    },
    {
      "cell_type": "markdown",
      "source": [
        "### Pivotado"
      ],
      "metadata": {
        "id": "8IUNuyKLc55D"
      }
    },
    {
      "cell_type": "markdown",
      "source": [
        "#### Pivot Longer"
      ],
      "metadata": {
        "id": "QEHDhzyvc_bb"
      }
    },
    {
      "cell_type": "code",
      "source": [
        "apps"
      ],
      "metadata": {
        "id": "9pomAB7Ac9Jy"
      },
      "execution_count": null,
      "outputs": []
    },
    {
      "cell_type": "code",
      "source": [
        "df7 = df6.melt(\n",
        "    id_vars = ['Marca temporal', 'Sexo', 'edad2'],\n",
        "    value_vars = apps,\n",
        "    var_name = 'app',\n",
        "    value_name = 'time'\n",
        ")"
      ],
      "metadata": {
        "id": "PKeppQxtd_zi"
      },
      "execution_count": null,
      "outputs": []
    },
    {
      "cell_type": "code",
      "source": [
        "df7.head()"
      ],
      "metadata": {
        "id": "cfEdTrQ5ecFK"
      },
      "execution_count": null,
      "outputs": []
    },
    {
      "cell_type": "markdown",
      "source": [
        "#### Pivot Wider"
      ],
      "metadata": {
        "id": "HAW61_THZgjQ"
      }
    },
    {
      "cell_type": "code",
      "source": [
        "df8 = df7.pivot(\n",
        "    index = ['Marca temporal', 'Sexo', 'edad2'],\n",
        "    columns = 'app',\n",
        "    values = 'time'\n",
        ").reset_index()"
      ],
      "metadata": {
        "id": "XqGmfOPYZhYw"
      },
      "execution_count": 113,
      "outputs": []
    },
    {
      "cell_type": "code",
      "source": [
        "df8"
      ],
      "metadata": {
        "id": "R0x8xmd0aOs6"
      },
      "execution_count": null,
      "outputs": []
    },
    {
      "cell_type": "markdown",
      "source": [
        "## Tema 04: Outliers"
      ],
      "metadata": {
        "id": "SvQZyHIWbxNB"
      }
    },
    {
      "cell_type": "code",
      "source": [
        "df7.head()"
      ],
      "metadata": {
        "id": "Jj50Ze4Gbz9P"
      },
      "execution_count": null,
      "outputs": []
    },
    {
      "cell_type": "code",
      "source": [
        "df7['time'].dtype"
      ],
      "metadata": {
        "id": "R6WaC-Rjb4_n"
      },
      "execution_count": null,
      "outputs": []
    },
    {
      "cell_type": "markdown",
      "source": [
        "Transformando horas a número"
      ],
      "metadata": {
        "id": "wjuubv8_cC9l"
      }
    },
    {
      "cell_type": "code",
      "source": [
        "# split() separa texto\n",
        "'09:24:00'.split(':')"
      ],
      "metadata": {
        "id": "R1Wy840FcERU"
      },
      "execution_count": null,
      "outputs": []
    },
    {
      "cell_type": "code",
      "source": [
        "# Función conversora\n",
        "def tiempo_a_num(x):\n",
        "  x = x.split(':')\n",
        "  return int(x[0]) + int(x[1])/60 + int(x[2])/3600"
      ],
      "metadata": {
        "id": "lpMGakxuczim"
      },
      "execution_count": 118,
      "outputs": []
    },
    {
      "cell_type": "code",
      "source": [
        "tiempo_a_num('09:24:00')"
      ],
      "metadata": {
        "colab": {
          "base_uri": "https://localhost:8080/"
        },
        "id": "4WfuhtiHdNKq",
        "outputId": "8878a5a9-6851-442b-dab3-194aeafd6575"
      },
      "execution_count": 119,
      "outputs": [
        {
          "output_type": "execute_result",
          "data": {
            "text/plain": [
              "9.4"
            ]
          },
          "metadata": {},
          "execution_count": 119
        }
      ]
    },
    {
      "cell_type": "code",
      "source": [
        "df7['time'] = df7['time'].apply(tiempo_a_num)"
      ],
      "metadata": {
        "id": "y0NchUWedWSH"
      },
      "execution_count": 122,
      "outputs": []
    },
    {
      "cell_type": "code",
      "source": [
        "df7.head()"
      ],
      "metadata": {
        "id": "a7tOQHkZeG3J"
      },
      "execution_count": null,
      "outputs": []
    },
    {
      "cell_type": "markdown",
      "source": [
        "### Boxplots"
      ],
      "metadata": {
        "id": "M2urXX0Qebb_"
      }
    },
    {
      "cell_type": "code",
      "source": [
        "import plotly.express as px"
      ],
      "metadata": {
        "id": "BD2JH3afecxW"
      },
      "execution_count": 124,
      "outputs": []
    },
    {
      "cell_type": "code",
      "source": [
        "boxplot_01 = px.box(df7, y='time')\n",
        "boxplot_01.show()"
      ],
      "metadata": {
        "id": "IFZPDi0qeg0F"
      },
      "execution_count": null,
      "outputs": []
    },
    {
      "cell_type": "code",
      "source": [
        "(\n",
        "    px.box(df7, x='app', y='time', color='app')\n",
        "    .update_layout({\n",
        "        'showlegend': False,\n",
        "        'plot_bgcolor': 'white'\n",
        "    })\n",
        "    .update_traces({\n",
        "        'fillcolor': 'white'\n",
        "    })\n",
        ")"
      ],
      "metadata": {
        "id": "7vUevbt3fLnx"
      },
      "execution_count": null,
      "outputs": []
    },
    {
      "cell_type": "code",
      "source": [
        "df9 = df7.copy()"
      ],
      "metadata": {
        "id": "RTAdTjbxi2n9"
      },
      "execution_count": 149,
      "outputs": []
    },
    {
      "cell_type": "code",
      "source": [
        "condiciones = (\n",
        "    ((df9['app'] == 'TikTok')     & (df9['time'] > 18)) |\n",
        "    ((df9['app'] == 'Instagram')  & (df9['time'] > 12)) |\n",
        "    ((df9['app'] == 'Facebook')   & (df9['time'] > 10)) |\n",
        "    ((df9['app'] == 'YouTube')    & (df9['time'] > 9))\n",
        ")"
      ],
      "metadata": {
        "id": "08s5j2LTirVi"
      },
      "execution_count": 150,
      "outputs": []
    },
    {
      "cell_type": "code",
      "source": [
        "df9['outlier'] = np.where(condiciones, 'Si', 'No')"
      ],
      "metadata": {
        "id": "BKL78KHLjSWX"
      },
      "execution_count": 151,
      "outputs": []
    },
    {
      "cell_type": "code",
      "source": [
        "df9['promedio'] = df9.groupby('app')['time'].transform('mean')"
      ],
      "metadata": {
        "id": "IZVqSE0WjzSs"
      },
      "execution_count": 152,
      "outputs": []
    },
    {
      "cell_type": "code",
      "source": [
        "df9['nuevo_max'] = df9.groupby('app')['time'].transform('mean') + 1.64 * df9.groupby('app')['time'].transform('std')"
      ],
      "metadata": {
        "id": "Z5HDdeiOsptm"
      },
      "execution_count": 162,
      "outputs": []
    },
    {
      "cell_type": "code",
      "source": [
        "# Upper fence\n",
        "Q1 = df9.groupby('app')['time'].transform(lambda x: x.quantile(0.25))\n",
        "Q3 = df9.groupby('app')['time'].transform(lambda x: x.quantile(0.75))\n",
        "IQR = Q3 - Q1\n",
        "df9['upper_fence'] = Q3 + 1.5 * IQR"
      ],
      "metadata": {
        "id": "GSdAlvUIs7yG"
      },
      "execution_count": 165,
      "outputs": []
    },
    {
      "cell_type": "code",
      "source": [
        "df9.head()"
      ],
      "metadata": {
        "id": "GGFrk5tXtNuk"
      },
      "execution_count": null,
      "outputs": []
    },
    {
      "cell_type": "code",
      "source": [
        "df9['time2'] = np.where(\n",
        "    df9['outlier'] == 'Si',\n",
        "    df9['upper_fence'],\n",
        "    df9['time']\n",
        ")"
      ],
      "metadata": {
        "id": "4u-H6z9Wvw9w"
      },
      "execution_count": 169,
      "outputs": []
    },
    {
      "cell_type": "code",
      "source": [
        "df9.head()"
      ],
      "metadata": {
        "id": "E8xYlCJcwN6v"
      },
      "execution_count": null,
      "outputs": []
    },
    {
      "cell_type": "code",
      "source": [
        "(\n",
        "    px.box(df9, x='app', y='time2', color='app')\n",
        "    .update_layout({\n",
        "        'showlegend': False,\n",
        "        'plot_bgcolor': 'white'\n",
        "    })\n",
        "    .update_traces({\n",
        "        'fillcolor': 'white'\n",
        "    })\n",
        ")"
      ],
      "metadata": {
        "colab": {
          "base_uri": "https://localhost:8080/",
          "height": 542
        },
        "id": "p09aWXMFwiNg",
        "outputId": "3c57e059-b470-40ea-a24f-e97ffefc6dd0"
      },
      "execution_count": 172,
      "outputs": [
        {
          "output_type": "display_data",
          "data": {
            "text/html": [
              "<html>\n",
              "<head><meta charset=\"utf-8\" /></head>\n",
              "<body>\n",
              "    <div>            <script src=\"https://cdnjs.cloudflare.com/ajax/libs/mathjax/2.7.5/MathJax.js?config=TeX-AMS-MML_SVG\"></script><script type=\"text/javascript\">if (window.MathJax && window.MathJax.Hub && window.MathJax.Hub.Config) {window.MathJax.Hub.Config({SVG: {font: \"STIX-Web\"}});}</script>                <script type=\"text/javascript\">window.PlotlyConfig = {MathJaxConfig: 'local'};</script>\n",
              "        <script charset=\"utf-8\" src=\"https://cdn.plot.ly/plotly-2.35.2.min.js\"></script>                <div id=\"ffc53641-df35-4fd7-89ef-cb19fe276c3b\" class=\"plotly-graph-div\" style=\"height:525px; width:100%;\"></div>            <script type=\"text/javascript\">                                    window.PLOTLYENV=window.PLOTLYENV || {};                                    if (document.getElementById(\"ffc53641-df35-4fd7-89ef-cb19fe276c3b\")) {                    Plotly.newPlot(                        \"ffc53641-df35-4fd7-89ef-cb19fe276c3b\",                        [{\"alignmentgroup\":\"True\",\"hovertemplate\":\"app=%{x}\\u003cbr\\u003etime2=%{y}\\u003cextra\\u003e\\u003c\\u002fextra\\u003e\",\"legendgroup\":\"TikTok\",\"marker\":{\"color\":\"#636efa\"},\"name\":\"TikTok\",\"notched\":false,\"offsetgroup\":\"TikTok\",\"orientation\":\"v\",\"showlegend\":true,\"x\":[\"TikTok\",\"TikTok\",\"TikTok\",\"TikTok\",\"TikTok\",\"TikTok\",\"TikTok\",\"TikTok\",\"TikTok\",\"TikTok\",\"TikTok\",\"TikTok\",\"TikTok\",\"TikTok\",\"TikTok\",\"TikTok\",\"TikTok\",\"TikTok\",\"TikTok\",\"TikTok\",\"TikTok\",\"TikTok\",\"TikTok\",\"TikTok\",\"TikTok\",\"TikTok\",\"TikTok\",\"TikTok\",\"TikTok\",\"TikTok\",\"TikTok\",\"TikTok\",\"TikTok\",\"TikTok\",\"TikTok\",\"TikTok\",\"TikTok\",\"TikTok\",\"TikTok\",\"TikTok\",\"TikTok\",\"TikTok\",\"TikTok\",\"TikTok\",\"TikTok\",\"TikTok\",\"TikTok\",\"TikTok\",\"TikTok\",\"TikTok\",\"TikTok\",\"TikTok\",\"TikTok\",\"TikTok\",\"TikTok\",\"TikTok\",\"TikTok\",\"TikTok\",\"TikTok\",\"TikTok\",\"TikTok\",\"TikTok\",\"TikTok\",\"TikTok\",\"TikTok\",\"TikTok\",\"TikTok\",\"TikTok\",\"TikTok\",\"TikTok\",\"TikTok\",\"TikTok\",\"TikTok\",\"TikTok\",\"TikTok\",\"TikTok\",\"TikTok\",\"TikTok\",\"TikTok\",\"TikTok\",\"TikTok\",\"TikTok\",\"TikTok\",\"TikTok\",\"TikTok\",\"TikTok\",\"TikTok\",\"TikTok\",\"TikTok\",\"TikTok\",\"TikTok\",\"TikTok\",\"TikTok\",\"TikTok\",\"TikTok\",\"TikTok\",\"TikTok\",\"TikTok\",\"TikTok\",\"TikTok\",\"TikTok\",\"TikTok\",\"TikTok\",\"TikTok\",\"TikTok\",\"TikTok\",\"TikTok\",\"TikTok\",\"TikTok\",\"TikTok\",\"TikTok\",\"TikTok\",\"TikTok\",\"TikTok\",\"TikTok\",\"TikTok\",\"TikTok\",\"TikTok\",\"TikTok\",\"TikTok\",\"TikTok\",\"TikTok\",\"TikTok\",\"TikTok\",\"TikTok\",\"TikTok\",\"TikTok\",\"TikTok\",\"TikTok\",\"TikTok\",\"TikTok\",\"TikTok\",\"TikTok\",\"TikTok\",\"TikTok\",\"TikTok\",\"TikTok\",\"TikTok\",\"TikTok\",\"TikTok\",\"TikTok\",\"TikTok\",\"TikTok\",\"TikTok\",\"TikTok\",\"TikTok\",\"TikTok\",\"TikTok\",\"TikTok\",\"TikTok\",\"TikTok\",\"TikTok\",\"TikTok\",\"TikTok\",\"TikTok\",\"TikTok\",\"TikTok\",\"TikTok\",\"TikTok\",\"TikTok\",\"TikTok\",\"TikTok\",\"TikTok\",\"TikTok\",\"TikTok\",\"TikTok\",\"TikTok\",\"TikTok\",\"TikTok\",\"TikTok\",\"TikTok\",\"TikTok\",\"TikTok\",\"TikTok\",\"TikTok\",\"TikTok\",\"TikTok\",\"TikTok\",\"TikTok\",\"TikTok\",\"TikTok\",\"TikTok\",\"TikTok\",\"TikTok\",\"TikTok\",\"TikTok\",\"TikTok\",\"TikTok\",\"TikTok\",\"TikTok\",\"TikTok\",\"TikTok\",\"TikTok\",\"TikTok\",\"TikTok\",\"TikTok\",\"TikTok\",\"TikTok\",\"TikTok\",\"TikTok\",\"TikTok\",\"TikTok\",\"TikTok\",\"TikTok\",\"TikTok\",\"TikTok\",\"TikTok\",\"TikTok\",\"TikTok\",\"TikTok\",\"TikTok\",\"TikTok\",\"TikTok\",\"TikTok\",\"TikTok\",\"TikTok\",\"TikTok\",\"TikTok\",\"TikTok\",\"TikTok\",\"TikTok\",\"TikTok\",\"TikTok\",\"TikTok\",\"TikTok\",\"TikTok\",\"TikTok\",\"TikTok\",\"TikTok\",\"TikTok\",\"TikTok\",\"TikTok\",\"TikTok\",\"TikTok\",\"TikTok\",\"TikTok\",\"TikTok\",\"TikTok\",\"TikTok\",\"TikTok\",\"TikTok\",\"TikTok\",\"TikTok\",\"TikTok\",\"TikTok\",\"TikTok\",\"TikTok\",\"TikTok\",\"TikTok\",\"TikTok\",\"TikTok\"],\"x0\":\" \",\"xaxis\":\"x\",\"y\":[0.0,0.8333333333333334,8.0,19.041666666666664,7.0,1.2666666666666666,8.0,13.183333333333334,0.85,19.041666666666664,4.0,2.783333333333333,3.0,0.0,4.0,0.0,0.0,1.95,1.0166666666666666,0.0,1.05,3.0,0.31666666666666665,0.6333333333333333,1.2666666666666666,10.733333333333333,12.0,2.3333333333333335,15.583333333333334,6.0,14.0,0.38333333333333336,19.041666666666664,0.0,2.5,3.216666666666667,12.0,13.0,1.6666666666666665,6.016666666666667,0.8,0.0,6.866666666666667,3.75,0.0,1.2666666666666666,1.0,4.0,8.866666666666667,5.666666666666667,3.0,3.0,0.5833333333333334,2.8333333333333335,3.25,0.0,7.0,5.0,1.3333333333333333,14.0,6.0,5.083333333333333,2.5,0.0,0.0,6.0,11.15,0.0,0.0,6.5,0.26666666666666666,10.0,0.0,0.0,0.9166666666666666,12.533333333333333,2.0,2.0,0.0,1.0,4.0,1.0,0.3,5.6,2.1333333333333333,0.3,0.0,4.8,1.0166666666666666,2.216666666666667,1.6166666666666667,0.8166666666666667,1.5166666666666666,1.0,0.0,0.5833333333333334,5.416666666666667,0.0,9.166666666666666,0.0,4.0,2.0,8.3,3.0,10.5,15.05,8.0,5.0,0.0,4.0,10.0,0.0,8.133333333333333,2.35,8.616666666666667,5.416666666666667,6.75,0.0,1.0,0.0,0.0,0.0,7.0,0.4166666666666667,3.466666666666667,1.0,8.0,8.0,3.25,1.8333333333333335,5.25,14.0,16.366666666666667,0.9166666666666666,5.666666666666667,6.0,8.583333333333334,1.3166666666666667,9.55,5.0,0.3333333333333333,3.0,3.0,7.866666666666667,1.4666666666666668,5.0,1.8666666666666667,7.0,2.45,5.4,3.6,19.041666666666664,2.0,1.0,10.0,5.0,15.566666666666666,2.0,3.0,3.2,11.0,9.366666666666667,14.4,7.2,1.0,4.166666666666667,10.0,13.083333333333334,7.95,3.2333333333333334,4.0,10.0,1.0166666666666666,2.0,1.0,2.033333333333333,0.0,0.0,17.016666666666666,10.0,4.416666666666667,3.9166666666666665,0.0,4.0,0.0,15.4,14.666666666666666,1.8,16.133333333333333,0.5,19.041666666666664,1.1166666666666667,0.45,0.0,5.5,0.0,6.65,0.0,0.0,19.041666666666664,7.0,7.0,10.0,19.041666666666664,1.2,2.0,0.05,10.366666666666667,0.0,12.0,1.0,4.3,0.0,1.0,0.0,0.0,1.0,12.35,6.283333333333333,4.283333333333333,9.516666666666667,2.8,7.366666666666666,5.716666666666667,5.666666666666667,19.041666666666664,19.041666666666664,2.0,16.416666666666668,9.0,9.866666666666667,12.083333333333334,2.0,7.783333333333333,0.0,13.0,13.333333333333334,19.041666666666664,0.16666666666666666,10.0,6.9,19.041666666666664,16.333333333333332,16.35,4.0,17.0,15.0,4.0,1.25,7.383333333333334,14.8],\"y0\":\" \",\"yaxis\":\"y\",\"type\":\"box\",\"fillcolor\":\"white\"},{\"alignmentgroup\":\"True\",\"hovertemplate\":\"app=%{x}\\u003cbr\\u003etime2=%{y}\\u003cextra\\u003e\\u003c\\u002fextra\\u003e\",\"legendgroup\":\"Instagram\",\"marker\":{\"color\":\"#EF553B\"},\"name\":\"Instagram\",\"notched\":false,\"offsetgroup\":\"Instagram\",\"orientation\":\"v\",\"showlegend\":true,\"x\":[\"Instagram\",\"Instagram\",\"Instagram\",\"Instagram\",\"Instagram\",\"Instagram\",\"Instagram\",\"Instagram\",\"Instagram\",\"Instagram\",\"Instagram\",\"Instagram\",\"Instagram\",\"Instagram\",\"Instagram\",\"Instagram\",\"Instagram\",\"Instagram\",\"Instagram\",\"Instagram\",\"Instagram\",\"Instagram\",\"Instagram\",\"Instagram\",\"Instagram\",\"Instagram\",\"Instagram\",\"Instagram\",\"Instagram\",\"Instagram\",\"Instagram\",\"Instagram\",\"Instagram\",\"Instagram\",\"Instagram\",\"Instagram\",\"Instagram\",\"Instagram\",\"Instagram\",\"Instagram\",\"Instagram\",\"Instagram\",\"Instagram\",\"Instagram\",\"Instagram\",\"Instagram\",\"Instagram\",\"Instagram\",\"Instagram\",\"Instagram\",\"Instagram\",\"Instagram\",\"Instagram\",\"Instagram\",\"Instagram\",\"Instagram\",\"Instagram\",\"Instagram\",\"Instagram\",\"Instagram\",\"Instagram\",\"Instagram\",\"Instagram\",\"Instagram\",\"Instagram\",\"Instagram\",\"Instagram\",\"Instagram\",\"Instagram\",\"Instagram\",\"Instagram\",\"Instagram\",\"Instagram\",\"Instagram\",\"Instagram\",\"Instagram\",\"Instagram\",\"Instagram\",\"Instagram\",\"Instagram\",\"Instagram\",\"Instagram\",\"Instagram\",\"Instagram\",\"Instagram\",\"Instagram\",\"Instagram\",\"Instagram\",\"Instagram\",\"Instagram\",\"Instagram\",\"Instagram\",\"Instagram\",\"Instagram\",\"Instagram\",\"Instagram\",\"Instagram\",\"Instagram\",\"Instagram\",\"Instagram\",\"Instagram\",\"Instagram\",\"Instagram\",\"Instagram\",\"Instagram\",\"Instagram\",\"Instagram\",\"Instagram\",\"Instagram\",\"Instagram\",\"Instagram\",\"Instagram\",\"Instagram\",\"Instagram\",\"Instagram\",\"Instagram\",\"Instagram\",\"Instagram\",\"Instagram\",\"Instagram\",\"Instagram\",\"Instagram\",\"Instagram\",\"Instagram\",\"Instagram\",\"Instagram\",\"Instagram\",\"Instagram\",\"Instagram\",\"Instagram\",\"Instagram\",\"Instagram\",\"Instagram\",\"Instagram\",\"Instagram\",\"Instagram\",\"Instagram\",\"Instagram\",\"Instagram\",\"Instagram\",\"Instagram\",\"Instagram\",\"Instagram\",\"Instagram\",\"Instagram\",\"Instagram\",\"Instagram\",\"Instagram\",\"Instagram\",\"Instagram\",\"Instagram\",\"Instagram\",\"Instagram\",\"Instagram\",\"Instagram\",\"Instagram\",\"Instagram\",\"Instagram\",\"Instagram\",\"Instagram\",\"Instagram\",\"Instagram\",\"Instagram\",\"Instagram\",\"Instagram\",\"Instagram\",\"Instagram\",\"Instagram\",\"Instagram\",\"Instagram\",\"Instagram\",\"Instagram\",\"Instagram\",\"Instagram\",\"Instagram\",\"Instagram\",\"Instagram\",\"Instagram\",\"Instagram\",\"Instagram\",\"Instagram\",\"Instagram\",\"Instagram\",\"Instagram\",\"Instagram\",\"Instagram\",\"Instagram\",\"Instagram\",\"Instagram\",\"Instagram\",\"Instagram\",\"Instagram\",\"Instagram\",\"Instagram\",\"Instagram\",\"Instagram\",\"Instagram\",\"Instagram\",\"Instagram\",\"Instagram\",\"Instagram\",\"Instagram\",\"Instagram\",\"Instagram\",\"Instagram\",\"Instagram\",\"Instagram\",\"Instagram\",\"Instagram\",\"Instagram\",\"Instagram\",\"Instagram\",\"Instagram\",\"Instagram\",\"Instagram\",\"Instagram\",\"Instagram\",\"Instagram\",\"Instagram\",\"Instagram\",\"Instagram\",\"Instagram\",\"Instagram\",\"Instagram\",\"Instagram\",\"Instagram\",\"Instagram\",\"Instagram\",\"Instagram\",\"Instagram\",\"Instagram\",\"Instagram\",\"Instagram\",\"Instagram\",\"Instagram\",\"Instagram\",\"Instagram\",\"Instagram\",\"Instagram\",\"Instagram\",\"Instagram\",\"Instagram\",\"Instagram\",\"Instagram\",\"Instagram\",\"Instagram\",\"Instagram\",\"Instagram\",\"Instagram\",\"Instagram\",\"Instagram\"],\"x0\":\" \",\"xaxis\":\"x\",\"y\":[1.0,0.0,4.0,11.35,1.0666666666666667,1.0,12.0,0.7166666666666667,0.9166666666666666,10.833333333333334,0.0,4.2,2.0,0.16666666666666666,6.0,6.066666666666666,0.0,2.95,4.083333333333333,5.45,0.16666666666666666,3.0,4.0,9.05,0.85,9.133333333333333,12.1875,1.0,4.65,2.0,1.0,1.0,12.1875,10.5,0.3333333333333333,1.8166666666666667,6.0,2.0,6.2,2.85,1.6,4.0,8.083333333333334,4.25,12.1875,2.9333333333333336,4.283333333333333,5.0,1.9666666666666668,2.75,6.0,0.0,4.066666666666666,4.216666666666667,7.5,5.0,10.0,4.0,4.75,0.5,5.0,3.5666666666666664,1.0,4.85,0.0,8.0,4.833333333333333,0.0,2.45,12.1875,2.0833333333333335,5.0,3.2,3.0,0.6,4.016666666666667,2.9166666666666665,8.0,0.0,0.0,0.0,3.0,0.48333333333333334,2.183333333333333,2.6166666666666667,3.8833333333333333,5.933333333333334,6.583333333333333,1.2333333333333334,6.666666666666667,1.1666666666666667,0.8166666666666667,4.883333333333333,0.5,2.6333333333333333,2.066666666666667,4.966666666666667,0.016666666666666666,1.55,0.0,7.0,4.0,1.9333333333333333,0.0,12.1875,5.333333333333333,2.0,1.0,2.0,6.0,12.1875,1.6333333333333333,7.35,5.5,0.6166666666666667,0.3333333333333333,3.1166666666666667,12.1875,2.25,1.0,1.0,1.0,12.1875,2.15,1.5666666666666667,2.0,9.0,5.0,2.7666666666666666,2.0,4.866666666666667,7.0,0.06666666666666667,1.35,2.4,2.0,6.766666666666667,2.9166666666666665,2.1666666666666665,9.0,6.0,6.0,1.0,6.55,2.25,12.1875,1.55,7.0,1.2166666666666668,1.8166666666666667,8.933333333333334,8.1,5.0,12.0,8.0,0.7333333333333333,4.9,0.5,2.0,2.0166666666666666,5.616666666666667,4.983333333333333,4.866666666666667,1.7,1.0,4.25,0.0,7.55,1.9666666666666668,3.1333333333333333,5.0,12.0,0.0,0.0,10.0,0.5,3.0,0.0,12.1875,0.0,1.2,0.75,0.0,0.5,0.0,4.35,4.116666666666666,0.48333333333333334,2.5,1.0,12.1875,4.283333333333333,8.05,0.5,1.0,6.55,2.3666666666666667,12.1875,0.26666666666666666,10.0,2.0,2.0,12.1875,0.0,1.4666666666666668,1.0,0.38333333333333336,5.166666666666667,0.0,5.0,0.0,0.16666666666666666,0.0,1.0,0.25,0.0,0.5,6.0,2.35,2.4166666666666665,1.8,4.583333333333333,1.2,1.1166666666666667,1.9,2.466666666666667,0.25,3.0,7.3,0.23333333333333334,12.1875,1.1,2.6166666666666667,2.65,2.9,3.4166666666666665,4.983333333333333,12.1875,3.5,12.1875,5.416666666666667,4.0,12.1875,1.3166666666666667,1.5,12.1875,7.95,4.4,0.3333333333333333,2.0,1.1666666666666667],\"y0\":\" \",\"yaxis\":\"y\",\"type\":\"box\",\"fillcolor\":\"white\"},{\"alignmentgroup\":\"True\",\"hovertemplate\":\"app=%{x}\\u003cbr\\u003etime2=%{y}\\u003cextra\\u003e\\u003c\\u002fextra\\u003e\",\"legendgroup\":\"Facebook\",\"marker\":{\"color\":\"#00cc96\"},\"name\":\"Facebook\",\"notched\":false,\"offsetgroup\":\"Facebook\",\"orientation\":\"v\",\"showlegend\":true,\"x\":[\"Facebook\",\"Facebook\",\"Facebook\",\"Facebook\",\"Facebook\",\"Facebook\",\"Facebook\",\"Facebook\",\"Facebook\",\"Facebook\",\"Facebook\",\"Facebook\",\"Facebook\",\"Facebook\",\"Facebook\",\"Facebook\",\"Facebook\",\"Facebook\",\"Facebook\",\"Facebook\",\"Facebook\",\"Facebook\",\"Facebook\",\"Facebook\",\"Facebook\",\"Facebook\",\"Facebook\",\"Facebook\",\"Facebook\",\"Facebook\",\"Facebook\",\"Facebook\",\"Facebook\",\"Facebook\",\"Facebook\",\"Facebook\",\"Facebook\",\"Facebook\",\"Facebook\",\"Facebook\",\"Facebook\",\"Facebook\",\"Facebook\",\"Facebook\",\"Facebook\",\"Facebook\",\"Facebook\",\"Facebook\",\"Facebook\",\"Facebook\",\"Facebook\",\"Facebook\",\"Facebook\",\"Facebook\",\"Facebook\",\"Facebook\",\"Facebook\",\"Facebook\",\"Facebook\",\"Facebook\",\"Facebook\",\"Facebook\",\"Facebook\",\"Facebook\",\"Facebook\",\"Facebook\",\"Facebook\",\"Facebook\",\"Facebook\",\"Facebook\",\"Facebook\",\"Facebook\",\"Facebook\",\"Facebook\",\"Facebook\",\"Facebook\",\"Facebook\",\"Facebook\",\"Facebook\",\"Facebook\",\"Facebook\",\"Facebook\",\"Facebook\",\"Facebook\",\"Facebook\",\"Facebook\",\"Facebook\",\"Facebook\",\"Facebook\",\"Facebook\",\"Facebook\",\"Facebook\",\"Facebook\",\"Facebook\",\"Facebook\",\"Facebook\",\"Facebook\",\"Facebook\",\"Facebook\",\"Facebook\",\"Facebook\",\"Facebook\",\"Facebook\",\"Facebook\",\"Facebook\",\"Facebook\",\"Facebook\",\"Facebook\",\"Facebook\",\"Facebook\",\"Facebook\",\"Facebook\",\"Facebook\",\"Facebook\",\"Facebook\",\"Facebook\",\"Facebook\",\"Facebook\",\"Facebook\",\"Facebook\",\"Facebook\",\"Facebook\",\"Facebook\",\"Facebook\",\"Facebook\",\"Facebook\",\"Facebook\",\"Facebook\",\"Facebook\",\"Facebook\",\"Facebook\",\"Facebook\",\"Facebook\",\"Facebook\",\"Facebook\",\"Facebook\",\"Facebook\",\"Facebook\",\"Facebook\",\"Facebook\",\"Facebook\",\"Facebook\",\"Facebook\",\"Facebook\",\"Facebook\",\"Facebook\",\"Facebook\",\"Facebook\",\"Facebook\",\"Facebook\",\"Facebook\",\"Facebook\",\"Facebook\",\"Facebook\",\"Facebook\",\"Facebook\",\"Facebook\",\"Facebook\",\"Facebook\",\"Facebook\",\"Facebook\",\"Facebook\",\"Facebook\",\"Facebook\",\"Facebook\",\"Facebook\",\"Facebook\",\"Facebook\",\"Facebook\",\"Facebook\",\"Facebook\",\"Facebook\",\"Facebook\",\"Facebook\",\"Facebook\",\"Facebook\",\"Facebook\",\"Facebook\",\"Facebook\",\"Facebook\",\"Facebook\",\"Facebook\",\"Facebook\",\"Facebook\",\"Facebook\",\"Facebook\",\"Facebook\",\"Facebook\",\"Facebook\",\"Facebook\",\"Facebook\",\"Facebook\",\"Facebook\",\"Facebook\",\"Facebook\",\"Facebook\",\"Facebook\",\"Facebook\",\"Facebook\",\"Facebook\",\"Facebook\",\"Facebook\",\"Facebook\",\"Facebook\",\"Facebook\",\"Facebook\",\"Facebook\",\"Facebook\",\"Facebook\",\"Facebook\",\"Facebook\",\"Facebook\",\"Facebook\",\"Facebook\",\"Facebook\",\"Facebook\",\"Facebook\",\"Facebook\",\"Facebook\",\"Facebook\",\"Facebook\",\"Facebook\",\"Facebook\",\"Facebook\",\"Facebook\",\"Facebook\",\"Facebook\",\"Facebook\",\"Facebook\",\"Facebook\",\"Facebook\",\"Facebook\",\"Facebook\",\"Facebook\",\"Facebook\",\"Facebook\",\"Facebook\",\"Facebook\",\"Facebook\",\"Facebook\",\"Facebook\",\"Facebook\",\"Facebook\",\"Facebook\",\"Facebook\",\"Facebook\",\"Facebook\",\"Facebook\",\"Facebook\",\"Facebook\",\"Facebook\"],\"x0\":\" \",\"xaxis\":\"x\",\"y\":[1.0,0.0,0.0,1.95,0.0,11.708333333333332,5.0,4.35,0.45,3.45,0.0,3.75,1.0,10.0,1.0,7.216666666666667,1.0,1.95,6.3,11.708333333333332,2.0,11.708333333333332,1.0,11.708333333333332,0.18333333333333332,3.6833333333333336,10.0,0.0,0.25,0.0,1.0,2.6,0.0,7.0,0.75,2.1166666666666667,7.0,4.0,2.1666666666666665,5.8,4.816666666666666,4.0,1.3333333333333333,7.916666666666667,11.708333333333332,1.05,0.6666666666666666,10.0,0.7666666666666667,0.95,0.0,2.0,0.6833333333333333,1.5666666666666667,4.133333333333334,10.0,7.0,6.0,2.2666666666666666,10.0,4.0,2.6833333333333336,0.8333333333333334,0.21666666666666667,0.0,4.0,6.25,0.0,2.85,1.9,2.0,2.0,2.9,1.0,0.25,2.8666666666666667,1.3333333333333333,8.0,0.08333333333333333,0.0,0.0,1.0,0.6166666666666667,1.2666666666666666,0.55,0.2,0.0,1.8666666666666667,0.18333333333333332,2.533333333333333,1.2833333333333332,0.4666666666666667,1.4,0.05,0.5333333333333333,0.03333333333333333,3.9166666666666665,0.0,6.233333333333333,0.0,2.0,2.0,8.15,0.5,5.0,5.05,1.0,0.0,5.0,6.0,11.708333333333332,1.1166666666666667,5.016666666666667,6.466666666666667,2.1166666666666667,2.0,0.15,5.0,1.0,10.0,11.708333333333332,2.0,4.0,0.0,0.08333333333333333,1.0,0.0,5.0,0.21666666666666667,0.0,3.3333333333333335,1.0,0.9166666666666666,0.21666666666666667,0.016666666666666666,0.4,0.13333333333333333,0.5333333333333333,0.4,0.5,0.0,5.0,5.0,1.8333333333333335,0.6166666666666667,5.0,0.5333333333333333,5.0,0.5,1.6,3.6666666666666665,6.1,1.0,10.0,4.0,0.55,0.03333333333333333,0.5,1.5,0.26666666666666666,0.7,1.1833333333333333,1.9,0.6,1.0,4.333333333333333,11.708333333333332,0.31666666666666665,0.9666666666666667,0.13333333333333333,5.0,5.0,1.0166666666666666,2.0,2.9166666666666665,0.5,5.0,5.0,11.708333333333332,5.0,3.55,2.8333333333333335,0.0,3.0,0.0,2.5,1.0833333333333333,0.0,2.1666666666666665,1.0,10.0,0.95,5.616666666666667,0.03333333333333333,8.0,0.0,1.3333333333333333,2.3833333333333333,0.55,10.0,1.0,4.0,11.708333333333332,4.966666666666667,1.0166666666666666,0.0,0.13333333333333333,1.0,5.716666666666667,5.0,1.0,0.5,3.0,2.3666666666666667,1.75,1.0,5.0,5.0,0.016666666666666666,0.1,10.0,0.5666666666666667,0.25,0.0,2.0833333333333335,0.016666666666666666,8.366666666666667,0.0,3.0166666666666666,1.2833333333333332,2.75,5.083333333333333,0.5666666666666667,2.4166666666666665,0.0,0.65,3.0,1.1333333333333333,0.0,11.708333333333332,0.2833333333333333,1.0,5.083333333333333,0.4166666666666667,0.5,11.708333333333332,9.483333333333333,0.0,0.0,0.5833333333333334,0.5],\"y0\":\" \",\"yaxis\":\"y\",\"type\":\"box\",\"fillcolor\":\"white\"},{\"alignmentgroup\":\"True\",\"hovertemplate\":\"app=%{x}\\u003cbr\\u003etime2=%{y}\\u003cextra\\u003e\\u003c\\u002fextra\\u003e\",\"legendgroup\":\"YouTube\",\"marker\":{\"color\":\"#ab63fa\"},\"name\":\"YouTube\",\"notched\":false,\"offsetgroup\":\"YouTube\",\"orientation\":\"v\",\"showlegend\":true,\"x\":[\"YouTube\",\"YouTube\",\"YouTube\",\"YouTube\",\"YouTube\",\"YouTube\",\"YouTube\",\"YouTube\",\"YouTube\",\"YouTube\",\"YouTube\",\"YouTube\",\"YouTube\",\"YouTube\",\"YouTube\",\"YouTube\",\"YouTube\",\"YouTube\",\"YouTube\",\"YouTube\",\"YouTube\",\"YouTube\",\"YouTube\",\"YouTube\",\"YouTube\",\"YouTube\",\"YouTube\",\"YouTube\",\"YouTube\",\"YouTube\",\"YouTube\",\"YouTube\",\"YouTube\",\"YouTube\",\"YouTube\",\"YouTube\",\"YouTube\",\"YouTube\",\"YouTube\",\"YouTube\",\"YouTube\",\"YouTube\",\"YouTube\",\"YouTube\",\"YouTube\",\"YouTube\",\"YouTube\",\"YouTube\",\"YouTube\",\"YouTube\",\"YouTube\",\"YouTube\",\"YouTube\",\"YouTube\",\"YouTube\",\"YouTube\",\"YouTube\",\"YouTube\",\"YouTube\",\"YouTube\",\"YouTube\",\"YouTube\",\"YouTube\",\"YouTube\",\"YouTube\",\"YouTube\",\"YouTube\",\"YouTube\",\"YouTube\",\"YouTube\",\"YouTube\",\"YouTube\",\"YouTube\",\"YouTube\",\"YouTube\",\"YouTube\",\"YouTube\",\"YouTube\",\"YouTube\",\"YouTube\",\"YouTube\",\"YouTube\",\"YouTube\",\"YouTube\",\"YouTube\",\"YouTube\",\"YouTube\",\"YouTube\",\"YouTube\",\"YouTube\",\"YouTube\",\"YouTube\",\"YouTube\",\"YouTube\",\"YouTube\",\"YouTube\",\"YouTube\",\"YouTube\",\"YouTube\",\"YouTube\",\"YouTube\",\"YouTube\",\"YouTube\",\"YouTube\",\"YouTube\",\"YouTube\",\"YouTube\",\"YouTube\",\"YouTube\",\"YouTube\",\"YouTube\",\"YouTube\",\"YouTube\",\"YouTube\",\"YouTube\",\"YouTube\",\"YouTube\",\"YouTube\",\"YouTube\",\"YouTube\",\"YouTube\",\"YouTube\",\"YouTube\",\"YouTube\",\"YouTube\",\"YouTube\",\"YouTube\",\"YouTube\",\"YouTube\",\"YouTube\",\"YouTube\",\"YouTube\",\"YouTube\",\"YouTube\",\"YouTube\",\"YouTube\",\"YouTube\",\"YouTube\",\"YouTube\",\"YouTube\",\"YouTube\",\"YouTube\",\"YouTube\",\"YouTube\",\"YouTube\",\"YouTube\",\"YouTube\",\"YouTube\",\"YouTube\",\"YouTube\",\"YouTube\",\"YouTube\",\"YouTube\",\"YouTube\",\"YouTube\",\"YouTube\",\"YouTube\",\"YouTube\",\"YouTube\",\"YouTube\",\"YouTube\",\"YouTube\",\"YouTube\",\"YouTube\",\"YouTube\",\"YouTube\",\"YouTube\",\"YouTube\",\"YouTube\",\"YouTube\",\"YouTube\",\"YouTube\",\"YouTube\",\"YouTube\",\"YouTube\",\"YouTube\",\"YouTube\",\"YouTube\",\"YouTube\",\"YouTube\",\"YouTube\",\"YouTube\",\"YouTube\",\"YouTube\",\"YouTube\",\"YouTube\",\"YouTube\",\"YouTube\",\"YouTube\",\"YouTube\",\"YouTube\",\"YouTube\",\"YouTube\",\"YouTube\",\"YouTube\",\"YouTube\",\"YouTube\",\"YouTube\",\"YouTube\",\"YouTube\",\"YouTube\",\"YouTube\",\"YouTube\",\"YouTube\",\"YouTube\",\"YouTube\",\"YouTube\",\"YouTube\",\"YouTube\",\"YouTube\",\"YouTube\",\"YouTube\",\"YouTube\",\"YouTube\",\"YouTube\",\"YouTube\",\"YouTube\",\"YouTube\",\"YouTube\",\"YouTube\",\"YouTube\",\"YouTube\",\"YouTube\",\"YouTube\",\"YouTube\",\"YouTube\",\"YouTube\",\"YouTube\",\"YouTube\",\"YouTube\",\"YouTube\",\"YouTube\",\"YouTube\",\"YouTube\",\"YouTube\",\"YouTube\",\"YouTube\",\"YouTube\",\"YouTube\",\"YouTube\",\"YouTube\",\"YouTube\",\"YouTube\",\"YouTube\",\"YouTube\",\"YouTube\",\"YouTube\",\"YouTube\",\"YouTube\",\"YouTube\",\"YouTube\"],\"x0\":\" \",\"xaxis\":\"x\",\"y\":[2.0,1.0,8.0,2.6666666666666665,3.4333333333333336,3.0,2.0,6.283333333333333,0.5833333333333334,8.875,2.0,3.75,2.0,5.0,8.875,8.875,9.0,1.3,0.8166666666666667,8.183333333333334,0.0,0.0,3.8333333333333335,0.4166666666666667,2.35,0.48333333333333334,8.875,0.0,1.3833333333333333,1.0,8.0,1.3833333333333333,0.0,8.875,1.0,1.1333333333333333,1.0,4.583333333333333,1.25,0.31666666666666665,0.0,8.875,5.516666666666667,8.875,8.875,0.0,0.0,0.0,1.1666666666666667,0.18333333333333332,1.0,3.0,0.5166666666666667,0.0,1.1333333333333333,3.0,0.0,1.0,0.11666666666666667,2.0,1.0,0.0,0.5,3.5,8.875,2.0,2.3,8.875,0.23333333333333334,0.0,0.0,1.0,2.6666666666666665,8.875,2.0,1.5166666666666666,1.0,8.875,7.833333333333333,0.0,1.0,0.0,2.3166666666666664,0.0,0.08333333333333333,0.2,1.8333333333333335,6.283333333333333,0.4166666666666667,0.0,0.0,2.4333333333333336,0.0,0.5,0.3333333333333333,1.3333333333333333,3.7,0.08333333333333333,0.25,7.0,8.875,0.0,2.0,1.0,5.0,3.0,0.0,3.0,3.0,8.875,8.875,0.9833333333333333,0.2833333333333333,2.0,0.8833333333333333,3.5,0.6166666666666667,1.0,0.0,8.875,8.875,9.0,0.0,0.0,0.15,0.0,4.0,2.0,0.16666666666666666,0.5,0.25,6.0,0.21666666666666667,0.0,1.1833333333333333,0.5,0.5833333333333334,0.03333333333333333,0.08333333333333333,2.0,3.0,2.0,3.0,0.9,0.0,1.0,0.2833333333333333,7.0,0.0,0.0,0.0,3.7333333333333334,3.0,2.0,4.0,0.0,0.15,0.5,0.5,0.0,0.0,0.0,5.1,2.4166666666666665,1.0,4.333333333333333,0.0,0.0,3.0166666666666666,0.016666666666666666,7.0,3.0,2.033333333333333,3.0,1.0,1.2833333333333332,3.0,0.0,8.875,8.875,1.3666666666666667,4.116666666666666,2.5,8.875,0.0,0.1,0.5,5.0,0.5,1.0,5.0,8.875,8.875,0.0,0.0,3.2,0.13333333333333333,8.875,0.0,9.0,0.0,6.0,8.875,0.0,0.0,0.0,1.0833333333333333,0.08333333333333333,8.875,3.0,4.0,0.0,5.0,1.0,2.3333333333333335,3.0,5.0,0.0,8.875,0.0,1.75,1.4333333333333333,0.0,0.0,1.5,0.05,3.8333333333333335,0.0,0.0,0.25,1.7833333333333332,4.033333333333333,2.066666666666667,0.9166666666666666,5.216666666666667,0.0,1.0,1.0,4.5,2.0,0.0,0.0,3.033333333333333,0.0,0.0,8.875,0.2833333333333333,0.3333333333333333,0.0,1.1666666666666667,0.25],\"y0\":\" \",\"yaxis\":\"y\",\"type\":\"box\",\"fillcolor\":\"white\"}],                        {\"template\":{\"data\":{\"histogram2dcontour\":[{\"type\":\"histogram2dcontour\",\"colorbar\":{\"outlinewidth\":0,\"ticks\":\"\"},\"colorscale\":[[0.0,\"#0d0887\"],[0.1111111111111111,\"#46039f\"],[0.2222222222222222,\"#7201a8\"],[0.3333333333333333,\"#9c179e\"],[0.4444444444444444,\"#bd3786\"],[0.5555555555555556,\"#d8576b\"],[0.6666666666666666,\"#ed7953\"],[0.7777777777777778,\"#fb9f3a\"],[0.8888888888888888,\"#fdca26\"],[1.0,\"#f0f921\"]]}],\"choropleth\":[{\"type\":\"choropleth\",\"colorbar\":{\"outlinewidth\":0,\"ticks\":\"\"}}],\"histogram2d\":[{\"type\":\"histogram2d\",\"colorbar\":{\"outlinewidth\":0,\"ticks\":\"\"},\"colorscale\":[[0.0,\"#0d0887\"],[0.1111111111111111,\"#46039f\"],[0.2222222222222222,\"#7201a8\"],[0.3333333333333333,\"#9c179e\"],[0.4444444444444444,\"#bd3786\"],[0.5555555555555556,\"#d8576b\"],[0.6666666666666666,\"#ed7953\"],[0.7777777777777778,\"#fb9f3a\"],[0.8888888888888888,\"#fdca26\"],[1.0,\"#f0f921\"]]}],\"heatmap\":[{\"type\":\"heatmap\",\"colorbar\":{\"outlinewidth\":0,\"ticks\":\"\"},\"colorscale\":[[0.0,\"#0d0887\"],[0.1111111111111111,\"#46039f\"],[0.2222222222222222,\"#7201a8\"],[0.3333333333333333,\"#9c179e\"],[0.4444444444444444,\"#bd3786\"],[0.5555555555555556,\"#d8576b\"],[0.6666666666666666,\"#ed7953\"],[0.7777777777777778,\"#fb9f3a\"],[0.8888888888888888,\"#fdca26\"],[1.0,\"#f0f921\"]]}],\"heatmapgl\":[{\"type\":\"heatmapgl\",\"colorbar\":{\"outlinewidth\":0,\"ticks\":\"\"},\"colorscale\":[[0.0,\"#0d0887\"],[0.1111111111111111,\"#46039f\"],[0.2222222222222222,\"#7201a8\"],[0.3333333333333333,\"#9c179e\"],[0.4444444444444444,\"#bd3786\"],[0.5555555555555556,\"#d8576b\"],[0.6666666666666666,\"#ed7953\"],[0.7777777777777778,\"#fb9f3a\"],[0.8888888888888888,\"#fdca26\"],[1.0,\"#f0f921\"]]}],\"contourcarpet\":[{\"type\":\"contourcarpet\",\"colorbar\":{\"outlinewidth\":0,\"ticks\":\"\"}}],\"contour\":[{\"type\":\"contour\",\"colorbar\":{\"outlinewidth\":0,\"ticks\":\"\"},\"colorscale\":[[0.0,\"#0d0887\"],[0.1111111111111111,\"#46039f\"],[0.2222222222222222,\"#7201a8\"],[0.3333333333333333,\"#9c179e\"],[0.4444444444444444,\"#bd3786\"],[0.5555555555555556,\"#d8576b\"],[0.6666666666666666,\"#ed7953\"],[0.7777777777777778,\"#fb9f3a\"],[0.8888888888888888,\"#fdca26\"],[1.0,\"#f0f921\"]]}],\"surface\":[{\"type\":\"surface\",\"colorbar\":{\"outlinewidth\":0,\"ticks\":\"\"},\"colorscale\":[[0.0,\"#0d0887\"],[0.1111111111111111,\"#46039f\"],[0.2222222222222222,\"#7201a8\"],[0.3333333333333333,\"#9c179e\"],[0.4444444444444444,\"#bd3786\"],[0.5555555555555556,\"#d8576b\"],[0.6666666666666666,\"#ed7953\"],[0.7777777777777778,\"#fb9f3a\"],[0.8888888888888888,\"#fdca26\"],[1.0,\"#f0f921\"]]}],\"mesh3d\":[{\"type\":\"mesh3d\",\"colorbar\":{\"outlinewidth\":0,\"ticks\":\"\"}}],\"scatter\":[{\"fillpattern\":{\"fillmode\":\"overlay\",\"size\":10,\"solidity\":0.2},\"type\":\"scatter\"}],\"parcoords\":[{\"type\":\"parcoords\",\"line\":{\"colorbar\":{\"outlinewidth\":0,\"ticks\":\"\"}}}],\"scatterpolargl\":[{\"type\":\"scatterpolargl\",\"marker\":{\"colorbar\":{\"outlinewidth\":0,\"ticks\":\"\"}}}],\"bar\":[{\"error_x\":{\"color\":\"#2a3f5f\"},\"error_y\":{\"color\":\"#2a3f5f\"},\"marker\":{\"line\":{\"color\":\"#E5ECF6\",\"width\":0.5},\"pattern\":{\"fillmode\":\"overlay\",\"size\":10,\"solidity\":0.2}},\"type\":\"bar\"}],\"scattergeo\":[{\"type\":\"scattergeo\",\"marker\":{\"colorbar\":{\"outlinewidth\":0,\"ticks\":\"\"}}}],\"scatterpolar\":[{\"type\":\"scatterpolar\",\"marker\":{\"colorbar\":{\"outlinewidth\":0,\"ticks\":\"\"}}}],\"histogram\":[{\"marker\":{\"pattern\":{\"fillmode\":\"overlay\",\"size\":10,\"solidity\":0.2}},\"type\":\"histogram\"}],\"scattergl\":[{\"type\":\"scattergl\",\"marker\":{\"colorbar\":{\"outlinewidth\":0,\"ticks\":\"\"}}}],\"scatter3d\":[{\"type\":\"scatter3d\",\"line\":{\"colorbar\":{\"outlinewidth\":0,\"ticks\":\"\"}},\"marker\":{\"colorbar\":{\"outlinewidth\":0,\"ticks\":\"\"}}}],\"scattermapbox\":[{\"type\":\"scattermapbox\",\"marker\":{\"colorbar\":{\"outlinewidth\":0,\"ticks\":\"\"}}}],\"scatterternary\":[{\"type\":\"scatterternary\",\"marker\":{\"colorbar\":{\"outlinewidth\":0,\"ticks\":\"\"}}}],\"scattercarpet\":[{\"type\":\"scattercarpet\",\"marker\":{\"colorbar\":{\"outlinewidth\":0,\"ticks\":\"\"}}}],\"carpet\":[{\"aaxis\":{\"endlinecolor\":\"#2a3f5f\",\"gridcolor\":\"white\",\"linecolor\":\"white\",\"minorgridcolor\":\"white\",\"startlinecolor\":\"#2a3f5f\"},\"baxis\":{\"endlinecolor\":\"#2a3f5f\",\"gridcolor\":\"white\",\"linecolor\":\"white\",\"minorgridcolor\":\"white\",\"startlinecolor\":\"#2a3f5f\"},\"type\":\"carpet\"}],\"table\":[{\"cells\":{\"fill\":{\"color\":\"#EBF0F8\"},\"line\":{\"color\":\"white\"}},\"header\":{\"fill\":{\"color\":\"#C8D4E3\"},\"line\":{\"color\":\"white\"}},\"type\":\"table\"}],\"barpolar\":[{\"marker\":{\"line\":{\"color\":\"#E5ECF6\",\"width\":0.5},\"pattern\":{\"fillmode\":\"overlay\",\"size\":10,\"solidity\":0.2}},\"type\":\"barpolar\"}],\"pie\":[{\"automargin\":true,\"type\":\"pie\"}]},\"layout\":{\"autotypenumbers\":\"strict\",\"colorway\":[\"#636efa\",\"#EF553B\",\"#00cc96\",\"#ab63fa\",\"#FFA15A\",\"#19d3f3\",\"#FF6692\",\"#B6E880\",\"#FF97FF\",\"#FECB52\"],\"font\":{\"color\":\"#2a3f5f\"},\"hovermode\":\"closest\",\"hoverlabel\":{\"align\":\"left\"},\"paper_bgcolor\":\"white\",\"plot_bgcolor\":\"#E5ECF6\",\"polar\":{\"bgcolor\":\"#E5ECF6\",\"angularaxis\":{\"gridcolor\":\"white\",\"linecolor\":\"white\",\"ticks\":\"\"},\"radialaxis\":{\"gridcolor\":\"white\",\"linecolor\":\"white\",\"ticks\":\"\"}},\"ternary\":{\"bgcolor\":\"#E5ECF6\",\"aaxis\":{\"gridcolor\":\"white\",\"linecolor\":\"white\",\"ticks\":\"\"},\"baxis\":{\"gridcolor\":\"white\",\"linecolor\":\"white\",\"ticks\":\"\"},\"caxis\":{\"gridcolor\":\"white\",\"linecolor\":\"white\",\"ticks\":\"\"}},\"coloraxis\":{\"colorbar\":{\"outlinewidth\":0,\"ticks\":\"\"}},\"colorscale\":{\"sequential\":[[0.0,\"#0d0887\"],[0.1111111111111111,\"#46039f\"],[0.2222222222222222,\"#7201a8\"],[0.3333333333333333,\"#9c179e\"],[0.4444444444444444,\"#bd3786\"],[0.5555555555555556,\"#d8576b\"],[0.6666666666666666,\"#ed7953\"],[0.7777777777777778,\"#fb9f3a\"],[0.8888888888888888,\"#fdca26\"],[1.0,\"#f0f921\"]],\"sequentialminus\":[[0.0,\"#0d0887\"],[0.1111111111111111,\"#46039f\"],[0.2222222222222222,\"#7201a8\"],[0.3333333333333333,\"#9c179e\"],[0.4444444444444444,\"#bd3786\"],[0.5555555555555556,\"#d8576b\"],[0.6666666666666666,\"#ed7953\"],[0.7777777777777778,\"#fb9f3a\"],[0.8888888888888888,\"#fdca26\"],[1.0,\"#f0f921\"]],\"diverging\":[[0,\"#8e0152\"],[0.1,\"#c51b7d\"],[0.2,\"#de77ae\"],[0.3,\"#f1b6da\"],[0.4,\"#fde0ef\"],[0.5,\"#f7f7f7\"],[0.6,\"#e6f5d0\"],[0.7,\"#b8e186\"],[0.8,\"#7fbc41\"],[0.9,\"#4d9221\"],[1,\"#276419\"]]},\"xaxis\":{\"gridcolor\":\"white\",\"linecolor\":\"white\",\"ticks\":\"\",\"title\":{\"standoff\":15},\"zerolinecolor\":\"white\",\"automargin\":true,\"zerolinewidth\":2},\"yaxis\":{\"gridcolor\":\"white\",\"linecolor\":\"white\",\"ticks\":\"\",\"title\":{\"standoff\":15},\"zerolinecolor\":\"white\",\"automargin\":true,\"zerolinewidth\":2},\"scene\":{\"xaxis\":{\"backgroundcolor\":\"#E5ECF6\",\"gridcolor\":\"white\",\"linecolor\":\"white\",\"showbackground\":true,\"ticks\":\"\",\"zerolinecolor\":\"white\",\"gridwidth\":2},\"yaxis\":{\"backgroundcolor\":\"#E5ECF6\",\"gridcolor\":\"white\",\"linecolor\":\"white\",\"showbackground\":true,\"ticks\":\"\",\"zerolinecolor\":\"white\",\"gridwidth\":2},\"zaxis\":{\"backgroundcolor\":\"#E5ECF6\",\"gridcolor\":\"white\",\"linecolor\":\"white\",\"showbackground\":true,\"ticks\":\"\",\"zerolinecolor\":\"white\",\"gridwidth\":2}},\"shapedefaults\":{\"line\":{\"color\":\"#2a3f5f\"}},\"annotationdefaults\":{\"arrowcolor\":\"#2a3f5f\",\"arrowhead\":0,\"arrowwidth\":1},\"geo\":{\"bgcolor\":\"white\",\"landcolor\":\"#E5ECF6\",\"subunitcolor\":\"white\",\"showland\":true,\"showlakes\":true,\"lakecolor\":\"white\"},\"title\":{\"x\":0.05},\"mapbox\":{\"style\":\"light\"}}},\"xaxis\":{\"anchor\":\"y\",\"domain\":[0.0,1.0],\"title\":{\"text\":\"app\"},\"categoryorder\":\"array\",\"categoryarray\":[\"TikTok\",\"Instagram\",\"Facebook\",\"YouTube\"]},\"yaxis\":{\"anchor\":\"x\",\"domain\":[0.0,1.0],\"title\":{\"text\":\"time2\"}},\"legend\":{\"title\":{\"text\":\"app\"},\"tracegroupgap\":0},\"margin\":{\"t\":60},\"boxmode\":\"overlay\",\"showlegend\":false,\"plot_bgcolor\":\"white\"},                        {\"responsive\": true}                    ).then(function(){\n",
              "                            \n",
              "var gd = document.getElementById('ffc53641-df35-4fd7-89ef-cb19fe276c3b');\n",
              "var x = new MutationObserver(function (mutations, observer) {{\n",
              "        var display = window.getComputedStyle(gd).display;\n",
              "        if (!display || display === 'none') {{\n",
              "            console.log([gd, 'removed!']);\n",
              "            Plotly.purge(gd);\n",
              "            observer.disconnect();\n",
              "        }}\n",
              "}});\n",
              "\n",
              "// Listen for the removal of the full notebook cells\n",
              "var notebookContainer = gd.closest('#notebook-container');\n",
              "if (notebookContainer) {{\n",
              "    x.observe(notebookContainer, {childList: true});\n",
              "}}\n",
              "\n",
              "// Listen for the clearing of the current output cell\n",
              "var outputEl = gd.closest('.output');\n",
              "if (outputEl) {{\n",
              "    x.observe(outputEl, {childList: true});\n",
              "}}\n",
              "\n",
              "                        })                };                            </script>        </div>\n",
              "</body>\n",
              "</html>"
            ]
          },
          "metadata": {}
        }
      ]
    }
  ]
}