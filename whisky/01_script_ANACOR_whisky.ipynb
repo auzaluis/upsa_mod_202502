{
  "nbformat": 4,
  "nbformat_minor": 0,
  "metadata": {
    "colab": {
      "provenance": [],
      "mount_file_id": "1CuNukcptfLaeuTX7dMiMIsmHfxlEdh3A",
      "authorship_tag": "ABX9TyPtVk6mDEcAiqAdKzrxAEOu",
      "include_colab_link": true
    },
    "kernelspec": {
      "name": "python3",
      "display_name": "Python 3"
    },
    "language_info": {
      "name": "python"
    }
  },
  "cells": [
    {
      "cell_type": "markdown",
      "metadata": {
        "id": "view-in-github",
        "colab_type": "text"
      },
      "source": [
        "<a href=\"https://colab.research.google.com/github/auzaluis/upsa_mod_202502/blob/master/whisky/01_script_ANACOR_whisky.ipynb\" target=\"_parent\"><img src=\"https://colab.research.google.com/assets/colab-badge.svg\" alt=\"Open In Colab\"/></a>"
      ]
    },
    {
      "cell_type": "markdown",
      "source": [
        "## Análisis de correspondencias"
      ],
      "metadata": {
        "id": "N8QF_tT_2Tzy"
      }
    },
    {
      "cell_type": "code",
      "execution_count": null,
      "metadata": {
        "id": "s4aER1ts2Cql"
      },
      "outputs": [],
      "source": [
        "import pandas as pd"
      ]
    },
    {
      "cell_type": "code",
      "source": [
        "## Importar excel\n",
        "dir = '/content/drive/MyDrive/Teaching/UPSA/2025.02/modelacion/whisky/whisky_db.xlsx'\n",
        "df = pd.read_excel(dir)"
      ],
      "metadata": {
        "id": "kub4DpN42Zxx"
      },
      "execution_count": null,
      "outputs": []
    },
    {
      "cell_type": "code",
      "source": [
        "# Pivotar tabla\n",
        "df_pivot = df.melt(\n",
        "    var_name='atributo',\n",
        "    value_name='marcas'\n",
        ")"
      ],
      "metadata": {
        "id": "ux-UkCW64okZ"
      },
      "execution_count": null,
      "outputs": []
    },
    {
      "cell_type": "code",
      "source": [
        "# Tabla de contingencia\n",
        "tabla_cont = pd.crosstab(\n",
        "    index=df_pivot['atributo'],\n",
        "    columns=df_pivot['marcas']\n",
        ")"
      ],
      "metadata": {
        "id": "LYaXs0Hf5DiR"
      },
      "execution_count": null,
      "outputs": []
    },
    {
      "cell_type": "code",
      "source": [
        "# Análisis de correspondencias\n",
        "!pip install prince\n",
        "import prince"
      ],
      "metadata": {
        "id": "zkdZUlI16TWp"
      },
      "execution_count": null,
      "outputs": []
    },
    {
      "cell_type": "code",
      "source": [
        "# Motor\n",
        "ca = prince.CA(n_components=2)\n",
        "ca = ca.fit(tabla_cont)"
      ],
      "metadata": {
        "id": "a9HYJoAS6mAx"
      },
      "execution_count": null,
      "outputs": []
    },
    {
      "cell_type": "code",
      "source": [
        "# Coordenadas de los atributos\n",
        "coord_atributos = ca.row_coordinates(tabla_cont)\n",
        "coord_atributos['Tipo'] = 'Atributos'\n",
        "coord_atributos"
      ],
      "metadata": {
        "id": "eeI6cQO47aIh"
      },
      "execution_count": null,
      "outputs": []
    },
    {
      "cell_type": "code",
      "source": [
        "# Coordenadas de las marcas\n",
        "coord_marcas = ca.column_coordinates(tabla_cont)\n",
        "coord_marcas['Tipo'] = 'Marcas'\n",
        "coord_marcas"
      ],
      "metadata": {
        "id": "BBHWNUl678Xh"
      },
      "execution_count": null,
      "outputs": []
    },
    {
      "cell_type": "code",
      "source": [
        "coord = (\n",
        "    pd.concat([coord_atributos, coord_marcas])\n",
        "    .reset_index()\n",
        "    .rename(columns={\n",
        "        'index': 'Label',\n",
        "        0: 'Dim1',\n",
        "        1: 'Dim2'\n",
        "    })\n",
        ")"
      ],
      "metadata": {
        "id": "dahSi6jU8Wfp"
      },
      "execution_count": null,
      "outputs": []
    },
    {
      "cell_type": "code",
      "source": [
        "# Gráfica\n",
        "from plotnine import *\n",
        "\n",
        "(\n",
        "    ggplot(coord, aes(x = 'Dim1', y = 'Dim2', label = 'Label', color = 'Tipo')) +\n",
        "    geom_vline(xintercept = 0, linetype = 'dashed', color = 'gray') +\n",
        "    geom_hline(yintercept = 0, linetype = 'dashed', color = 'gray') +\n",
        "    geom_label(size = 8) +\n",
        "    expand_limits(x = (-0.3,0.6)) +\n",
        "    theme_minimal() +\n",
        "    labs(subtitle = 'Posicionamiento de marcas de Whisky') +\n",
        "    theme(\n",
        "        legend_position = 'none',\n",
        "        panel_grid = element_blank(),\n",
        "        axis_text = element_blank(),\n",
        "        axis_title = element_blank()\n",
        "    )\n",
        ")"
      ],
      "metadata": {
        "id": "xduVHmOkiV_I"
      },
      "execution_count": null,
      "outputs": []
    }
  ]
}