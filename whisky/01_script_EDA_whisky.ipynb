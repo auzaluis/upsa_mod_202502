{
  "nbformat": 4,
  "nbformat_minor": 0,
  "metadata": {
    "colab": {
      "provenance": [],
      "mount_file_id": "1j5rFklM9RL0DRvh4V3oupSWbfrJJizbC",
      "authorship_tag": "ABX9TyPF68+P2O1T6DrhK6u569S6",
      "include_colab_link": true
    },
    "kernelspec": {
      "name": "python3",
      "display_name": "Python 3"
    },
    "language_info": {
      "name": "python"
    }
  },
  "cells": [
    {
      "cell_type": "markdown",
      "metadata": {
        "id": "view-in-github",
        "colab_type": "text"
      },
      "source": [
        "<a href=\"https://colab.research.google.com/github/auzaluis/upsa_mod_202502/blob/master/whisky/01_script_EDA_whisky.ipynb\" target=\"_parent\"><img src=\"https://colab.research.google.com/assets/colab-badge.svg\" alt=\"Open In Colab\"/></a>"
      ]
    },
    {
      "cell_type": "code",
      "source": [
        "# mount google drive\n",
        "from google.colab import drive\n",
        "drive.mount('/content/drive')"
      ],
      "metadata": {
        "id": "DTOiD0nkYFfp"
      },
      "execution_count": null,
      "outputs": []
    },
    {
      "cell_type": "code",
      "execution_count": null,
      "metadata": {
        "id": "TqkMkGb8WcK7"
      },
      "outputs": [],
      "source": [
        "import pandas as pd\n",
        "import plotly.express as px\n",
        "import re"
      ]
    },
    {
      "cell_type": "code",
      "source": [
        "# Importar parquet\n",
        "dir = '/content/drive/MyDrive/Teaching/UPSA/2025.02/modelacion/whisky/data-whisky.parquet'"
      ],
      "metadata": {
        "id": "0sgJd06bW57W"
      },
      "execution_count": null,
      "outputs": []
    },
    {
      "cell_type": "code",
      "source": [
        "df = pd.read_parquet(dir)"
      ],
      "metadata": {
        "id": "vqtLl5TXXuOC"
      },
      "execution_count": null,
      "outputs": []
    },
    {
      "cell_type": "markdown",
      "source": [
        "Situación Competitiva | Funnel de marca"
      ],
      "metadata": {
        "id": "J14i3ZERct5t"
      }
    },
    {
      "cell_type": "markdown",
      "source": [
        "Lealtad"
      ],
      "metadata": {
        "id": "K1BvfMMCc4Fi"
      }
    },
    {
      "cell_type": "code",
      "source": [
        "df_lealtad = (\n",
        "    df['¿Cuál es la marca que más compra?']\n",
        "    .value_counts()\n",
        "    .reset_index()\n",
        "    .rename(columns={\n",
        "        '¿Cuál es la marca que más compra?': 'Marca',\n",
        "        'count': 'n'\n",
        "    })\n",
        ")"
      ],
      "metadata": {
        "id": "Q0yXiUhqc1O6"
      },
      "execution_count": null,
      "outputs": []
    },
    {
      "cell_type": "code",
      "source": [
        "df_lealtad['Porcentaje'] = df_lealtad['n'] / df_lealtad['n'].sum()\n",
        "df_lealtad['Porcentaje_txt'] = df_lealtad['Porcentaje'].apply(lambda x: str(round( x*100, 0)) + '%')\n",
        "df_lealtad"
      ],
      "metadata": {
        "id": "3VYRzmn1fusk"
      },
      "execution_count": null,
      "outputs": []
    },
    {
      "cell_type": "code",
      "source": [
        "px.bar(\n",
        "    df_lealtad,\n",
        "    x='Marca',\n",
        "    y='Porcentaje',\n",
        "    text='Porcentaje_txt',\n",
        "    title='Lealtad: ¿Cuál es la marca que más compra?'\n",
        ").update_layout(\n",
        "    template='plotly_white',\n",
        "    yaxis_showticklabels=False,\n",
        "    yaxis_showgrid=False,\n",
        "    yaxis_title='',\n",
        "    xaxis_title=''\n",
        ")"
      ],
      "metadata": {
        "id": "Kr7FmynSZATz"
      },
      "execution_count": null,
      "outputs": []
    },
    {
      "cell_type": "markdown",
      "source": [
        "Conocimiento"
      ],
      "metadata": {
        "id": "3Mjq9K_vhfRb"
      }
    },
    {
      "cell_type": "code",
      "source": [
        "df.columns"
      ],
      "metadata": {
        "id": "bdrbpHxwhqr6"
      },
      "execution_count": null,
      "outputs": []
    },
    {
      "cell_type": "code",
      "source": [
        "[col for col in df.columns if col.startswith('Conocimiento')]"
      ],
      "metadata": {
        "id": "lDMLjlOphgOK"
      },
      "execution_count": null,
      "outputs": []
    },
    {
      "cell_type": "code",
      "source": [
        "df_conocimiento_long = df.melt(\n",
        "    id_vars=[],\n",
        "    value_vars=[col for col in df.columns if col.startswith('Conocimiento')],\n",
        "    var_name='KPI',\n",
        "    value_name='Marca'\n",
        ").dropna()"
      ],
      "metadata": {
        "id": "VpgbPNZDhzS6"
      },
      "execution_count": null,
      "outputs": []
    },
    {
      "cell_type": "code",
      "source": [
        "df_conocimiento_long.head()"
      ],
      "metadata": {
        "id": "xxt_9qo9jbka"
      },
      "execution_count": null,
      "outputs": []
    },
    {
      "cell_type": "code",
      "source": [
        "df_conocimiento = (\n",
        "    df_conocimiento_long['Marca']\n",
        "    .value_counts()\n",
        "    .reset_index()\n",
        "    .rename(columns={'count': 'n'})\n",
        ")"
      ],
      "metadata": {
        "id": "LBr10S7OjfwL"
      },
      "execution_count": null,
      "outputs": []
    },
    {
      "cell_type": "code",
      "source": [
        "df_conocimiento['Porcentaje'] = df_conocimiento['n'] / len(df)\n",
        "df_conocimiento['Porcentaje_txt'] = df_conocimiento['Porcentaje'].apply(lambda x: str(round( x*100, 0)) + '%')\n",
        "df_conocimiento"
      ],
      "metadata": {
        "id": "WxmW4rOSj_Mq"
      },
      "execution_count": null,
      "outputs": []
    },
    {
      "cell_type": "code",
      "source": [
        "px.bar(\n",
        "    df_conocimiento,\n",
        "    x='Marca',\n",
        "    y='Porcentaje',\n",
        "    text='Porcentaje_txt',\n",
        "    title='Conocimiento: Cuáles de las siguiente marcas conoce?'\n",
        ").update_layout(\n",
        "    template='plotly_white',\n",
        "    yaxis_showticklabels=False,\n",
        "    yaxis_showgrid=False,\n",
        "    yaxis_title='',\n",
        "    xaxis_title=''\n",
        ")"
      ],
      "metadata": {
        "id": "hvf2vgs_lLPS"
      },
      "execution_count": null,
      "outputs": []
    },
    {
      "cell_type": "markdown",
      "source": [
        "Prueba"
      ],
      "metadata": {
        "id": "F-Ekdw9uvyDi"
      }
    },
    {
      "cell_type": "code",
      "source": [
        "df_prueba_long = df.melt(\n",
        "    id_vars=[],\n",
        "    value_vars=[col for col in df.columns if col.startswith('Prueba')],\n",
        "    var_name='KPI',\n",
        "    value_name='Marca'\n",
        ").dropna()"
      ],
      "metadata": {
        "id": "luN7E9E_vy4p"
      },
      "execution_count": null,
      "outputs": []
    },
    {
      "cell_type": "code",
      "source": [
        "df_prueba = (\n",
        "    df_prueba_long['Marca']\n",
        "    .value_counts()\n",
        "    .reset_index()\n",
        "    .rename(columns={'count': 'n'})\n",
        ")"
      ],
      "metadata": {
        "id": "fIFKe0mBv7i5"
      },
      "execution_count": null,
      "outputs": []
    },
    {
      "cell_type": "code",
      "source": [
        "df_prueba['Porcentaje'] = df_prueba['n'] / len(df)\n",
        "df_prueba['Porcentaje_txt'] = df_prueba['Porcentaje'].apply(lambda x: str(round( x*100, 0)) + '%')"
      ],
      "metadata": {
        "id": "DmFHKtI0wFsh"
      },
      "execution_count": null,
      "outputs": []
    },
    {
      "cell_type": "markdown",
      "source": [
        "Consideración"
      ],
      "metadata": {
        "id": "7hr7nWJgw3wB"
      }
    },
    {
      "cell_type": "code",
      "source": [
        "df['Consideración Chivas'].unique()"
      ],
      "metadata": {
        "id": "gYnUV-X1w7lK"
      },
      "execution_count": null,
      "outputs": []
    },
    {
      "cell_type": "code",
      "source": [
        "consideracion_t2b = ['Creo que SÍ la consideraría', 'Sería mi 1ra opción']\n",
        "consideracion_t2b"
      ],
      "metadata": {
        "id": "Oden3mQaxma5"
      },
      "execution_count": null,
      "outputs": []
    },
    {
      "cell_type": "code",
      "source": [
        "# Ejercicio suelto: Aplicación del top2box\n",
        "df['Consideración Johnny Walker'].apply(lambda x: x in consideracion_t2b).sum()"
      ],
      "metadata": {
        "id": "aCIohYByx5Mx"
      },
      "execution_count": null,
      "outputs": []
    },
    {
      "cell_type": "code",
      "source": [
        "# Ejercicio suelto: Extracción de la marca del nombre de la columna\n",
        "re.search(r'(Consideración\\s)(.+)', 'Consideración Chivas').group(2)"
      ],
      "metadata": {
        "id": "70sfvkj8y3vR"
      },
      "execution_count": null,
      "outputs": []
    },
    {
      "cell_type": "code",
      "source": [
        "# Columnas que inician con: Consideración\n",
        "consideracion_cols = [col for col in df.columns if col.startswith('Consideración')]\n",
        "consideracion_cols"
      ],
      "metadata": {
        "id": "VjqR2zNE0PAR"
      },
      "execution_count": null,
      "outputs": []
    },
    {
      "cell_type": "code",
      "source": [
        "consideracion_dict = []\n",
        "\n",
        "for col in consideracion_cols:\n",
        "  Total = len(df)\n",
        "  n = df[col].apply(lambda x: x in consideracion_t2b).sum()\n",
        "  Porcentaje = n / Total\n",
        "  Porcentaje_txt = str(round(Porcentaje*100, 0)) + '%'\n",
        "  Marca = re.search(r'(Consideración\\s)(.+)', col).group(2)\n",
        "  consideracion_dict.append({\n",
        "      'Marca': Marca,\n",
        "      'n': n,\n",
        "      'Porcentaje': Porcentaje,\n",
        "      'Porcentaje_txt': Porcentaje_txt\n",
        "  })\n"
      ],
      "metadata": {
        "id": "VFIEHDjk0wti"
      },
      "execution_count": null,
      "outputs": []
    },
    {
      "cell_type": "code",
      "source": [
        "df_consideracion = pd.DataFrame(consideracion_dict)\n",
        "df_consideracion"
      ],
      "metadata": {
        "id": "RqQ0cgDp15n6"
      },
      "execution_count": null,
      "outputs": []
    },
    {
      "cell_type": "markdown",
      "source": [
        "Recomendación"
      ],
      "metadata": {
        "id": "ctqA6YHZ3CkR"
      }
    },
    {
      "cell_type": "code",
      "source": [
        "recomendacion_t2b = [9,10]\n",
        "recomendacion_t2b"
      ],
      "metadata": {
        "id": "k4MnsT7z3GHQ"
      },
      "execution_count": null,
      "outputs": []
    },
    {
      "cell_type": "code",
      "source": [
        "recomendacion_cols = [col for col in df.columns if col.startswith('Recomendación')]\n",
        "recomendacion_cols"
      ],
      "metadata": {
        "id": "AqNAtZyOZ2nh"
      },
      "execution_count": null,
      "outputs": []
    },
    {
      "cell_type": "code",
      "source": [
        "recomendacion_dict = []\n",
        "\n",
        "for col in recomendacion_cols:\n",
        "  Total = len(df)\n",
        "  n = df[col].apply(lambda x: x in recomendacion_t2b).sum()\n",
        "  Porcentaje = n / Total\n",
        "  Porcentaje_txt = str(round(Porcentaje*100, 0)) + '%'\n",
        "  Marca = re.search(r'(Recomendación\\s)(.+)', col).group(2)\n",
        "  recomendacion_dict.append({\n",
        "      'Marca': Marca,\n",
        "      'n': n,\n",
        "      'Porcentaje': Porcentaje,\n",
        "      'Porcentaje_txt': Porcentaje_txt\n",
        "  })"
      ],
      "metadata": {
        "id": "n7FUwtswaQcg"
      },
      "execution_count": null,
      "outputs": []
    },
    {
      "cell_type": "code",
      "source": [
        "df_recomendacion = pd.DataFrame(recomendacion_dict)\n",
        "df_recomendacion"
      ],
      "metadata": {
        "id": "HlPVwi2AckIA"
      },
      "execution_count": null,
      "outputs": []
    },
    {
      "cell_type": "code",
      "source": [
        "df_conocimiento['KPI'] = 'Conocimiento'\n",
        "df_consideracion['KPI'] = 'Consideración'\n",
        "df_prueba['KPI'] = 'Prueba'\n",
        "df_lealtad['KPI'] = 'Lealtad'\n",
        "df_recomendacion['KPI'] = 'Recomendación'"
      ],
      "metadata": {
        "id": "0T0pw-3edzcg"
      },
      "execution_count": null,
      "outputs": []
    },
    {
      "cell_type": "code",
      "source": [
        "df_funnel = pd.concat([\n",
        "    df_conocimiento,\n",
        "    df_consideracion,\n",
        "    df_prueba,\n",
        "    df_lealtad,\n",
        "    df_recomendacion\n",
        "])"
      ],
      "metadata": {
        "id": "oy4NDCCpeGuY"
      },
      "execution_count": null,
      "outputs": []
    },
    {
      "cell_type": "code",
      "source": [
        "df_funnel['Marca'] = df_funnel['Marca'].apply(lambda x: 'Chivas Regal' if x == 'Chivas' else x)\n",
        "df_funnel = df_funnel[df_funnel['Marca'] != 'Ninguno']"
      ],
      "metadata": {
        "id": "jyhh66bAgJ84"
      },
      "execution_count": null,
      "outputs": []
    },
    {
      "cell_type": "code",
      "source": [
        "px.bar(\n",
        "    df_funnel,\n",
        "    x = 'Marca',\n",
        "    y = 'Porcentaje',\n",
        "    color = 'KPI',\n",
        "    text = 'Porcentaje_txt',\n",
        "    barmode = 'group',\n",
        "    title = 'Funnel de Marcas de Whisky',\n",
        "    color_discrete_map = {\n",
        "        'Conocimiento': '#72efdd',\n",
        "        'Consideración': '#56cfe1',\n",
        "        'Prueba': '#4ea8de',\n",
        "        'Lealtad': '#5e60ce',\n",
        "        'Recomendación': '#6930c3'\n",
        "        }\n",
        ").update_layout(\n",
        "    template = 'plotly_white',\n",
        "    yaxis_showticklabels = False,\n",
        "    yaxis_ticks = '',\n",
        "    xaxis_ticks = '',\n",
        "    xaxis_title = None,\n",
        "    yaxis_title = None,\n",
        "    legend = {'orientation': 'h', 'y': 1.1},\n",
        "    yaxis_showgrid = False\n",
        ").update_traces(\n",
        "    textfont_size = 10,\n",
        "    textangle = 0\n",
        ")"
      ],
      "metadata": {
        "id": "iIv_atAtgFIp"
      },
      "execution_count": null,
      "outputs": []
    }
  ]
}